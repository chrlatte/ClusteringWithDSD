{
 "cells": [
  {
   "cell_type": "markdown",
   "metadata": {},
   "source": [
    "### func_e_notebook.ipynb\n",
    "# A Notebook to Explore Working With the Func-E library"
   ]
  },
  {
   "cell_type": "markdown",
   "metadata": {},
   "source": [
    "[linked\\nhere](https://github.com/SystemsGenetics/FUNC-E)"
   ]
  },
  {
   "cell_type": "markdown",
   "metadata": {},
   "source": []
  },
  {
   "cell_type": "markdown",
   "metadata": {},
   "source": []
  },
  {
   "cell_type": "code",
   "execution_count": null,
   "metadata": {},
   "outputs": [],
   "source": [
    "!pip install func-e"
   ]
  },
  {
   "cell_type": "markdown",
   "metadata": {},
   "source": [
    "going to create the input files"
   ]
  },
  {
   "cell_type": "markdown",
   "metadata": {},
   "source": [
    "1. first, a **Genomic Background** (--background option) <br>\n",
    "        *i will use this file to pass in the dream3 dataset*"
   ]
  },
  {
   "cell_type": "code",
   "execution_count": null,
   "metadata": {},
   "outputs": [],
   "source": [
    "with open('genomic_background.txt', 'w') as file:\n",
    "    file.write(\"A0A024R1D6\\nA0A024R693\\nA0A024R7C1\\nA0A024R8X1\")"
   ]
  },
  {
   "cell_type": "markdown",
   "metadata": {},
   "source": [
    "2. next, a **Query List**  (--query_list option) <br>\n",
    "    *this file will contain a protein, and what cluster it is in*"
   ]
  },
  {
   "cell_type": "code",
   "execution_count": null,
   "metadata": {},
   "outputs": [],
   "source": []
  },
  {
   "cell_type": "code",
   "execution_count": null,
   "metadata": {},
   "outputs": [],
   "source": []
  },
  {
   "cell_type": "code",
   "execution_count": null,
   "metadata": {},
   "outputs": [],
   "source": []
  },
  {
   "cell_type": "code",
   "execution_count": null,
   "metadata": {},
   "outputs": [],
   "source": []
  }
 ],
 "metadata": {
  "kernelspec": {
   "display_name": "Python 3.10.4 ('diamonds')",
   "language": "python",
   "name": "python3"
  },
  "language_info": {
   "codemirror_mode": {
    "name": "ipython",
    "version": 3
   },
   "file_extension": ".py",
   "mimetype": "text/x-python",
   "name": "python",
   "nbconvert_exporter": "python",
   "pygments_lexer": "ipython3",
   "version": "3.10.4"
  },
  "orig_nbformat": 4,
  "vscode": {
   "interpreter": {
    "hash": "e113e58b579a48e5732235004b32d872074e11125058c2d5e4f294336344a2ee"
   }
  }
 },
 "nbformat": 4,
 "nbformat_minor": 2
}
