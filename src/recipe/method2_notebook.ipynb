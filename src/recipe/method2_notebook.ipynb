{
 "cells": [
  {
   "cell_type": "markdown",
   "metadata": {},
   "source": [
    "a notebook to run recipe and use method 2 to add proteins back"
   ]
  },
  {
   "cell_type": "code",
   "execution_count": 10,
   "metadata": {},
   "outputs": [],
   "source": [
    "import numpy as np\n",
    "import pandas as pd\n",
    "import warnings\n",
    "warnings.simplefilter(action='ignore', category=FutureWarning)\n",
    "\n",
    "from classes.matrix_class import ProteinMatrix\n",
    "from classes.cluster_class import AllClusters\n",
    "from classes.degreelist_class import DegreeList\n",
    "\n",
    "from func_e.FUNC_E import FUNC_E \n",
    "import func_e.vocabs.all as vocabs\n",
    "\n",
    "\n",
    "from recipe_utils import initialize_matrix_clusters_degreelist\n",
    "from recipe_utils import find_clusters_and_proteins_together\n",
    "from recipe_utils import print_querylist_of_clusters_to_file\n",
    "from recipe_utils import get_initialized_fe\n",
    "from recipe_utils import print_protein_background_to_file\n"
   ]
  },
  {
   "cell_type": "code",
   "execution_count": 11,
   "metadata": {},
   "outputs": [],
   "source": [
    "import matplotlib.pyplot as plt\n",
    "import json\n"
   ]
  },
  {
   "cell_type": "code",
   "execution_count": 12,
   "metadata": {},
   "outputs": [],
   "source": [
    "def create_term_mapping_list(go_terms_filepath: str, term_mapping_filepath: str = 'term_mapping.txt'):\n",
    "    \"\"\"\n",
    "    the original file (go_terms_filepath) is in form GOTERM tab PROTEIN, while the term mapping file (term_mapping_filepath) is printed in form PROTEIN tab GOTERM. if a protein has multiple they appear on seperate lines\n",
    "    \"\"\"\n",
    "    with open(term_mapping_filepath, 'w') as file:\n",
    "        with open(go_terms_filepath, 'r') as go_annotation_file:\n",
    "            for _ in range(1): # first line of file has column titles, and should be skipped\n",
    "                next(go_annotation_file)\n",
    "            for line in go_annotation_file:\n",
    "                terms = line.split()\n",
    "                file.write(f\"{terms[1]}\\t{terms[0]}\\n\")"
   ]
  },
  {
   "cell_type": "code",
   "execution_count": 13,
   "metadata": {},
   "outputs": [],
   "source": [
    "dream3_cluster_dict_file = \"../../data/results/DREAM-3-cc/d3_5_100.json-cluster.json\"\n",
    "dict_of_clusters = {}\n",
    "# # convert actual cluster file to a dictionary!!\n",
    "with open(dream3_cluster_dict_file,\"r\") as cluster_dict_file:\n",
    "    dict_of_clusters = json.load(cluster_dict_file)\n"
   ]
  },
  {
   "cell_type": "code",
   "execution_count": 14,
   "metadata": {},
   "outputs": [],
   "source": [
    "matrix, clusters, degreelist = initialize_matrix_clusters_degreelist(\"../../data/networks/DREAM_files/dream_3.txt\", \"../../data/results/DREAM-3-cc/d3_5_100.json-cluster.json\")"
   ]
  },
  {
   "cell_type": "code",
   "execution_count": 15,
   "metadata": {},
   "outputs": [],
   "source": [
    "genomic_background_filepath = '../../data/testing_data/protein_list.txt'\n",
    "all_go_terms = vocabs.getTerms(['GO'])\n",
    "term_mapping_filepath = 'term_mapping.txt'\n",
    "create_term_mapping_list('../../data/go-results/dream_3_go_results.tsv', term_mapping_filepath)"
   ]
  },
  {
   "cell_type": "markdown",
   "metadata": {},
   "source": [
    "# METHOD:"
   ]
  },
  {
   "cell_type": "code",
   "execution_count": 16,
   "metadata": {},
   "outputs": [],
   "source": [
    "# # run program using min_components method\n",
    "# qualifying_clusters, qualifying_proteins = find_clusters_and_proteins_together(matrix, clusters, degreelist, cluster_ratio=0, cluster_constant=0,min_components_that_protein_connects=3)"
   ]
  },
  {
   "cell_type": "code",
   "execution_count": 9,
   "metadata": {},
   "outputs": [
    {
     "name": "stdout",
     "output_type": "stream",
     "text": [
      "CAB39 not in degreelist dictionary\n"
     ]
    }
   ],
   "source": [
    "# run program using sqrt method\n",
    "qualifying_clusters, qualifying_proteins = find_clusters_and_proteins_together(matrix, clusters, degreelist, cluster_ratio=0, cluster_constant=0,use_sqrt=True, protein_ratio=1, protein_constant=0)"
   ]
  },
  {
   "cell_type": "code",
   "execution_count": 17,
   "metadata": {},
   "outputs": [
    {
     "name": "stdout",
     "output_type": "stream",
     "text": [
      "dict_keys([10, 11, 20, 25, 26, 27, 28, 32, 33, 38, 39, 41, 42, 47, 49, 61, 65, 74, 78, 79, 85, 87, 89, 91, 98, 106, 107, 110, 114, 117, 118, 119, 122, 123, 137, 138, 146, 149, 152, 156, 158, 160, 161, 170, 172, 175, 183, 185, 189, 193, 194, 198])\n"
     ]
    }
   ],
   "source": [
    "print(qualifying_proteins.keys())"
   ]
  },
  {
   "cell_type": "code",
   "execution_count": 18,
   "metadata": {},
   "outputs": [
    {
     "name": "stdout",
     "output_type": "stream",
     "text": [
      "get_all_cluster_labels fxn has not been tested\n",
      "get_all_cluster_labels fxn has not been tested\n"
     ]
    }
   ],
   "source": [
    "original_clusters_querylist = 'm2_og_querylist.txt'\n",
    "updated_clusters_querylist_all_proteins = 'm2_new_querylist_all_proteins.txt'\n",
    "\n",
    "# original:\n",
    "print_querylist_of_clusters_to_file(clusters, clusters.get_all_cluster_labels(),original_clusters_querylist)\n",
    "\n",
    "# clusters with all proteins added:\n",
    "print_querylist_of_clusters_to_file(clusters, clusters.get_all_cluster_labels(), updated_clusters_querylist_all_proteins, qualifying_proteins)"
   ]
  },
  {
   "cell_type": "code",
   "execution_count": 19,
   "metadata": {},
   "outputs": [],
   "source": [
    "original_fe = get_initialized_fe(genomic_background_filepath, term_mapping_filepath, termlist = all_go_terms)\n",
    "\n",
    "original_fe.importFiles({'query': original_clusters_querylist })\n",
    "original_fe.run(cluster=False)\n"
   ]
  },
  {
   "cell_type": "code",
   "execution_count": 20,
   "metadata": {},
   "outputs": [],
   "source": [
    "updated_fe_all_proteins = get_initialized_fe(genomic_background_filepath, term_mapping_filepath, termlist = all_go_terms)\n",
    "\n",
    "updated_fe_all_proteins.importFiles({'query': updated_clusters_querylist_all_proteins })\n",
    "updated_fe_all_proteins.run(cluster=False)"
   ]
  },
  {
   "cell_type": "code",
   "execution_count": 21,
   "metadata": {},
   "outputs": [
    {
     "name": "stdout",
     "output_type": "stream",
     "text": [
      "get_all_cluster_labels fxn has not been tested\n"
     ]
    }
   ],
   "source": [
    "# add only 1 protein\n",
    "one_qualifying_protein = dict()\n",
    "for key in qualifying_proteins:\n",
    "    one_qualifying_protein[key] = [qualifying_proteins[key][0]]\n",
    "\n",
    "\n",
    "updated_clusters_querylist_one_protein = 'm2_new_querylist_one_protein.txt'\n",
    "print_querylist_of_clusters_to_file(clusters, clusters.get_all_cluster_labels(), updated_clusters_querylist_one_protein, one_qualifying_protein)\n",
    "\n",
    "# run functional enrichment for 1 protein added\n",
    "updated_fe_one_protein = get_initialized_fe(genomic_background_filepath, term_mapping_filepath, termlist = all_go_terms)\n",
    "updated_fe_one_protein.importFiles({'query': updated_clusters_querylist_one_protein })\n",
    "updated_fe_one_protein.run(cluster=False)"
   ]
  },
  {
   "cell_type": "code",
   "execution_count": 22,
   "metadata": {},
   "outputs": [
    {
     "name": "stdout",
     "output_type": "stream",
     "text": [
      "get_all_cluster_labels fxn has not been tested\n"
     ]
    }
   ],
   "source": [
    "# add only (up to) 2 proteins\n",
    "two_qualifying_proteins = dict()\n",
    "for key in qualifying_proteins:\n",
    "    two_qualifying_proteins[key] = qualifying_proteins[key][0:2]\n",
    "\n",
    "updated_clusters_querylist_two_proteins = 'm2_new_querylist_two_proteins.txt'\n",
    "print_querylist_of_clusters_to_file(clusters, clusters.get_all_cluster_labels(), updated_clusters_querylist_two_proteins, two_qualifying_proteins)\n",
    "\n",
    "# run functional enrichment for 3 proteins added\n",
    "updated_fe_two_proteins = get_initialized_fe(genomic_background_filepath, term_mapping_filepath, termlist = all_go_terms)\n",
    "\n",
    "updated_fe_two_proteins.importFiles({'query': updated_clusters_querylist_two_proteins })\n",
    "\n",
    "updated_fe_two_proteins.run(cluster=False)"
   ]
  },
  {
   "cell_type": "code",
   "execution_count": 23,
   "metadata": {},
   "outputs": [
    {
     "name": "stdout",
     "output_type": "stream",
     "text": [
      "get_all_cluster_labels fxn has not been tested\n"
     ]
    }
   ],
   "source": [
    "# add only (up to) 3 proteins\n",
    "three_qualifying_proteins = dict()\n",
    "for key in qualifying_proteins:\n",
    "    three_qualifying_proteins[key] = qualifying_proteins[key][0:3]\n",
    "\n",
    "updated_clusters_querylist_three_proteins = 'm2_new_querylist_three_proteins.txt'\n",
    "print_querylist_of_clusters_to_file(clusters, clusters.get_all_cluster_labels(), updated_clusters_querylist_three_proteins, three_qualifying_proteins)\n",
    "\n",
    "# run functional enrichment for 3 proteins added\n",
    "updated_fe_three_proteins = get_initialized_fe(genomic_background_filepath, \n",
    "\n",
    "term_mapping_filepath, termlist = all_go_terms)\n",
    "updated_fe_three_proteins.importFiles({'query': updated_clusters_querylist_three_proteins })\n",
    "\n",
    "updated_fe_three_proteins.run(cluster=False)"
   ]
  },
  {
   "cell_type": "code",
   "execution_count": 24,
   "metadata": {},
   "outputs": [
    {
     "name": "stdout",
     "output_type": "stream",
     "text": [
      "number of clusters that were updated with 1,2,3, all proteins: 52\n",
      "\n",
      "number of functionally enriched clusters (modules) out of 52 original clusters: 155\n",
      "number of functionally enriched clusters after addition of 1 protein: 161\n",
      "number of functionally enriched clusters after addition of 2 proteins: 163\n",
      "number of functionally enriched clusters after addition of 3 proteins: 163\n",
      "number of functionally enriched clusters after addition of all proteins: 163\n",
      "\n",
      "number of significant pvals in original clusters before updating: 405\n",
      "number of significant pvals in clusters with 1 protein added: 431\n",
      "number of significant pvals in clusters with up to 2 proteins added: 472\n",
      "number of significant pvals in clusters with up to 3 proteins added: 481\n",
      "number of significant pvals in clusters with all proteins added: 479\n"
     ]
    }
   ],
   "source": [
    "print(f\"number of clusters that were updated with 1,2,3, all proteins: {len(qualifying_proteins.keys())}\\n\")\n",
    "\n",
    "# clusters that are functionall enriched\n",
    "print(f\"number of functionally enriched clusters (modules) out of {len(qualifying_proteins.keys())} original clusters: {original_fe.enrichment['Module'].nunique()}\")\n",
    "\n",
    "print(f\"number of functionally enriched clusters after addition of 1 protein: {updated_fe_one_protein.enrichment['Module'].nunique()}\")\n",
    "\n",
    "print(f\"number of functionally enriched clusters after addition of 2 proteins: {updated_fe_two_proteins.enrichment['Module'].nunique()}\")\n",
    "\n",
    "print(f\"number of functionally enriched clusters after addition of 3 proteins: {updated_fe_three_proteins.enrichment['Module'].nunique()}\")\n",
    "# TODO for above and below figure out avg number of proteins added\n",
    "print(f\"number of functionally enriched clusters after addition of all proteins: {updated_fe_all_proteins.enrichment['Module'].nunique()}\")\n",
    "\n",
    "\n",
    "\n",
    "print(f\"\")\n",
    "\n",
    "\n",
    "\n",
    "# significant P-values!!!\n",
    "print(f\"number of significant pvals in original clusters before updating: {original_fe.enrichment['Fishers_pvalue'].count()}\")\n",
    "\n",
    "print(f\"number of significant pvals in clusters with 1 protein added: {updated_fe_one_protein.enrichment['Fishers_pvalue'].count()}\")\n",
    "\n",
    "print(f\"number of significant pvals in clusters with up to 2 proteins added: {updated_fe_two_proteins.enrichment['Fishers_pvalue'].count()}\")\n",
    "\n",
    "print(f\"number of significant pvals in clusters with up to 3 proteins added: {updated_fe_three_proteins.enrichment['Fishers_pvalue'].count()}\")\n",
    "# TODO for above and below figure out avg number of proteins added\n",
    "print(f\"number of significant pvals in clusters with all proteins added: {updated_fe_all_proteins.enrichment['Fishers_pvalue'].count()}\")\n",
    "\n"
   ]
  },
  {
   "cell_type": "code",
   "execution_count": 25,
   "metadata": {},
   "outputs": [],
   "source": [
    "# TODO find which GO terms are new and which are old"
   ]
  },
  {
   "cell_type": "code",
   "execution_count": 26,
   "metadata": {},
   "outputs": [
    {
     "name": "stdout",
     "output_type": "stream",
     "text": [
      "[155, 161, 163, 163, 163]\n"
     ]
    },
    {
     "name": "stderr",
     "output_type": "stream",
     "text": [
      "/var/folders/hk/q40rrztn3glcl0jvwjcpzyth0000gn/T/ipykernel_25235/129479836.py:12: UserWarning: FixedFormatter should only be used together with FixedLocator\n",
      "  ax.set_xticklabels(x_values, fontsize=14)\n"
     ]
    },
    {
     "data": {
      "image/png": "[encoded data removed]",
      "text/plain": [
       "<Figure size 360x360 with 1 Axes>"
      ]
     },
     "metadata": {
      "needs_background": "light"
     },
     "output_type": "display_data"
    }
   ],
   "source": [
    "# create clusters graph\n",
    "fig, ax = plt.subplots()\n",
    "\n",
    "x_values = [\"0\", \"1\", \"up to 2\",\"up to 3\", \"all\"]\n",
    "counts = [original_fe.enrichment['Module'].nunique(), updated_fe_one_protein.enrichment['Module'].nunique(), updated_fe_two_proteins.enrichment['Module'].nunique(), updated_fe_three_proteins.enrichment['Module'].nunique(), updated_fe_all_proteins.enrichment['Module'].nunique()]\n",
    "print(counts)\n",
    "\n",
    "\n",
    "\n",
    "ax.bar(x_values, counts, color=['xkcd:apricot', 'xkcd:peach', 'xkcd:peach', 'xkcd:peach', 'xkcd:light salmon'])\n",
    "\n",
    "ax.set_xticklabels(x_values, fontsize=14)\n",
    "\n",
    "ax.set_title(f\"Number of Functionally Enriched Clusters\\n({len(qualifying_proteins.keys())} clusters modified)\", fontsize=18)\n",
    "ax.set_ylabel('count', fontsize=16)\n",
    "\n",
    "ax.set_xlabel('number of proteins added', fontsize=16)\n",
    "\n",
    "ax.grid(axis='y')\n",
    "\n",
    "fig.set_size_inches(5,5)\n",
    "plt.show()\n"
   ]
  },
  {
   "cell_type": "code",
   "execution_count": 27,
   "metadata": {},
   "outputs": [
    {
     "name": "stderr",
     "output_type": "stream",
     "text": [
      "/var/folders/hk/q40rrztn3glcl0jvwjcpzyth0000gn/T/ipykernel_25235/905890999.py:10: UserWarning: FixedFormatter should only be used together with FixedLocator\n",
      "  ax.set_xticklabels(x_values, fontsize=14)\n"
     ]
    },
    {
     "name": "stdout",
     "output_type": "stream",
     "text": [
      "[405, 431, 472, 481, 479]\n"
     ]
    },
    {
     "data": {
      "image/png": "[encoded data removed]",
      "text/plain": [
       "<Figure size 360x360 with 1 Axes>"
      ]
     },
     "metadata": {
      "needs_background": "light"
     },
     "output_type": "display_data"
    }
   ],
   "source": [
    "# create p-val graph\n",
    "fig, ax = plt.subplots()\n",
    "\n",
    "x_values = [\"0\", \"1\", \"up to 2\", \"up to 3\", \"all\"]\n",
    "counts = [original_fe.enrichment['Fishers_pvalue'].count(), updated_fe_one_protein.enrichment['Fishers_pvalue'].count(), updated_fe_two_proteins.enrichment['Fishers_pvalue'].count(), updated_fe_three_proteins.enrichment['Fishers_pvalue'].count(), updated_fe_all_proteins.enrichment['Fishers_pvalue'].count()]\n",
    "print(counts)\n",
    "\n",
    "ax.bar(x_values, counts, color=['xkcd:apricot', 'xkcd:peach', 'xkcd:peach', 'xkcd:peach', 'xkcd:light salmon'])\n",
    "\n",
    "ax.set_xticklabels(x_values, fontsize=14)\n",
    "\n",
    "ax.set_title(f\"Number of Significant p-values (p < 0.01)\\n({len(qualifying_proteins.keys())} clusters modified)\", fontsize=18)\n",
    "\n",
    "# TODO: do i want to say number of significant p-values, or do i want to say number of Go-Terms / labels etc\n",
    "\n",
    "ax.set_ylabel('count', fontsize=16)\n",
    "ax.set_xlabel('number of proteins added', fontsize=16)\n",
    "\n",
    "ax.grid(axis='y')\n",
    "\n",
    "fig.set_size_inches(5,5)\n",
    "plt.show()\n",
    "\n"
   ]
  },
  {
   "cell_type": "code",
   "execution_count": 28,
   "metadata": {},
   "outputs": [],
   "source": [
    "# TODO: now want to see which GO terms are functionally enriched\n",
    "\n",
    "original_enriched_terms = original_fe.enrichment['Term']\n",
    "enriched_terms_one_protein = updated_fe_one_protein.enrichment['Term']\n",
    "enriched_terms_two_proteins = updated_fe_two_proteins.enrichment['Term']\n",
    "enriched_terms_three_proteins = updated_fe_three_proteins.enrichment['Term']\n",
    "enriched_terms_all_proteins = updated_fe_all_proteins.enrichment['Term']"
   ]
  },
  {
   "cell_type": "code",
   "execution_count": 29,
   "metadata": {},
   "outputs": [],
   "source": [
    "original_terms_vs_1p = (set(original_enriched_terms) - set(enriched_terms_one_protein))\n",
    "original_terms_vs_2p = (set(original_enriched_terms) - set(enriched_terms_two_proteins))\n",
    "original_terms_vs_3p = (set(original_enriched_terms) - set(enriched_terms_three_proteins))\n",
    "original_terms_vs_allp = (set(original_enriched_terms) - set(enriched_terms_all_proteins))\n",
    "\n",
    "new_terms_1p = (set(enriched_terms_one_protein) - set(original_enriched_terms))\n",
    "new_terms_2p = (set(enriched_terms_two_proteins) - set(original_enriched_terms))\n",
    "new_terms_3p = (set(enriched_terms_three_proteins) - set(original_enriched_terms))\n",
    "new_terms_allp = (set(enriched_terms_all_proteins) - set(original_enriched_terms))\n",
    "\n",
    "\n",
    "# print(f\"{original_terms_vs_1p}\")\n",
    "# print(f\"{original_terms_vs_2p}\")\n",
    "# print(f\"{original_terms_vs_3p}\")\n",
    "# print(f\"{original_terms_vs_allp}\")\n",
    "\n",
    "# print(f\"{new_terms_1p}\")\n",
    "# print(f\"{new_terms_2p}\")\n",
    "# print(f\"{new_terms_3p}\")\n",
    "# print(f\"{new_terms_allp}\")"
   ]
  },
  {
   "cell_type": "code",
   "execution_count": 30,
   "metadata": {},
   "outputs": [],
   "source": [
    "# construct a go term vs definition dict\n",
    "go_to_def_dict = dict()\n",
    "with open(\"data/GO.terms.tsv\", 'r') as go_term_to_def_file:\n",
    "    for line in go_term_to_def_file:\n",
    "        arr = line.split()\n",
    "        string = \"\"\n",
    "        for i in arr[2:]:\n",
    "            string += i\n",
    "            string += \" \"\n",
    "        go_to_def_dict[arr[1]] = string\n",
    "\n",
    "\n",
    "\n",
    "# for term in new_terms_allp:\n",
    "#     print(go_to_def_dict.get(term))"
   ]
  },
  {
   "cell_type": "code",
   "execution_count": 31,
   "metadata": {},
   "outputs": [],
   "source": [
    "# construct a go term vs label dict. \n",
    "go_to_label_dict = dict()\n",
    "\n",
    "\n",
    "with open(\"../../data/go-results/dream_3_go_results.tsv\", \"r\") as file:\n",
    "    for line in file: \n",
    "        arr = line.split()\n",
    "        go_to_label_dict[arr[0]] = arr[2]\n",
    "\n"
   ]
  },
  {
   "cell_type": "code",
   "execution_count": 40,
   "metadata": {},
   "outputs": [
    {
     "name": "stdout",
     "output_type": "stream",
     "text": [
      "[6, 5, 52]\n"
     ]
    },
    {
     "data": {
      "image/png": "[encoded data removed]",
      "text/plain": [
       "<Figure size 216x216 with 1 Axes>"
      ]
     },
     "metadata": {
      "needs_background": "light"
     },
     "output_type": "display_data"
    }
   ],
   "source": [
    "# count number of terms of each type\n",
    "bp_counter_1p = 0\n",
    "cc_counter_1p = 0\n",
    "mf_counter_1p = 0\n",
    "for term in new_terms_1p:\n",
    "    if go_to_label_dict.get(term) == \"biological_process\":\n",
    "        bp_counter_1p += 1\n",
    "    elif go_to_label_dict.get(term) == \"cellular_component\":\n",
    "        cc_counter_1p += 1\n",
    "    elif go_to_label_dict.get(term) == \"molecular_function\":\n",
    "        mf_counter_1p += 1\n",
    "\n",
    "\n",
    "bp_counter_allp = 0\n",
    "cc_counter_allp = 0\n",
    "mf_counter_allp = 0\n",
    "for term in new_terms_allp:\n",
    "    if go_to_label_dict.get(term) == \"biological_process\":\n",
    "        bp_counter_allp += 1\n",
    "    elif go_to_label_dict.get(term) == \"cellular_component\":\n",
    "        cc_counter_allp += 1\n",
    "    elif go_to_label_dict.get(term) == \"molecular_function\":\n",
    "        mf_counter_allp += 1\n",
    "\n",
    "\n",
    "# create graph to compare coutns of each label type (one and all proteins)\n",
    "fig, ax = plt.subplots()\n",
    "\n",
    "x_values = [\"Molecular\\nFunction\", \"Cellular\\nComponent\", \"Biological\\nProcess\"]\n",
    "counts_1p = [mf_counter_1p, cc_counter_1p, bp_counter_1p]\n",
    "counts_allp = [mf_counter_allp, cc_counter_allp, bp_counter_allp]\n",
    "print(counts_allp)\n",
    "\n",
    "\n",
    "width = .3\n",
    "ax.bar(x_values, counts_1p, width=width, color=\"xkcd:peach\")\n",
    "ax.bar(np.arange(len(counts_allp))+ width, counts_allp, width=width, color=\"xkcd:light salmon\")\n",
    "\n",
    "# ax.set_xticklabels(x_values, fontsize=12)\n",
    "\n",
    "ax.set_title(f\"label-types of (newly)\\nfunctionally enriched GO labels\", fontsize=16)\n",
    "\n",
    "\n",
    "ax.set_ylabel('number of new GO terms\\nof this type', fontsize=12)\n",
    "ax.set_xlabel('GO Label', fontsize=12)\n",
    "\n",
    "ax.grid(axis='y')\n",
    "ax.legend([\"adding 1 protein\", \"adding all proteins\"], loc=2)\n",
    "\n",
    "fig.set_size_inches(3,3)\n",
    "plt.show()\n"
   ]
  },
  {
   "cell_type": "code",
   "execution_count": 34,
   "metadata": {},
   "outputs": [
    {
     "name": "stdout",
     "output_type": "stream",
     "text": [
      "[0, 4, 19]\n"
     ]
    },
    {
     "data": {
      "image/png": "[encoded data removed]",
      "text/plain": [
       "<Figure size 216x216 with 1 Axes>"
      ]
     },
     "metadata": {
      "needs_background": "light"
     },
     "output_type": "display_data"
    }
   ],
   "source": [
    "# create graph to compare coutns of each label type ythat was lost (one and all proteins)\n",
    "\n",
    "original_terms_vs_1p\n",
    "original_terms_vs_allp\n",
    "\n",
    "# count number of terms of each type\n",
    "bp_counter_1p = 0\n",
    "cc_counter_1p = 0\n",
    "mf_counter_1p = 0\n",
    "for term in original_terms_vs_1p:\n",
    "    if go_to_label_dict.get(term) == \"biological_process\":\n",
    "        bp_counter_1p += 1\n",
    "    elif go_to_label_dict.get(term) == \"cellular_component\":\n",
    "        cc_counter_1p += 1\n",
    "    elif go_to_label_dict.get(term) == \"molecular_function\":\n",
    "        mf_counter_1p += 1\n",
    "\n",
    "\n",
    "bp_counter_allp = 0\n",
    "cc_counter_allp = 0\n",
    "mf_counter_allp = 0\n",
    "for term in original_terms_vs_allp:\n",
    "    if go_to_label_dict.get(term) == \"biological_process\":\n",
    "        bp_counter_allp += 1\n",
    "    elif go_to_label_dict.get(term) == \"cellular_component\":\n",
    "        cc_counter_allp += 1\n",
    "    elif go_to_label_dict.get(term) == \"molecular_function\":\n",
    "        mf_counter_allp += 1\n",
    "\n",
    "\n",
    "# plot!\n",
    "fig, ax = plt.subplots()\n",
    "\n",
    "x_values = [\"Molecular\\nFunction\", \"Cellular\\nComponent\", \"Biological\\nProcess\"]\n",
    "counts_1p = [mf_counter_1p, cc_counter_1p, bp_counter_1p]\n",
    "counts_allp = [mf_counter_allp, cc_counter_allp, bp_counter_allp]\n",
    "print(counts_allp)\n",
    "\n",
    "\n",
    "width = .3\n",
    "ax.bar(x_values, counts_1p, width=width, color=\"xkcd:peach\")\n",
    "ax.bar(np.arange(len(counts_allp))+ width, counts_allp, width=width, color=\"xkcd:light salmon\")\n",
    "\n",
    "# ax.set_xticklabels(x_values, fontsize=12)\n",
    "\n",
    "ax.set_title(f\"label-types of lost GO labels\", fontsize=16)\n",
    "\n",
    "\n",
    "ax.set_ylabel('number of new GO terms\\nof this type', fontsize=12)\n",
    "ax.set_xlabel('GO Label', fontsize=12)\n",
    "\n",
    "ax.grid(axis='y')\n",
    "ax.legend([\"adding 1 protein\", \"adding all proteins\"], loc=2)\n",
    "\n",
    "fig.set_size_inches(3,3)\n",
    "plt.show()\n"
   ]
  },
  {
   "cell_type": "code",
   "execution_count": 35,
   "metadata": {},
   "outputs": [
    {
     "name": "stdout",
     "output_type": "stream",
     "text": [
      "the average cluster size is 23.542713567839197. median is 15\n",
      "the average modified cluster size (before modification) is 24.46153846153846. median is 13.5\n",
      "avg number of two proteins: 1.2692307692307692, median: 1.0\n",
      "avg number of three proteins: 1.3461538461538463, median: 1.0\n",
      "avg number of all proteins: 1.4038461538461537, median: 1.0\n"
     ]
    }
   ],
   "source": [
    "# METHOD ___ STATS:\n",
    "from statistics import median\n",
    "\n",
    "# avg cluster size of modified cluster (compared to average cluster size)\n",
    "running_sum = list()\n",
    "for key in clusters.get_all_clusters():\n",
    "    running_sum.append(len(clusters.get_cluster_proteins(key)))\n",
    "print(f\"the average cluster size is {sum(running_sum)/len(running_sum)}. median is {median(running_sum)}\")\n",
    "\n",
    "running_sum2 = list()\n",
    "for key in qualifying_proteins.keys():\n",
    "    running_sum2.append(len(clusters.get_cluster_proteins(key)))\n",
    "print(f\"the average modified cluster size (before modification) is {sum(running_sum2)/len(running_sum2)}. median is {median(running_sum2)}\")\n",
    "\n",
    "\n",
    "# find the number of proteins added\n",
    "sum_all = list()\n",
    "for key in qualifying_proteins.keys():\n",
    "    sum_all.append(len(qualifying_proteins[key]))\n",
    "\n",
    "\n",
    "sum_three = list()\n",
    "for key in three_qualifying_proteins.keys():\n",
    "    sum_three.append(len(three_qualifying_proteins[key]))\n",
    "\n",
    "sum_two = list()\n",
    "for key in two_qualifying_proteins.keys():\n",
    "    sum_two.append(len(two_qualifying_proteins[key]))\n",
    "\n",
    "\n",
    "from statistics import median\n",
    "\n",
    "print(f\"avg number of two proteins: {sum(sum_two) /len(sum_two)}, median: {median(sum_two)}\\navg number of three proteins: {sum(sum_three) / len(sum_three)}, median: {median(sum_three)}\\navg number of all proteins: {sum(sum_all) / len(sum_all)}, median: {median(sum_all)}\")"
   ]
  },
  {
   "cell_type": "code",
   "execution_count": null,
   "metadata": {},
   "outputs": [],
   "source": []
  },
  {
   "cell_type": "code",
   "execution_count": null,
   "metadata": {},
   "outputs": [],
   "source": []
  },
  {
   "cell_type": "code",
   "execution_count": null,
   "metadata": {},
   "outputs": [],
   "source": []
  },
  {
   "cell_type": "code",
   "execution_count": null,
   "metadata": {},
   "outputs": [],
   "source": []
  },
  {
   "cell_type": "code",
   "execution_count": 36,
   "metadata": {},
   "outputs": [],
   "source": [
    "# # TODO: go labels that are now functionally enriched (will need to do it on a cluster basis including the cluster name)\n",
    "# print(f\"there are {} go labels that are newly functionally enriched after adding 1 protein, {} after 2 proteins, {} after 3 proteins, and {} after all proteins\")\n",
    "# # go labels that are no longer functionally enriched\n",
    "# print(f\"after adding 1 protein, {len(original_terms_vs_1p)} labels are lost. after adding 2 proteins {len(original_terms_vs_2p)} are lost. {len(original_terms_vs_3p)} after 3, and {len(original_terms_vs_allp)} after all\")\n",
    "\n",
    "\n",
    "# print(f\"{new_terms_1p}\")\n",
    "# print(f\"{new_terms_2p}\")\n",
    "# print(f\"{new_terms_3p}\")\n",
    "# print(f\"{new_terms_allp}\")\n"
   ]
  },
  {
   "cell_type": "code",
   "execution_count": null,
   "metadata": {},
   "outputs": [],
   "source": []
  },
  {
   "cell_type": "code",
   "execution_count": 41,
   "metadata": {},
   "outputs": [
    {
     "name": "stdout",
     "output_type": "stream",
     "text": [
      "[345, 361, 383, 385, 385]\n"
     ]
    },
    {
     "name": "stderr",
     "output_type": "stream",
     "text": [
      "/var/folders/hk/q40rrztn3glcl0jvwjcpzyth0000gn/T/ipykernel_25235/1306218403.py:12: UserWarning: FixedFormatter should only be used together with FixedLocator\n",
      "  ax.set_xticklabels(x_values, fontsize=14)\n"
     ]
    },
    {
     "data": {
      "image/png": "[encoded data removed]",
      "text/plain": [
       "<Figure size 360x360 with 1 Axes>"
      ]
     },
     "metadata": {
      "needs_background": "light"
     },
     "output_type": "display_data"
    }
   ],
   "source": [
    "# create p-val graph\n",
    "fig, ax = plt.subplots()\n",
    "\n",
    "x_values = [\"0\", \"1\", \"up to 2\", \"up to 3\", \"all\"]\n",
    "counts = [len(set(original_enriched_terms))\n",
    ", len(set(enriched_terms_one_protein)), len(set(enriched_terms_two_proteins)), len(set(enriched_terms_three_proteins)), len(set(enriched_terms_all_proteins))]\n",
    "print(counts)\n",
    "\n",
    "\n",
    "ax.bar(x_values, counts, color=['xkcd:apricot', 'xkcd:peach', 'xkcd:peach', 'xkcd:peach', 'xkcd:light salmon'])\n",
    "\n",
    "ax.set_xticklabels(x_values, fontsize=14)\n",
    "\n",
    "ax.set_title(f\"Number of Unique GO-Terms that are\\nFunctionally Enriched ({len(qualifying_proteins.keys())} clusters modified)\", fontsize=18)\n",
    "# TODO: do i want to say number of significant p-values, or do i want to say number of Go-Terms / labels etc\n",
    "\n",
    "ax.set_ylabel('count', fontsize=16)\n",
    "ax.set_xlabel('number of proteins added', fontsize=16)\n",
    "\n",
    "ax.grid(axis='y')\n",
    "\n",
    "fig.set_size_inches(5,5)\n",
    "plt.show()"
   ]
  },
  {
   "cell_type": "code",
   "execution_count": null,
   "metadata": {},
   "outputs": [],
   "source": []
  },
  {
   "cell_type": "code",
   "execution_count": null,
   "metadata": {},
   "outputs": [],
   "source": []
  },
  {
   "cell_type": "code",
   "execution_count": 42,
   "metadata": {},
   "outputs": [
    {
     "name": "stdout",
     "output_type": "stream",
     "text": [
      "32\n",
      "get_all_cluster_labels fxn has not been tested\n",
      "4685\n"
     ]
    }
   ],
   "source": [
    "# determine number of nodes in multiple clusters\n",
    "\n",
    "# total number of proteins added back\n",
    "proteins_added = list()\n",
    "for key in qualifying_proteins.keys():\n",
    "    for protein in qualifying_proteins[key]:\n",
    "        proteins_added.append(protein)\n",
    "\n",
    "# print(f\"{proteins_added}\")\n",
    "\n",
    "\n",
    "print(f\"{len(set(proteins_added))}\")\n",
    "\n",
    "# determine number of nodes in all clusters\n",
    "\n",
    "all_proteins_in_clusters = set()\n",
    "for key in clusters.get_all_cluster_labels():\n",
    "    all_proteins_in_clusters.update(clusters.get_cluster_proteins(key))\n",
    "\n",
    "print(f\"{len(set(all_proteins_in_clusters))}\")"
   ]
  },
  {
   "cell_type": "code",
   "execution_count": null,
   "metadata": {},
   "outputs": [],
   "source": []
  },
  {
   "cell_type": "code",
   "execution_count": null,
   "metadata": {},
   "outputs": [],
   "source": []
  },
  {
   "cell_type": "code",
   "execution_count": null,
   "metadata": {},
   "outputs": [],
   "source": []
  },
  {
   "cell_type": "code",
   "execution_count": null,
   "metadata": {},
   "outputs": [],
   "source": []
  },
  {
   "cell_type": "code",
   "execution_count": null,
   "metadata": {},
   "outputs": [],
   "source": []
  },
  {
   "cell_type": "code",
   "execution_count": null,
   "metadata": {},
   "outputs": [],
   "source": []
  },
  {
   "cell_type": "code",
   "execution_count": null,
   "metadata": {},
   "outputs": [],
   "source": []
  },
  {
   "cell_type": "code",
   "execution_count": null,
   "metadata": {},
   "outputs": [],
   "source": []
  },
  {
   "cell_type": "code",
   "execution_count": 37,
   "metadata": {},
   "outputs": [
    {
     "name": "stdout",
     "output_type": "stream",
     "text": [
      "get_all_cluster_labels fxn has not been tested\n"
     ]
    },
    {
     "data": {
      "image/png": "[encoded data removed]",
      "text/plain": [
       "<Figure size 432x288 with 1 Axes>"
      ]
     },
     "metadata": {
      "needs_background": "light"
     },
     "output_type": "display_data"
    }
   ],
   "source": [
    "# cluster size graph\n",
    "distribution = list()\n",
    "for cluster_num in clusters.get_all_cluster_labels():\n",
    "    distribution.append(len(clusters.get_cluster_proteins(cluster_num)))\n",
    "\n",
    "\n",
    "fig,ax = plt.subplots(1,1)\n",
    "\n",
    "ax.hist(distribution, bins = 20)\n",
    "ax.set_title(\"Cluster Size Distribution\", fontsize=24)\n",
    "ax.set_xticks([0,10,20,30,40,50,60,70,80,90,100])\n",
    "ax.set_xlabel('number of proteins', fontsize=22)\n",
    "ax.set_ylabel('count', fontsize=22)\n",
    "plt.yticks(fontsize=20)\n",
    "plt.xticks(fontsize=20)\n",
    "\n",
    "fig.set_size_inches(6,4)\n",
    "\n",
    "plt.show()"
   ]
  },
  {
   "cell_type": "code",
   "execution_count": null,
   "metadata": {},
   "outputs": [],
   "source": []
  },
  {
   "cell_type": "code",
   "execution_count": null,
   "metadata": {},
   "outputs": [],
   "source": []
  },
  {
   "cell_type": "code",
   "execution_count": null,
   "metadata": {},
   "outputs": [],
   "source": []
  },
  {
   "cell_type": "code",
   "execution_count": null,
   "metadata": {},
   "outputs": [],
   "source": []
  },
  {
   "cell_type": "code",
   "execution_count": null,
   "metadata": {},
   "outputs": [],
   "source": []
  },
  {
   "cell_type": "code",
   "execution_count": 38,
   "metadata": {},
   "outputs": [
    {
     "name": "stdout",
     "output_type": "stream",
     "text": [
      "345\n",
      "385\n"
     ]
    }
   ],
   "source": []
  },
  {
   "cell_type": "code",
   "execution_count": null,
   "metadata": {},
   "outputs": [],
   "source": []
  },
  {
   "cell_type": "code",
   "execution_count": null,
   "metadata": {},
   "outputs": [],
   "source": []
  },
  {
   "cell_type": "code",
   "execution_count": 39,
   "metadata": {},
   "outputs": [],
   "source": [
    "# TODO: also want to check out on a cluster vs cluster basis"
   ]
  },
  {
   "cell_type": "code",
   "execution_count": null,
   "metadata": {},
   "outputs": [],
   "source": []
  },
  {
   "cell_type": "code",
   "execution_count": null,
   "metadata": {},
   "outputs": [],
   "source": []
  },
  {
   "cell_type": "code",
   "execution_count": null,
   "metadata": {},
   "outputs": [],
   "source": []
  },
  {
   "cell_type": "code",
   "execution_count": null,
   "metadata": {},
   "outputs": [],
   "source": []
  },
  {
   "cell_type": "code",
   "execution_count": null,
   "metadata": {},
   "outputs": [],
   "source": []
  },
  {
   "cell_type": "code",
   "execution_count": null,
   "metadata": {},
   "outputs": [],
   "source": []
  },
  {
   "cell_type": "code",
   "execution_count": null,
   "metadata": {},
   "outputs": [],
   "source": []
  },
  {
   "cell_type": "code",
   "execution_count": null,
   "metadata": {},
   "outputs": [],
   "source": []
  },
  {
   "cell_type": "code",
   "execution_count": null,
   "metadata": {},
   "outputs": [],
   "source": []
  },
  {
   "cell_type": "code",
   "execution_count": null,
   "metadata": {},
   "outputs": [],
   "source": []
  },
  {
   "cell_type": "code",
   "execution_count": 50,
   "metadata": {},
   "outputs": [
    {
     "name": "stderr",
     "output_type": "stream",
     "text": [
      "/var/folders/hk/q40rrztn3glcl0jvwjcpzyth0000gn/T/ipykernel_25235/4178380968.py:12: UserWarning: FixedFormatter should only be used together with FixedLocator\n",
      "  ax.set_xticklabels(x_values, fontsize=14)\n"
     ]
    },
    {
     "data": {
      "image/png": "[encoded data removed]",
      "text/plain": [
       "<Figure size 360x360 with 1 Axes>"
      ]
     },
     "metadata": {
      "needs_background": "light"
     },
     "output_type": "display_data"
    }
   ],
   "source": [
    "\n",
    "# number of functionally enriched go terms - both methods\n",
    "\n",
    "import matplotlib.pyplot as plt\n",
    "\n",
    "fig, ax = plt.subplots()\n",
    "\n",
    "x_values = [\"Original\\nClusters\", \"M1\", \"M2\"]\n",
    "counts = [345, 372, 385]\n",
    "\n",
    "ax.bar(x_values, counts, color=['xkcd:silver', 'xkcd:pig pink', 'xkcd:peach'])\n",
    "\n",
    "ax.set_xticklabels(x_values, fontsize=14)\n",
    "\n",
    "ax.set_title(f\"Number of Unique GO-Terms that are\\nFunctionally Enriched\", fontsize=18)\n",
    "ax.set_ylabel('count', fontsize=16)\n",
    "\n",
    "ax.set_xlabel('method for adding proteins', fontsize=16)\n",
    "\n",
    "ax.grid(axis='y')\n",
    "\n",
    "\n",
    "\n",
    "fig.set_size_inches(5,5)\n",
    "\n",
    "plt.show()"
   ]
  },
  {
   "cell_type": "code",
   "execution_count": 53,
   "metadata": {},
   "outputs": [
    {
     "name": "stdout",
     "output_type": "stream",
     "text": [
      "[345, 361, 383, 385, 385]\n",
      "52\n"
     ]
    },
    {
     "name": "stderr",
     "output_type": "stream",
     "text": [
      "/var/folders/hk/q40rrztn3glcl0jvwjcpzyth0000gn/T/ipykernel_25235/3786604095.py:12: UserWarning: FixedFormatter should only be used together with FixedLocator\n",
      "  ax.set_xticklabels(x_values, fontsize=14)\n"
     ]
    },
    {
     "data": {
      "image/png": "[encoded data removed]",
      "text/plain": [
       "<Figure size 360x360 with 1 Axes>"
      ]
     },
     "metadata": {
      "needs_background": "light"
     },
     "output_type": "display_data"
    }
   ],
   "source": [
    "# create p-val graph\n",
    "fig, ax = plt.subplots()\n",
    "\n",
    "x_values = [\"0\", \"1\", \"up to 2\", \"up to 3\", \"all\"]\n",
    "counts = [len(set(original_enriched_terms))\n",
    ", len(set(enriched_terms_one_protein)), len(set(enriched_terms_two_proteins)), len(set(enriched_terms_three_proteins)), len(set(enriched_terms_all_proteins))]\n",
    "print(counts)\n",
    "\n",
    "\n",
    "ax.bar(x_values, counts, color=['xkcd:apricot', 'xkcd:peach', 'xkcd:peach', 'xkcd:peach', 'xkcd:light salmon'])\n",
    "\n",
    "ax.set_xticklabels(x_values, fontsize=14)\n",
    "\n",
    "ax.set_title(f\"Number of Unique GO-Terms that are\\nFunctionally Enriched ({len(qualifying_proteins.keys())} clusters modified)\", fontsize=18)\n",
    "print(len(qualifying_proteins.keys()))\n",
    "# TODO: do i want to say number of significant p-values, or do i want to say number of Go-Terms / labels etc\n",
    "\n",
    "ax.set_ylabel('count', fontsize=16)\n",
    "ax.set_xlabel('number of proteins added', fontsize=16)\n",
    "\n",
    "ax.grid(axis='y')\n",
    "\n",
    "fig.set_size_inches(5,5)\n",
    "plt.show()"
   ]
  },
  {
   "cell_type": "code",
   "execution_count": null,
   "metadata": {},
   "outputs": [],
   "source": []
  },
  {
   "cell_type": "code",
   "execution_count": null,
   "metadata": {},
   "outputs": [],
   "source": []
  },
  {
   "cell_type": "code",
   "execution_count": null,
   "metadata": {},
   "outputs": [],
   "source": []
  },
  {
   "cell_type": "code",
   "execution_count": null,
   "metadata": {},
   "outputs": [],
   "source": []
  },
  {
   "cell_type": "code",
   "execution_count": null,
   "metadata": {},
   "outputs": [],
   "source": []
  },
  {
   "cell_type": "code",
   "execution_count": null,
   "metadata": {},
   "outputs": [],
   "source": []
  },
  {
   "cell_type": "code",
   "execution_count": null,
   "metadata": {},
   "outputs": [],
   "source": []
  }
 ],
 "metadata": {
  "kernelspec": {
   "display_name": "Python 3.10.4 ('diamonds')",
   "language": "python",
   "name": "python3"
  },
  "language_info": {
   "codemirror_mode": {
    "name": "ipython",
    "version": 3
   },
   "file_extension": ".py",
   "mimetype": "text/x-python",
   "name": "python",
   "nbconvert_exporter": "python",
   "pygments_lexer": "ipython3",
   "version": "3.10.4"
  },
  "orig_nbformat": 4,
  "vscode": {
   "interpreter": {
    "hash": "e113e58b579a48e5732235004b32d872074e11125058c2d5e4f294336344a2ee"
   }
  }
 },
 "nbformat": 4,
 "nbformat_minor": 2
}
