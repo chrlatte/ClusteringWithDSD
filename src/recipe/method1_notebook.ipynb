{
 "cells": [
  {
   "cell_type": "markdown",
   "metadata": {},
   "source": [
    "a notebook to run method 1 for adding proteins back"
   ]
  },
  {
   "cell_type": "code",
   "execution_count": 9,
   "metadata": {},
   "outputs": [],
   "source": [
    "import numpy as np\n",
    "import pandas as pd\n",
    "import warnings\n",
    "warnings.simplefilter(action='ignore', category=FutureWarning)\n",
    "\n",
    "from classes.matrix_class import ProteinMatrix\n",
    "from classes.cluster_class import AllClusters\n",
    "from classes.degreelist_class import DegreeList\n",
    "\n",
    "from func_e.FUNC_E import FUNC_E \n",
    "import func_e.vocabs.all as vocabs\n",
    "\n",
    "\n",
    "from recipe_utils import initialize_matrix_clusters_degreelist\n",
    "from recipe_utils import find_clusters_and_proteins_together\n",
    "from recipe_utils import print_querylist_of_clusters_to_file\n",
    "from recipe_utils import get_initialized_fe\n",
    "from recipe_utils import print_protein_background_to_file\n"
   ]
  },
  {
   "cell_type": "code",
   "execution_count": 10,
   "metadata": {},
   "outputs": [],
   "source": [
    "import matplotlib.pyplot as plt\n",
    "import json\n"
   ]
  },
  {
   "cell_type": "code",
   "execution_count": 11,
   "metadata": {},
   "outputs": [],
   "source": [
    "def create_term_mapping_list(go_terms_filepath: str, term_mapping_filepath: str = 'term_mapping.txt'):\n",
    "    \"\"\"\n",
    "    the original file (go_terms_filepath) is in form GOTERM tab PROTEIN, while the term mapping file (term_mapping_filepath) is printed in form PROTEIN tab GOTERM. if a protein has multiple they appear on seperate lines\n",
    "    \"\"\"\n",
    "    with open(term_mapping_filepath, 'w') as file:\n",
    "        with open(go_terms_filepath, 'r') as go_annotation_file:\n",
    "            for _ in range(1): # first line of file has column titles, and should be skipped\n",
    "                next(go_annotation_file)\n",
    "            for line in go_annotation_file:\n",
    "                terms = line.split()\n",
    "                file.write(f\"{terms[1]}\\t{terms[0]}\\n\")"
   ]
  },
  {
   "cell_type": "code",
   "execution_count": 12,
   "metadata": {},
   "outputs": [],
   "source": [
    "dream3_cluster_dict_file = \"../../data/results/DREAM-3-cc/d3_5_100.json-cluster.json\"\n",
    "dict_of_clusters = {}\n",
    "# # convert actual cluster file to a dictionary!!\n",
    "with open(dream3_cluster_dict_file,\"r\") as cluster_dict_file:\n",
    "    dict_of_clusters = json.load(cluster_dict_file)\n"
   ]
  },
  {
   "cell_type": "code",
   "execution_count": 13,
   "metadata": {},
   "outputs": [],
   "source": [
    "matrix, clusters, degreelist = initialize_matrix_clusters_degreelist(\"../../data/networks/DREAM_files/dream_3.txt\", \"../../data/results/DREAM-3-cc/d3_5_100.json-cluster.json\")"
   ]
  },
  {
   "cell_type": "code",
   "execution_count": 14,
   "metadata": {},
   "outputs": [],
   "source": [
    "genomic_background_filepath = '../../data/testing_data/protein_list.txt'\n",
    "all_go_terms = vocabs.getTerms(['GO'])\n",
    "term_mapping_filepath = 'term_mapping.txt'\n",
    "create_term_mapping_list('../../data/go-results/dream_3_go_results.tsv', term_mapping_filepath)"
   ]
  },
  {
   "cell_type": "markdown",
   "metadata": {},
   "source": [
    "# METHOD:"
   ]
  },
  {
   "cell_type": "code",
   "execution_count": 15,
   "metadata": {},
   "outputs": [],
   "source": [
    "# # run program using min_components method\n",
    "# qualifying_clusters, qualifying_proteins = find_clusters_and_proteins_together(matrix, clusters, degreelist, cluster_ratio=0, cluster_constant=0,min_components_that_protein_connects=3)"
   ]
  },
  {
   "cell_type": "code",
   "execution_count": 16,
   "metadata": {},
   "outputs": [],
   "source": [
    "# run program using sqrt method\n",
    "qualifying_clusters, qualifying_proteins = find_clusters_and_proteins_together(matrix, clusters, degreelist, cluster_ratio=0, cluster_constant=0,min_components_that_protein_connects=3)"
   ]
  },
  {
   "cell_type": "code",
   "execution_count": 17,
   "metadata": {},
   "outputs": [
    {
     "name": "stdout",
     "output_type": "stream",
     "text": [
      "dict_keys([0, 4, 6, 7, 11, 12, 13, 14, 21, 25, 26, 29, 30, 32, 34, 39, 41, 47, 49, 50, 51, 61, 62, 63, 65, 69, 72, 73, 75, 77, 79, 81, 82, 84, 85, 87, 89, 90, 95, 96, 98, 99, 103, 104, 107, 108, 110, 111, 114, 115, 117, 119, 121, 122, 123, 125, 126, 127, 132, 134, 137, 138, 141, 142, 144, 146, 149, 150, 151, 152, 153, 154, 156, 157, 158, 159, 160, 161, 162, 164, 167, 168, 170, 171, 172, 175, 178, 179, 180, 185, 189, 193, 194, 195])\n"
     ]
    }
   ],
   "source": [
    "print(qualifying_proteins.keys())"
   ]
  },
  {
   "cell_type": "code",
   "execution_count": 18,
   "metadata": {},
   "outputs": [
    {
     "name": "stdout",
     "output_type": "stream",
     "text": [
      "get_all_cluster_labels fxn has not been tested\n",
      "get_all_cluster_labels fxn has not been tested\n"
     ]
    }
   ],
   "source": [
    "original_clusters_querylist = 'm1_og_querylist.txt'\n",
    "updated_clusters_querylist_all_proteins = 'm1_new_querylist_all_proteins.txt'\n",
    "\n",
    "# original:\n",
    "print_querylist_of_clusters_to_file(clusters, clusters.get_all_cluster_labels(),original_clusters_querylist)\n",
    "\n",
    "# clusters with all proteins added:\n",
    "print_querylist_of_clusters_to_file(clusters, clusters.get_all_cluster_labels(), updated_clusters_querylist_all_proteins, qualifying_proteins)"
   ]
  },
  {
   "cell_type": "code",
   "execution_count": 19,
   "metadata": {},
   "outputs": [],
   "source": [
    "original_fe = get_initialized_fe(genomic_background_filepath, term_mapping_filepath, termlist = all_go_terms)\n",
    "\n",
    "original_fe.importFiles({'query': original_clusters_querylist })\n",
    "original_fe.run(cluster=False)\n"
   ]
  },
  {
   "cell_type": "code",
   "execution_count": 20,
   "metadata": {},
   "outputs": [],
   "source": [
    "updated_fe_all_proteins = get_initialized_fe(genomic_background_filepath, term_mapping_filepath, termlist = all_go_terms)\n",
    "\n",
    "updated_fe_all_proteins.importFiles({'query': updated_clusters_querylist_all_proteins })\n",
    "updated_fe_all_proteins.run(cluster=False)"
   ]
  },
  {
   "cell_type": "code",
   "execution_count": 21,
   "metadata": {},
   "outputs": [
    {
     "name": "stdout",
     "output_type": "stream",
     "text": [
      "get_all_cluster_labels fxn has not been tested\n"
     ]
    }
   ],
   "source": [
    "# add only 1 protein\n",
    "one_qualifying_protein = dict()\n",
    "for key in qualifying_proteins:\n",
    "    one_qualifying_protein[key] = [qualifying_proteins[key][0]]\n",
    "\n",
    "\n",
    "updated_clusters_querylist_one_protein = 'm1_new_querylist_one_protein.txt'\n",
    "print_querylist_of_clusters_to_file(clusters, clusters.get_all_cluster_labels(), updated_clusters_querylist_one_protein, one_qualifying_protein)\n",
    "\n",
    "# run functional enrichment for 1 protein added\n",
    "updated_fe_one_protein = get_initialized_fe(genomic_background_filepath, term_mapping_filepath, termlist = all_go_terms)\n",
    "updated_fe_one_protein.importFiles({'query': updated_clusters_querylist_one_protein })\n",
    "updated_fe_one_protein.run(cluster=False)"
   ]
  },
  {
   "cell_type": "code",
   "execution_count": 22,
   "metadata": {},
   "outputs": [
    {
     "name": "stdout",
     "output_type": "stream",
     "text": [
      "get_all_cluster_labels fxn has not been tested\n"
     ]
    }
   ],
   "source": [
    "# add only (up to) 2 proteins\n",
    "two_qualifying_proteins = dict()\n",
    "for key in qualifying_proteins:\n",
    "    two_qualifying_proteins[key] = qualifying_proteins[key][0:2]\n",
    "\n",
    "updated_clusters_querylist_two_proteins = 'm1_new_querylist_two_proteins.txt'\n",
    "print_querylist_of_clusters_to_file(clusters, clusters.get_all_cluster_labels(), updated_clusters_querylist_two_proteins, two_qualifying_proteins)\n",
    "\n",
    "# run functional enrichment for 3 proteins added\n",
    "updated_fe_two_proteins = get_initialized_fe(genomic_background_filepath, term_mapping_filepath, termlist = all_go_terms)\n",
    "\n",
    "updated_fe_two_proteins.importFiles({'query': updated_clusters_querylist_two_proteins })\n",
    "\n",
    "updated_fe_two_proteins.run(cluster=False)"
   ]
  },
  {
   "cell_type": "code",
   "execution_count": 23,
   "metadata": {},
   "outputs": [
    {
     "name": "stdout",
     "output_type": "stream",
     "text": [
      "get_all_cluster_labels fxn has not been tested\n"
     ]
    }
   ],
   "source": [
    "# add only (up to) 3 proteins\n",
    "three_qualifying_proteins = dict()\n",
    "for key in qualifying_proteins:\n",
    "    three_qualifying_proteins[key] = qualifying_proteins[key][0:3]\n",
    "\n",
    "updated_clusters_querylist_three_proteins = 'm1_new_querylist_three_proteins.txt'\n",
    "print_querylist_of_clusters_to_file(clusters, clusters.get_all_cluster_labels(), updated_clusters_querylist_three_proteins, three_qualifying_proteins)\n",
    "\n",
    "# run functional enrichment for 3 proteins added\n",
    "updated_fe_three_proteins = get_initialized_fe(genomic_background_filepath, \n",
    "\n",
    "term_mapping_filepath, termlist = all_go_terms)\n",
    "updated_fe_three_proteins.importFiles({'query': updated_clusters_querylist_three_proteins })\n",
    "\n",
    "updated_fe_three_proteins.run(cluster=False)"
   ]
  },
  {
   "cell_type": "code",
   "execution_count": 24,
   "metadata": {},
   "outputs": [
    {
     "name": "stdout",
     "output_type": "stream",
     "text": [
      "number of clusters that were updated with 1,2,3, all proteins: 94\n",
      "\n",
      "number of functionally enriched clusters (modules) out of 94 original clusters: 155\n",
      "number of functionally enriched clusters after addition of 1 protein: 161\n",
      "number of functionally enriched clusters after addition of 2 proteins: 162\n",
      "number of functionally enriched clusters after addition of 3 proteins: 162\n",
      "number of functionally enriched clusters after addition of all proteins: 162\n",
      "\n",
      "number of significant pvals in original clusters before updating: 405\n",
      "number of significant pvals in clusters with 1 protein added: 454\n",
      "number of significant pvals in clusters with up to 2 proteins added: 475\n",
      "number of significant pvals in clusters with up to 3 proteins added: 500\n",
      "number of significant pvals in clusters with all proteins added: 663\n"
     ]
    }
   ],
   "source": [
    "print(f\"number of clusters that were updated with 1,2,3, all proteins: {len(qualifying_proteins.keys())}\\n\")\n",
    "\n",
    "# clusters that are functionall enriched\n",
    "print(f\"number of functionally enriched clusters (modules) out of {len(qualifying_proteins.keys())} original clusters: {original_fe.enrichment['Module'].nunique()}\")\n",
    "\n",
    "print(f\"number of functionally enriched clusters after addition of 1 protein: {updated_fe_one_protein.enrichment['Module'].nunique()}\")\n",
    "\n",
    "print(f\"number of functionally enriched clusters after addition of 2 proteins: {updated_fe_two_proteins.enrichment['Module'].nunique()}\")\n",
    "\n",
    "print(f\"number of functionally enriched clusters after addition of 3 proteins: {updated_fe_three_proteins.enrichment['Module'].nunique()}\")\n",
    "# TODO for above and below figure out avg number of proteins added\n",
    "print(f\"number of functionally enriched clusters after addition of all proteins: {updated_fe_all_proteins.enrichment['Module'].nunique()}\")\n",
    "\n",
    "\n",
    "\n",
    "print(f\"\")\n",
    "\n",
    "\n",
    "\n",
    "# significant P-values!!!\n",
    "print(f\"number of significant pvals in original clusters before updating: {original_fe.enrichment['Fishers_pvalue'].count()}\")\n",
    "\n",
    "print(f\"number of significant pvals in clusters with 1 protein added: {updated_fe_one_protein.enrichment['Fishers_pvalue'].count()}\")\n",
    "\n",
    "print(f\"number of significant pvals in clusters with up to 2 proteins added: {updated_fe_two_proteins.enrichment['Fishers_pvalue'].count()}\")\n",
    "\n",
    "print(f\"number of significant pvals in clusters with up to 3 proteins added: {updated_fe_three_proteins.enrichment['Fishers_pvalue'].count()}\")\n",
    "# TODO for above and below figure out avg number of proteins added\n",
    "print(f\"number of significant pvals in clusters with all proteins added: {updated_fe_all_proteins.enrichment['Fishers_pvalue'].count()}\")\n",
    "\n"
   ]
  },
  {
   "cell_type": "code",
   "execution_count": 25,
   "metadata": {},
   "outputs": [],
   "source": [
    "# TODO find which GO terms are new and which are old"
   ]
  },
  {
   "cell_type": "code",
   "execution_count": 41,
   "metadata": {},
   "outputs": [
    {
     "name": "stdout",
     "output_type": "stream",
     "text": [
      "[155, 161, 162, 162, 162]\n"
     ]
    },
    {
     "name": "stderr",
     "output_type": "stream",
     "text": [
      "/var/folders/hk/q40rrztn3glcl0jvwjcpzyth0000gn/T/ipykernel_23965/1593177631.py:11: UserWarning: FixedFormatter should only be used together with FixedLocator\n",
      "  ax.set_xticklabels(x_values, fontsize=14)\n"
     ]
    },
    {
     "data": {
      "image/png": "[encoded data removed]",
      "text/plain": [
       "<Figure size 360x360 with 1 Axes>"
      ]
     },
     "metadata": {
      "needs_background": "light"
     },
     "output_type": "display_data"
    }
   ],
   "source": [
    "# create clusters graph\n",
    "fig, ax = plt.subplots()\n",
    "\n",
    "x_values = [\"0\", \"1\", \"up to 2\",\"up to 3\", \"all\"]\n",
    "counts = [original_fe.enrichment['Module'].nunique(), updated_fe_one_protein.enrichment['Module'].nunique(), updated_fe_two_proteins.enrichment['Module'].nunique(), updated_fe_three_proteins.enrichment['Module'].nunique(), updated_fe_all_proteins.enrichment['Module'].nunique()]\n",
    "print(counts)\n",
    "\n",
    "\n",
    "ax.bar(x_values, counts, color=['xkcd:powder pink', 'xkcd:pig pink', 'xkcd:pig pink', 'xkcd:pig pink', 'xkcd:muted pink'])\n",
    "\n",
    "ax.set_xticklabels(x_values, fontsize=14)\n",
    "\n",
    "ax.set_title(f\"Number of Functionally Enriched Clusters\\n({len(qualifying_proteins.keys())} clusters modified)\", fontsize=18)\n",
    "ax.set_ylabel('count', fontsize=16)\n",
    "\n",
    "ax.set_xlabel('number of proteins added', fontsize=16)\n",
    "\n",
    "ax.grid(axis='y')\n",
    "\n",
    "fig.set_size_inches(5,5)\n",
    "plt.show()\n"
   ]
  },
  {
   "cell_type": "code",
   "execution_count": 43,
   "metadata": {},
   "outputs": [
    {
     "name": "stdout",
     "output_type": "stream",
     "text": [
      "[405, 454, 475, 500, 663]\n"
     ]
    },
    {
     "name": "stderr",
     "output_type": "stream",
     "text": [
      "/var/folders/hk/q40rrztn3glcl0jvwjcpzyth0000gn/T/ipykernel_23965/3240710707.py:11: UserWarning: FixedFormatter should only be used together with FixedLocator\n",
      "  ax.set_xticklabels(x_values, fontsize=14)\n"
     ]
    },
    {
     "data": {
      "image/png": "[encoded data removed]",
      "text/plain": [
       "<Figure size 360x360 with 1 Axes>"
      ]
     },
     "metadata": {
      "needs_background": "light"
     },
     "output_type": "display_data"
    }
   ],
   "source": [
    "# create p-val graph\n",
    "fig, ax = plt.subplots()\n",
    "\n",
    "x_values = [\"0\", \"1\", \"up to 2\", \"up to 3\", \"all\"]\n",
    "counts = [original_fe.enrichment['Fishers_pvalue'].count(), updated_fe_one_protein.enrichment['Fishers_pvalue'].count(), updated_fe_two_proteins.enrichment['Fishers_pvalue'].count(), updated_fe_three_proteins.enrichment['Fishers_pvalue'].count(), updated_fe_all_proteins.enrichment['Fishers_pvalue'].count()]\n",
    "print(counts)\n",
    "\n",
    "\n",
    "ax.bar(x_values, counts, color=['xkcd:powder pink', 'xkcd:pig pink', 'xkcd:pig pink', 'xkcd:pig pink', 'xkcd:muted pink'])\n",
    "\n",
    "ax.set_xticklabels(x_values, fontsize=14)\n",
    "\n",
    "ax.set_title(f\"Number of Significant p-values (p < 0.01)\\n({len(qualifying_proteins.keys())} clusters modified)\", fontsize=18)\n",
    "# TODO: do i want to say number of significant p-values, or do i want to say number of Go-Terms / labels etc\n",
    "\n",
    "ax.set_ylabel('count', fontsize=16)\n",
    "ax.set_xlabel('number of proteins added', fontsize=16)\n",
    "\n",
    "ax.grid(axis='y')\n",
    "\n",
    "fig.set_size_inches(5,5)\n",
    "plt.show()\n",
    "\n"
   ]
  },
  {
   "cell_type": "code",
   "execution_count": 28,
   "metadata": {},
   "outputs": [],
   "source": [
    "# TODO: now want to see which GO terms are functionally enriched\n",
    "\n",
    "original_enriched_terms = original_fe.enrichment['Term']\n",
    "enriched_terms_one_protein = updated_fe_one_protein.enrichment['Term']\n",
    "enriched_terms_two_proteins = updated_fe_two_proteins.enrichment['Term']\n",
    "enriched_terms_three_proteins = updated_fe_three_proteins.enrichment['Term']\n",
    "enriched_terms_all_proteins = updated_fe_all_proteins.enrichment['Term']"
   ]
  },
  {
   "cell_type": "code",
   "execution_count": 47,
   "metadata": {},
   "outputs": [],
   "source": [
    "original_terms_vs_1p = (set(original_enriched_terms) - set(enriched_terms_one_protein))\n",
    "original_terms_vs_2p = (set(original_enriched_terms) - set(enriched_terms_two_proteins))\n",
    "original_terms_vs_3p = (set(original_enriched_terms) - set(enriched_terms_three_proteins))\n",
    "original_terms_vs_allp = (set(original_enriched_terms) - set(enriched_terms_all_proteins))\n",
    "\n",
    "new_terms_1p = (set(enriched_terms_one_protein) - set(original_enriched_terms))\n",
    "new_terms_2p = (set(enriched_terms_two_proteins) - set(original_enriched_terms))\n",
    "new_terms_3p = (set(enriched_terms_three_proteins) - set(original_enriched_terms))\n",
    "new_terms_allp = (set(enriched_terms_all_proteins) - set(original_enriched_terms))\n",
    "\n",
    "\n",
    "# print(f\"{original_terms_vs_1p}\")\n",
    "# print(f\"{original_terms_vs_2p}\")\n",
    "# print(f\"{original_terms_vs_3p}\")\n",
    "# print(f\"{original_terms_vs_allp}\")\n",
    "\n",
    "# print(f\"{new_terms_1p}\")\n",
    "# print(f\"{new_terms_2p}\")\n",
    "# print(f\"{new_terms_3p}\")\n",
    "# print(f\"{new_terms_allp}\")"
   ]
  },
  {
   "cell_type": "code",
   "execution_count": null,
   "metadata": {},
   "outputs": [],
   "source": []
  },
  {
   "cell_type": "code",
   "execution_count": 48,
   "metadata": {},
   "outputs": [],
   "source": [
    "# construct a go term vs definition dict\n",
    "go_to_def_dict = dict()\n",
    "with open(\"data/GO.terms.tsv\", 'r') as go_term_to_def_file:\n",
    "    for line in go_term_to_def_file:\n",
    "        arr = line.split()\n",
    "        string = \"\"\n",
    "        for i in arr[2:]:\n",
    "            string += i\n",
    "            string += \" \"\n",
    "        go_to_def_dict[arr[1]] = string\n",
    "\n",
    "\n",
    "\n",
    "# for term in new_terms_allp:\n",
    "#     print(go_to_def_dict.get(term))"
   ]
  },
  {
   "cell_type": "code",
   "execution_count": null,
   "metadata": {},
   "outputs": [],
   "source": []
  },
  {
   "cell_type": "code",
   "execution_count": 76,
   "metadata": {},
   "outputs": [
    {
     "name": "stdout",
     "output_type": "stream",
     "text": [
      "1169\n"
     ]
    }
   ],
   "source": [
    "# construct a go term vs label dict. \n",
    "go_to_label_dict = dict()\n",
    "\n",
    "\n",
    "with open(\"../../data/go-results/dream_3_go_results.tsv\", \"r\") as file:\n",
    "    for line in file: \n",
    "        arr = line.split()\n",
    "        go_to_label_dict[arr[0]] = arr[2]\n",
    "\n",
    "print(len(go_to_label_dict.keys()))"
   ]
  },
  {
   "cell_type": "code",
   "execution_count": 54,
   "metadata": {},
   "outputs": [],
   "source": [
    "# count number of terms of each type\n",
    "bp_counter_1p = 0\n",
    "cc_counter_1p = 0\n",
    "mf_counter_1p = 0\n",
    "for term in new_terms_1p:\n",
    "    if go_to_label_dict.get(term) == \"biological_process\":\n",
    "        bp_counter_1p += 1\n",
    "    elif go_to_label_dict.get(term) == \"cellular_component\":\n",
    "        cc_counter_1p += 1\n",
    "    elif go_to_label_dict.get(term) == \"molecular_function\":\n",
    "        mf_counter_1p += 1\n",
    "\n",
    "\n",
    "bp_counter_allp = 0\n",
    "cc_counter_allp = 0\n",
    "mf_counter_allp = 0\n",
    "for term in new_terms_allp:\n",
    "    if go_to_label_dict.get(term) == \"biological_process\":\n",
    "        bp_counter_allp += 1\n",
    "    elif go_to_label_dict.get(term) == \"cellular_component\":\n",
    "        cc_counter_allp += 1\n",
    "    elif go_to_label_dict.get(term) == \"molecular_function\":\n",
    "        mf_counter_allp += 1\n"
   ]
  },
  {
   "cell_type": "code",
   "execution_count": 55,
   "metadata": {},
   "outputs": [
    {
     "name": "stdout",
     "output_type": "stream",
     "text": [
      "[10, 6, 92]\n"
     ]
    },
    {
     "data": {
      "image/png": "[encoded data removed]",
      "text/plain": [
       "<Figure size 216x216 with 1 Axes>"
      ]
     },
     "metadata": {
      "needs_background": "light"
     },
     "output_type": "display_data"
    }
   ],
   "source": [
    "# create graph to compare coutns of each label type (one and all proteins)\n",
    "fig, ax = plt.subplots()\n",
    "\n",
    "x_values = [\"Molecular\\nFunction\", \"Cellular\\nComponent\", \"Biological\\nProcess\"]\n",
    "counts_1p = [mf_counter_1p, cc_counter_1p, bp_counter_1p]\n",
    "counts_allp = [mf_counter_allp, cc_counter_allp, bp_counter_allp]\n",
    "print(counts_allp)\n",
    "\n",
    "\n",
    "width = .3\n",
    "ax.bar(x_values, counts_1p, width=width, color='xkcd:pig pink')\n",
    "ax.bar(np.arange(len(counts_allp))+ width, counts_allp, width=width, color='xkcd:muted pink')\n",
    "\n",
    "# ax.set_xticklabels(x_values, fontsize=12)\n",
    "\n",
    "ax.set_title(f\"label-types of (newly)\\nfunctionally enriched GO labels\", fontsize=16)\n",
    "\n",
    "\n",
    "ax.set_ylabel('number of new GO terms\\nof this type', fontsize=12)\n",
    "ax.set_xlabel('GO Label', fontsize=12)\n",
    "\n",
    "ax.grid(axis='y')\n",
    "ax.legend([\"adding 1 protein\", \"adding all proteins\"], loc=2)\n",
    "\n",
    "fig.set_size_inches(3,3)\n",
    "plt.show()\n"
   ]
  },
  {
   "cell_type": "code",
   "execution_count": null,
   "metadata": {},
   "outputs": [],
   "source": []
  },
  {
   "cell_type": "code",
   "execution_count": 56,
   "metadata": {},
   "outputs": [
    {
     "name": "stdout",
     "output_type": "stream",
     "text": [
      "[8, 9, 64]\n"
     ]
    },
    {
     "data": {
      "image/png": "[encoded data removed]",
      "text/plain": [
       "<Figure size 216x216 with 1 Axes>"
      ]
     },
     "metadata": {
      "needs_background": "light"
     },
     "output_type": "display_data"
    }
   ],
   "source": [
    "# create graph to compare coutns of each label type ythat was lost (one and all proteins)\n",
    "\n",
    "original_terms_vs_1p\n",
    "original_terms_vs_allp\n",
    "\n",
    "# count number of terms of each type\n",
    "bp_counter_1p = 0\n",
    "cc_counter_1p = 0\n",
    "mf_counter_1p = 0\n",
    "for term in original_terms_vs_1p:\n",
    "    if go_to_label_dict.get(term) == \"biological_process\":\n",
    "        bp_counter_1p += 1\n",
    "    elif go_to_label_dict.get(term) == \"cellular_component\":\n",
    "        cc_counter_1p += 1\n",
    "    elif go_to_label_dict.get(term) == \"molecular_function\":\n",
    "        mf_counter_1p += 1\n",
    "\n",
    "\n",
    "bp_counter_allp = 0\n",
    "cc_counter_allp = 0\n",
    "mf_counter_allp = 0\n",
    "for term in original_terms_vs_allp:\n",
    "    if go_to_label_dict.get(term) == \"biological_process\":\n",
    "        bp_counter_allp += 1\n",
    "    elif go_to_label_dict.get(term) == \"cellular_component\":\n",
    "        cc_counter_allp += 1\n",
    "    elif go_to_label_dict.get(term) == \"molecular_function\":\n",
    "        mf_counter_allp += 1\n",
    "\n",
    "\n",
    "# plot!\n",
    "fig, ax = plt.subplots()\n",
    "\n",
    "x_values = [\"Molecular\\nFunction\", \"Cellular\\nComponent\", \"Biological\\nProcess\"]\n",
    "counts_1p = [mf_counter_1p, cc_counter_1p, bp_counter_1p]\n",
    "counts_allp = [mf_counter_allp, cc_counter_allp, bp_counter_allp]\n",
    "print(counts_allp)\n",
    "\n",
    "width = .3\n",
    "ax.bar(x_values, counts_1p, width=width, color='xkcd:pig pink')\n",
    "ax.bar(np.arange(len(counts_allp))+ width, counts_allp, width=width, color='xkcd:muted pink')\n",
    "\n",
    "\n",
    "# ax.set_xticklabels(x_values, fontsize=12)\n",
    "\n",
    "ax.set_title(f\"label-types of lost GO labels\", fontsize=16)\n",
    "\n",
    "\n",
    "ax.set_ylabel('number of new GO terms\\nof this type', fontsize=12)\n",
    "ax.set_xlabel('GO Label', fontsize=12)\n",
    "\n",
    "ax.grid(axis='y')\n",
    "ax.legend([\"adding 1 protein\", \"adding all proteins\"], loc=2)\n",
    "\n",
    "fig.set_size_inches(3,3)\n",
    "plt.show()\n"
   ]
  },
  {
   "cell_type": "code",
   "execution_count": null,
   "metadata": {},
   "outputs": [],
   "source": []
  },
  {
   "cell_type": "code",
   "execution_count": null,
   "metadata": {},
   "outputs": [],
   "source": []
  },
  {
   "cell_type": "code",
   "execution_count": 50,
   "metadata": {},
   "outputs": [
    {
     "name": "stdout",
     "output_type": "stream",
     "text": [
      "the average cluster size is 23.542713567839197. median is 15\n",
      "the average modified cluster size (before modification) is 37.244680851063826. median is 27.0\n",
      "avg number of two proteins: 1.6808510638297873, median: 2.0\n",
      "avg number of three proteins: 2.1914893617021276, median: 3.0\n",
      "avg number of all proteins: 7.75531914893617, median: 3.0\n"
     ]
    }
   ],
   "source": [
    "# METHOD ___ STATS:\n",
    "from statistics import median\n",
    "\n",
    "# avg cluster size of modified cluster (compared to average cluster size)\n",
    "running_sum = list()\n",
    "for key in clusters.get_all_clusters():\n",
    "    running_sum.append(len(clusters.get_cluster_proteins(key)))\n",
    "print(f\"the average cluster size is {sum(running_sum)/len(running_sum)}. median is {median(running_sum)}\")\n",
    "\n",
    "running_sum2 = list()\n",
    "for key in qualifying_proteins.keys():\n",
    "    running_sum2.append(len(clusters.get_cluster_proteins(key)))\n",
    "print(f\"the average modified cluster size (before modification) is {sum(running_sum2)/len(running_sum2)}. median is {median(running_sum2)}\")\n",
    "\n",
    "\n",
    "\n",
    "# find the number of proteins added\n",
    "sum_all = list()\n",
    "for key in qualifying_proteins.keys():\n",
    "    sum_all.append(len(qualifying_proteins[key]))\n",
    "\n",
    "\n",
    "sum_three = list()\n",
    "for key in three_qualifying_proteins.keys():\n",
    "    sum_three.append(len(three_qualifying_proteins[key]))\n",
    "\n",
    "sum_two = list()\n",
    "for key in two_qualifying_proteins.keys():\n",
    "    sum_two.append(len(two_qualifying_proteins[key]))\n",
    "\n",
    "\n",
    "\n",
    "from statistics import median\n",
    "\n",
    "print(f\"avg number of two proteins: {sum(sum_two) /len(sum_two)}, median: {median(sum_two)}\\navg number of three proteins: {sum(sum_three) / len(sum_three)}, median: {median(sum_three)}\\navg number of all proteins: {sum(sum_all) / len(sum_all)}, median: {median(sum_all)}\")\n",
    "\n"
   ]
  },
  {
   "cell_type": "code",
   "execution_count": null,
   "metadata": {},
   "outputs": [],
   "source": []
  },
  {
   "cell_type": "code",
   "execution_count": null,
   "metadata": {},
   "outputs": [],
   "source": []
  },
  {
   "cell_type": "code",
   "execution_count": null,
   "metadata": {},
   "outputs": [],
   "source": []
  },
  {
   "cell_type": "code",
   "execution_count": null,
   "metadata": {},
   "outputs": [],
   "source": []
  },
  {
   "cell_type": "code",
   "execution_count": 37,
   "metadata": {},
   "outputs": [],
   "source": [
    "# # TODO: go labels that are now functionally enriched (will need to do it on a cluster basis including the cluster name)\n",
    "# print(f\"there are {} go labels that are newly functionally enriched after adding 1 protein, {} after 2 proteins, {} after 3 proteins, and {} after all proteins\")\n",
    "# # go labels that are no longer functionally enriched\n",
    "# print(f\"after adding 1 protein, {len(original_terms_vs_1p)} labels are lost. after adding 2 proteins {len(original_terms_vs_2p)} are lost. {len(original_terms_vs_3p)} after 3, and {len(original_terms_vs_allp)} after all\")\n",
    "\n",
    "\n",
    "# print(f\"{new_terms_1p}\")\n",
    "# print(f\"{new_terms_2p}\")\n",
    "# print(f\"{new_terms_3p}\")\n",
    "# print(f\"{new_terms_allp}\")\n"
   ]
  },
  {
   "cell_type": "code",
   "execution_count": null,
   "metadata": {},
   "outputs": [],
   "source": []
  },
  {
   "cell_type": "code",
   "execution_count": null,
   "metadata": {},
   "outputs": [],
   "source": []
  },
  {
   "cell_type": "code",
   "execution_count": null,
   "metadata": {},
   "outputs": [],
   "source": []
  },
  {
   "cell_type": "code",
   "execution_count": 58,
   "metadata": {},
   "outputs": [
    {
     "name": "stdout",
     "output_type": "stream",
     "text": [
      "345\n",
      "372\n"
     ]
    }
   ],
   "source": []
  },
  {
   "cell_type": "code",
   "execution_count": 61,
   "metadata": {},
   "outputs": [
    {
     "name": "stdout",
     "output_type": "stream",
     "text": [
      "[345, 367, 373, 386, 372]\n"
     ]
    },
    {
     "name": "stderr",
     "output_type": "stream",
     "text": [
      "/var/folders/hk/q40rrztn3glcl0jvwjcpzyth0000gn/T/ipykernel_23965/2426469526.py:12: UserWarning: FixedFormatter should only be used together with FixedLocator\n",
      "  ax.set_xticklabels(x_values, fontsize=14)\n"
     ]
    },
    {
     "data": {
      "image/png": "[encoded data removed]",
      "text/plain": [
       "<Figure size 360x360 with 1 Axes>"
      ]
     },
     "metadata": {
      "needs_background": "light"
     },
     "output_type": "display_data"
    }
   ],
   "source": [
    "# create p-val graph\n",
    "fig, ax = plt.subplots()\n",
    "\n",
    "x_values = [\"0\", \"1\", \"up to 2\", \"up to 3\", \"all\"]\n",
    "counts = [len(set(original_enriched_terms))\n",
    ", len(set(enriched_terms_one_protein)), len(set(enriched_terms_two_proteins)), len(set(enriched_terms_three_proteins)), len(set(enriched_terms_all_proteins))]\n",
    "print(counts)\n",
    "\n",
    "\n",
    "ax.bar(x_values, counts, color=['xkcd:powder pink', 'xkcd:pig pink', 'xkcd:pig pink', 'xkcd:pig pink', 'xkcd:muted pink'])\n",
    "\n",
    "ax.set_xticklabels(x_values, fontsize=14)\n",
    "\n",
    "ax.set_title(f\"Number of Unique GO-Terms that are\\nFunctionally Enriched ({len(qualifying_proteins.keys())} clusters modified)\", fontsize=18)\n",
    "# TODO: do i want to say number of significant p-values, or do i want to say number of Go-Terms / labels etc\n",
    "\n",
    "ax.set_ylabel('count', fontsize=16)\n",
    "ax.set_xlabel('number of proteins added', fontsize=16)\n",
    "\n",
    "ax.grid(axis='y')\n",
    "\n",
    "fig.set_size_inches(5,5)\n",
    "plt.show()"
   ]
  },
  {
   "cell_type": "code",
   "execution_count": 69,
   "metadata": {},
   "outputs": [
    {
     "data": {
      "text/html": [
       "<div>\n",
       "<style scoped>\n",
       "    .dataframe tbody tr th:only-of-type {\n",
       "        vertical-align: middle;\n",
       "    }\n",
       "\n",
       "    .dataframe tbody tr th {\n",
       "        vertical-align: top;\n",
       "    }\n",
       "\n",
       "    .dataframe thead th {\n",
       "        text-align: right;\n",
       "    }\n",
       "</style>\n",
       "<table border=\"1\" class=\"dataframe\">\n",
       "  <thead>\n",
       "    <tr style=\"text-align: right;\">\n",
       "      <th></th>\n",
       "      <th>Module</th>\n",
       "      <th>Term</th>\n",
       "      <th>Count_in_Module</th>\n",
       "      <th>Count_in_Background</th>\n",
       "      <th>Fishers_pvalue</th>\n",
       "    </tr>\n",
       "  </thead>\n",
       "  <tbody>\n",
       "    <tr>\n",
       "      <th>0</th>\n",
       "      <td>cluster_0</td>\n",
       "      <td>GO:0000724</td>\n",
       "      <td>3</td>\n",
       "      <td>43</td>\n",
       "      <td>0.004074</td>\n",
       "    </tr>\n",
       "    <tr>\n",
       "      <th>1</th>\n",
       "      <td>cluster_0</td>\n",
       "      <td>GO:0008157</td>\n",
       "      <td>2</td>\n",
       "      <td>17</td>\n",
       "      <td>0.00765</td>\n",
       "    </tr>\n",
       "    <tr>\n",
       "      <th>2</th>\n",
       "      <td>cluster_0</td>\n",
       "      <td>GO:0010165</td>\n",
       "      <td>2</td>\n",
       "      <td>17</td>\n",
       "      <td>0.00765</td>\n",
       "    </tr>\n",
       "    <tr>\n",
       "      <th>3</th>\n",
       "      <td>cluster_1</td>\n",
       "      <td>GO:0007416</td>\n",
       "      <td>2</td>\n",
       "      <td>24</td>\n",
       "      <td>0.001082</td>\n",
       "    </tr>\n",
       "    <tr>\n",
       "      <th>4</th>\n",
       "      <td>cluster_100</td>\n",
       "      <td>GO:0000086</td>\n",
       "      <td>2</td>\n",
       "      <td>86</td>\n",
       "      <td>0.005169</td>\n",
       "    </tr>\n",
       "    <tr>\n",
       "      <th>...</th>\n",
       "      <td>...</td>\n",
       "      <td>...</td>\n",
       "      <td>...</td>\n",
       "      <td>...</td>\n",
       "      <td>...</td>\n",
       "    </tr>\n",
       "    <tr>\n",
       "      <th>400</th>\n",
       "      <td>cluster_95</td>\n",
       "      <td>GO:0043666</td>\n",
       "      <td>2</td>\n",
       "      <td>21</td>\n",
       "      <td>0.006632</td>\n",
       "    </tr>\n",
       "    <tr>\n",
       "      <th>401</th>\n",
       "      <td>cluster_96</td>\n",
       "      <td>GO:0005179</td>\n",
       "      <td>5</td>\n",
       "      <td>47</td>\n",
       "      <td>0.001872</td>\n",
       "    </tr>\n",
       "    <tr>\n",
       "      <th>402</th>\n",
       "      <td>cluster_98</td>\n",
       "      <td>GO:0007156</td>\n",
       "      <td>3</td>\n",
       "      <td>25</td>\n",
       "      <td>0.006058</td>\n",
       "    </tr>\n",
       "    <tr>\n",
       "      <th>403</th>\n",
       "      <td>cluster_99</td>\n",
       "      <td>GO:0018105</td>\n",
       "      <td>4</td>\n",
       "      <td>143</td>\n",
       "      <td>0.006975</td>\n",
       "    </tr>\n",
       "    <tr>\n",
       "      <th>404</th>\n",
       "      <td>cluster_99</td>\n",
       "      <td>GO:0070371</td>\n",
       "      <td>2</td>\n",
       "      <td>17</td>\n",
       "      <td>0.004183</td>\n",
       "    </tr>\n",
       "  </tbody>\n",
       "</table>\n",
       "<p>405 rows × 5 columns</p>\n",
       "</div>"
      ],
      "text/plain": [
       "          Module        Term Count_in_Module Count_in_Background  \\\n",
       "0      cluster_0  GO:0000724               3                  43   \n",
       "1      cluster_0  GO:0008157               2                  17   \n",
       "2      cluster_0  GO:0010165               2                  17   \n",
       "3      cluster_1  GO:0007416               2                  24   \n",
       "4    cluster_100  GO:0000086               2                  86   \n",
       "..           ...         ...             ...                 ...   \n",
       "400   cluster_95  GO:0043666               2                  21   \n",
       "401   cluster_96  GO:0005179               5                  47   \n",
       "402   cluster_98  GO:0007156               3                  25   \n",
       "403   cluster_99  GO:0018105               4                 143   \n",
       "404   cluster_99  GO:0070371               2                  17   \n",
       "\n",
       "    Fishers_pvalue  \n",
       "0         0.004074  \n",
       "1          0.00765  \n",
       "2          0.00765  \n",
       "3         0.001082  \n",
       "4         0.005169  \n",
       "..             ...  \n",
       "400       0.006632  \n",
       "401       0.001872  \n",
       "402       0.006058  \n",
       "403       0.006975  \n",
       "404       0.004183  \n",
       "\n",
       "[405 rows x 5 columns]"
      ]
     },
     "execution_count": 69,
     "metadata": {},
     "output_type": "execute_result"
    }
   ],
   "source": [
    "original_fe.enrichment[[\"Module\", 'Term', 'Count_in_Module', 'Count_in_Background', 'Fishers_pvalue']]\n"
   ]
  },
  {
   "cell_type": "code",
   "execution_count": null,
   "metadata": {},
   "outputs": [],
   "source": []
  },
  {
   "cell_type": "code",
   "execution_count": null,
   "metadata": {},
   "outputs": [],
   "source": []
  },
  {
   "cell_type": "code",
   "execution_count": 73,
   "metadata": {},
   "outputs": [
    {
     "name": "stdout",
     "output_type": "stream",
     "text": [
      "156\n"
     ]
    }
   ],
   "source": [
    "# determine number of nodes in multiple clusters\n",
    "\n",
    "# total number of proteins added back\n",
    "proteins_added = list()\n",
    "for key in qualifying_proteins.keys():\n",
    "    for protein in qualifying_proteins[key]:\n",
    "        proteins_added.append(protein)\n",
    "\n",
    "# print(f\"{proteins_added}\")\n",
    "\n",
    "\n",
    "print(f\"{len(set(proteins_added))}\")\n",
    "\n"
   ]
  },
  {
   "cell_type": "code",
   "execution_count": 75,
   "metadata": {},
   "outputs": [
    {
     "name": "stdout",
     "output_type": "stream",
     "text": [
      "get_all_cluster_labels fxn has not been tested\n",
      "4685\n"
     ]
    }
   ],
   "source": [
    "# determine number of nodes in all clusters\n",
    "\n",
    "all_proteins_in_clusters = set()\n",
    "for key in clusters.get_all_cluster_labels():\n",
    "    all_proteins_in_clusters.update(clusters.get_cluster_proteins(key))\n",
    "\n",
    "print(f\"{len(set(all_proteins_in_clusters))}\")\n",
    "\n"
   ]
  },
  {
   "cell_type": "code",
   "execution_count": null,
   "metadata": {},
   "outputs": [],
   "source": []
  },
  {
   "cell_type": "code",
   "execution_count": null,
   "metadata": {},
   "outputs": [],
   "source": []
  },
  {
   "cell_type": "code",
   "execution_count": null,
   "metadata": {},
   "outputs": [],
   "source": [
    "\n",
    "\n",
    "\n",
    "\n"
   ]
  },
  {
   "cell_type": "code",
   "execution_count": 38,
   "metadata": {},
   "outputs": [],
   "source": [
    "# TODO: also want to check out on a cluster vs cluster basis"
   ]
  }
 ],
 "metadata": {
  "kernelspec": {
   "display_name": "Python 3.10.4 ('diamonds')",
   "language": "python",
   "name": "python3"
  },
  "language_info": {
   "codemirror_mode": {
    "name": "ipython",
    "version": 3
   },
   "file_extension": ".py",
   "mimetype": "text/x-python",
   "name": "python",
   "nbconvert_exporter": "python",
   "pygments_lexer": "ipython3",
   "version": "3.10.4"
  },
  "orig_nbformat": 4,
  "vscode": {
   "interpreter": {
    "hash": "e113e58b579a48e5732235004b32d872074e11125058c2d5e4f294336344a2ee"
   }
  }
 },
 "nbformat": 4,
 "nbformat_minor": 2
}
