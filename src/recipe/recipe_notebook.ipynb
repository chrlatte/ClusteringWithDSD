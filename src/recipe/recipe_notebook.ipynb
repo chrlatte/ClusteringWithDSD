{
 "cells": [
  {
   "cell_type": "markdown",
   "metadata": {},
   "source": [
    "a notebook to test recipe"
   ]
  },
  {
   "cell_type": "code",
   "execution_count": 1,
   "metadata": {},
   "outputs": [],
   "source": [
    "import numpy as np\n",
    "import pandas as pd\n",
    "import warnings\n",
    "warnings.simplefilter(action='ignore', category=FutureWarning)\n",
    "\n",
    "from classes.matrix_class import ProteinMatrix\n",
    "from classes.cluster_class import AllClusters\n",
    "from classes.degreelist_class import DegreeList\n",
    "\n",
    "from func_e.FUNC_E import FUNC_E \n",
    "import func_e.vocabs.all as vocabs\n",
    "\n",
    "\n",
    "from recipe_utils import initialize_matrix_clusters_degreelist\n",
    "from recipe_utils import find_clusters_and_proteins_together\n",
    "from recipe_utils import print_querylist_of_clusters_to_file\n",
    "from recipe_utils import get_initialized_fe\n",
    "from recipe_utils import print_protein_background_to_file\n"
   ]
  },
  {
   "cell_type": "code",
   "execution_count": 2,
   "metadata": {},
   "outputs": [],
   "source": [
    "import matplotlib.pyplot as plt\n",
    "import json\n"
   ]
  },
  {
   "cell_type": "code",
   "execution_count": 3,
   "metadata": {},
   "outputs": [],
   "source": [
    "def create_term_mapping_list(go_terms_filepath: str, term_mapping_filepath: str = 'term_mapping.txt'):\n",
    "    \"\"\"\n",
    "    the original file (go_terms_filepath) is in form GOTERM tab PROTEIN, while the term mapping file (term_mapping_filepath) is printed in form PROTEIN tab GOTERM. if a protein has multiple they appear on seperate lines\n",
    "    \"\"\"\n",
    "    with open(term_mapping_filepath, 'w') as file:\n",
    "        with open(go_terms_filepath, 'r') as go_annotation_file:\n",
    "            for _ in range(1): # first line of file has column titles, and should be skipped\n",
    "                next(go_annotation_file)\n",
    "            for line in go_annotation_file:\n",
    "                terms = line.split()\n",
    "                file.write(f\"{terms[1]}\\t{terms[0]}\\n\")"
   ]
  },
  {
   "cell_type": "code",
   "execution_count": 4,
   "metadata": {},
   "outputs": [],
   "source": [
    "dream3_cluster_dict_file = \"../../data/results/DREAM-3-cc/d3_5_100.json-cluster.json\"\n",
    "dict_of_clusters = {}\n",
    "# # convert actual cluster file to a dictionary!!\n",
    "with open(dream3_cluster_dict_file,\"r\") as cluster_dict_file:\n",
    "    dict_of_clusters = json.load(cluster_dict_file)\n"
   ]
  },
  {
   "cell_type": "code",
   "execution_count": 5,
   "metadata": {},
   "outputs": [],
   "source": [
    "matrix, clusters, degreelist = initialize_matrix_clusters_degreelist(\"../../data/networks/DREAM_files/dream_3.txt\", \"../../data/results/DREAM-3-cc/d3_5_100.json-cluster.json\")"
   ]
  },
  {
   "cell_type": "code",
   "execution_count": 6,
   "metadata": {},
   "outputs": [],
   "source": [
    "genomic_background_filepath = '../../data/testing_data/protein_list.txt'\n",
    "all_go_terms = vocabs.getTerms(['GO'])\n",
    "term_mapping_filepath = 'term_mapping.txt'\n",
    "create_term_mapping_list('../../data/go-results/dream_3_go_results.tsv', term_mapping_filepath)"
   ]
  },
  {
   "cell_type": "markdown",
   "metadata": {},
   "source": [
    "# METHOD:"
   ]
  },
  {
   "cell_type": "code",
   "execution_count": 7,
   "metadata": {},
   "outputs": [],
   "source": [
    "# run program using min_components method\n",
    "qualifying_clusters, qualifying_proteins = find_clusters_and_proteins_together(matrix, clusters, degreelist, cluster_ratio=0, cluster_constant=0,min_components_that_protein_connects=3)"
   ]
  },
  {
   "cell_type": "code",
   "execution_count": 8,
   "metadata": {},
   "outputs": [
    {
     "name": "stdout",
     "output_type": "stream",
     "text": [
      "dict_keys([0, 4, 6, 7, 11, 12, 13, 14, 21, 25, 26, 29, 30, 32, 34, 39, 41, 47, 49, 50, 51, 61, 62, 63, 65, 69, 72, 73, 75, 77, 79, 81, 82, 84, 85, 87, 89, 90, 95, 96, 98, 99, 103, 104, 107, 108, 110, 111, 114, 115, 117, 119, 121, 122, 123, 125, 126, 127, 132, 134, 137, 138, 141, 142, 144, 146, 149, 150, 151, 152, 153, 154, 156, 157, 158, 159, 160, 161, 162, 164, 167, 168, 170, 171, 172, 175, 178, 179, 180, 185, 189, 193, 194, 195])\n"
     ]
    }
   ],
   "source": [
    "print(qualifying_proteins.keys())"
   ]
  },
  {
   "cell_type": "code",
   "execution_count": 9,
   "metadata": {},
   "outputs": [],
   "source": [
    "original_clusters_querylist = 'og_querylist.txt'\n",
    "updated_clusters_querylist_all_proteins = 'new_querylist_all_proteins.txt'\n",
    "\n",
    "# original:\n",
    "print_querylist_of_clusters_to_file(clusters, qualifying_proteins.keys(),original_clusters_querylist)\n",
    "\n",
    "# clusters with all proteins added:\n",
    "print_querylist_of_clusters_to_file(clusters, qualifying_proteins.keys(), updated_clusters_querylist_all_proteins, qualifying_proteins)"
   ]
  },
  {
   "cell_type": "code",
   "execution_count": 10,
   "metadata": {},
   "outputs": [],
   "source": [
    "original_fe = get_initialized_fe(genomic_background_filepath, term_mapping_filepath, termlist = all_go_terms)\n",
    "\n",
    "original_fe.importFiles({'query': original_clusters_querylist })\n",
    "original_fe.run(cluster=False)\n"
   ]
  },
  {
   "cell_type": "code",
   "execution_count": 11,
   "metadata": {},
   "outputs": [],
   "source": [
    "updated_fe_all_proteins = get_initialized_fe(genomic_background_filepath, term_mapping_filepath, termlist = all_go_terms)\n",
    "\n",
    "updated_fe_all_proteins.importFiles({'query': updated_clusters_querylist_all_proteins })\n",
    "updated_fe_all_proteins.run(cluster=False)"
   ]
  },
  {
   "cell_type": "code",
   "execution_count": 12,
   "metadata": {},
   "outputs": [],
   "source": [
    "# add only 1 protein\n",
    "one_qualifying_protein = dict()\n",
    "for key in qualifying_proteins:\n",
    "    one_qualifying_protein[key] = [qualifying_proteins[key][0]]\n",
    "\n",
    "\n",
    "updated_clusters_querylist_one_protein = 'new_querylist_one_protein.txt'\n",
    "print_querylist_of_clusters_to_file(clusters, one_qualifying_protein.keys(), updated_clusters_querylist_one_protein, one_qualifying_protein)\n",
    "\n",
    "# run functional enrichment for 1 protein added\n",
    "updated_fe_one_protein = get_initialized_fe(genomic_background_filepath, term_mapping_filepath, termlist = all_go_terms)\n",
    "updated_fe_one_protein.importFiles({'query': updated_clusters_querylist_one_protein })\n",
    "updated_fe_one_protein.run(cluster=False)"
   ]
  },
  {
   "cell_type": "code",
   "execution_count": 15,
   "metadata": {},
   "outputs": [],
   "source": [
    "# add only (up to) 2 proteins\n",
    "two_qualifying_proteins = dict()\n",
    "for key in qualifying_proteins:\n",
    "    two_qualifying_proteins[key] = qualifying_proteins[key][0:2]\n",
    "\n",
    "updated_clusters_querylist_two_proteins = 'new_querylist_two_proteins.txt'\n",
    "print_querylist_of_clusters_to_file(clusters, two_qualifying_proteins.keys(), updated_clusters_querylist_two_proteins, two_qualifying_proteins)\n",
    "\n",
    "# run functional enrichment for 3 proteins added\n",
    "updated_fe_two_proteins = get_initialized_fe(genomic_background_filepath, term_mapping_filepath, termlist = all_go_terms)\n",
    "\n",
    "updated_fe_two_proteins.importFiles({'query': updated_clusters_querylist_two_proteins })\n",
    "\n",
    "updated_fe_two_proteins.run(cluster=False)"
   ]
  },
  {
   "cell_type": "code",
   "execution_count": 13,
   "metadata": {},
   "outputs": [],
   "source": [
    "# add only (up to) 3 proteins\n",
    "three_qualifying_proteins = dict()\n",
    "for key in qualifying_proteins:\n",
    "    three_qualifying_proteins[key] = qualifying_proteins[key][0:3]\n",
    "\n",
    "updated_clusters_querylist_three_proteins = 'new_querylist_three_proteins.txt'\n",
    "print_querylist_of_clusters_to_file(clusters, three_qualifying_proteins.keys(), updated_clusters_querylist_three_proteins, three_qualifying_proteins)\n",
    "\n",
    "# run functional enrichment for 3 proteins added\n",
    "updated_fe_three_proteins = get_initialized_fe(genomic_background_filepath, \n",
    "\n",
    "term_mapping_filepath, termlist = all_go_terms)\n",
    "updated_fe_three_proteins.importFiles({'query': updated_clusters_querylist_three_proteins })\n",
    "\n",
    "updated_fe_three_proteins.run(cluster=False)"
   ]
  },
  {
   "cell_type": "code",
   "execution_count": 16,
   "metadata": {},
   "outputs": [
    {
     "name": "stdout",
     "output_type": "stream",
     "text": [
      "number of clusters that were updated with 1,2,3, all proteins: 94\n",
      "\n",
      "number of functionally enriched clusters (modules) out of 94 original clusters: 84\n",
      "number of functionally enriched clusters after addition of 1 protein: 90\n",
      "number of functionally enriched clusters after addition of 2 proteins: 91\n",
      "number of functionally enriched clusters after addition of 3 proteins: 91\n",
      "number of functionally enriched clusters after addition of all proteins: 91\n",
      "\n",
      "number of significant pvals in original clusters before updating: 244\n",
      "number of significant pvals in clusters with 1 protein added: 293\n",
      "number of significant pvals in clusters with up to 2 proteins added: 314\n",
      "number of significant pvals in clusters with up to 3 proteins added: 339\n",
      "number of significant pvals in clusters with all proteins added: 502\n"
     ]
    }
   ],
   "source": [
    "print(f\"number of clusters that were updated with 1,2,3, all proteins: {len(qualifying_proteins.keys())}\\n\")\n",
    "\n",
    "# clusters that are functionall enriched\n",
    "print(f\"number of functionally enriched clusters (modules) out of {len(qualifying_proteins.keys())} original clusters: {original_fe.enrichment['Module'].nunique()}\")\n",
    "\n",
    "print(f\"number of functionally enriched clusters after addition of 1 protein: {updated_fe_one_protein.enrichment['Module'].nunique()}\")\n",
    "\n",
    "print(f\"number of functionally enriched clusters after addition of 2 proteins: {updated_fe_two_proteins.enrichment['Module'].nunique()}\")\n",
    "\n",
    "print(f\"number of functionally enriched clusters after addition of 3 proteins: {updated_fe_three_proteins.enrichment['Module'].nunique()}\")\n",
    "# TODO for above and below figure out avg number of proteins added\n",
    "print(f\"number of functionally enriched clusters after addition of all proteins: {updated_fe_all_proteins.enrichment['Module'].nunique()}\")\n",
    "\n",
    "\n",
    "\n",
    "print(f\"\")\n",
    "\n",
    "\n",
    "\n",
    "# significant P-values!!!\n",
    "print(f\"number of significant pvals in original clusters before updating: {original_fe.enrichment['Fishers_pvalue'].count()}\")\n",
    "\n",
    "print(f\"number of significant pvals in clusters with 1 protein added: {updated_fe_one_protein.enrichment['Fishers_pvalue'].count()}\")\n",
    "\n",
    "print(f\"number of significant pvals in clusters with up to 2 proteins added: {updated_fe_two_proteins.enrichment['Fishers_pvalue'].count()}\")\n",
    "\n",
    "print(f\"number of significant pvals in clusters with up to 3 proteins added: {updated_fe_three_proteins.enrichment['Fishers_pvalue'].count()}\")\n",
    "# TODO for above and below figure out avg number of proteins added\n",
    "print(f\"number of significant pvals in clusters with all proteins added: {updated_fe_all_proteins.enrichment['Fishers_pvalue'].count()}\")\n",
    "\n"
   ]
  },
  {
   "cell_type": "code",
   "execution_count": 17,
   "metadata": {},
   "outputs": [
    {
     "name": "stdout",
     "output_type": "stream",
     "text": [
      "avg number of two proteins: 1.6808510638297873\n",
      "avg number of three proteins: 2.1914893617021276\n",
      "avg number of all proteins: 7.75531914893617\n"
     ]
    }
   ],
   "source": [
    "# find the avg number of proteins added for 3 and all proteins\n",
    "sum_all = 0\n",
    "for key in qualifying_proteins.keys():\n",
    "    sum_all += len(qualifying_proteins[key])\n",
    "\n",
    "\n",
    "sum_three = 0\n",
    "for key in three_qualifying_proteins.keys():\n",
    "    sum_three += len(three_qualifying_proteins[key])\n",
    "\n",
    "sum_two = 0\n",
    "for key in two_qualifying_proteins.keys():\n",
    "    sum_two += len(two_qualifying_proteins[key])\n",
    "\n",
    "print(f\"avg number of two proteins: {sum_two/len(two_qualifying_proteins)}\\navg number of three proteins: {sum_three/len(three_qualifying_proteins)}\\navg number of all proteins: {sum_all/len(qualifying_proteins)}\")"
   ]
  },
  {
   "cell_type": "code",
   "execution_count": null,
   "metadata": {},
   "outputs": [],
   "source": [
    "# TODO find which GO terms are new and which are old"
   ]
  },
  {
   "cell_type": "code",
   "execution_count": 18,
   "metadata": {},
   "outputs": [
    {
     "name": "stderr",
     "output_type": "stream",
     "text": [
      "/var/folders/hk/q40rrztn3glcl0jvwjcpzyth0000gn/T/ipykernel_17887/3464677039.py:9: UserWarning: FixedFormatter should only be used together with FixedLocator\n",
      "  ax.set_xticklabels(x_values, fontsize=12)\n"
     ]
    },
    {
     "data": {
      "image/png": "[encoded data removed]",
      "text/plain": [
       "<Figure size 360x360 with 1 Axes>"
      ]
     },
     "metadata": {
      "needs_background": "light"
     },
     "output_type": "display_data"
    }
   ],
   "source": [
    "# create clusters graph\n",
    "fig, ax = plt.subplots()\n",
    "\n",
    "x_values = [\"0\", \"1\", \"up to 2\",\"up to 3\", \"all\"]\n",
    "counts = [original_fe.enrichment['Module'].nunique(), updated_fe_one_protein.enrichment['Module'].nunique(), updated_fe_two_proteins.enrichment['Module'].nunique(), updated_fe_three_proteins.enrichment['Module'].nunique(), updated_fe_all_proteins.enrichment['Module'].nunique()]\n",
    "\n",
    "ax.bar(x_values, counts, color=['xkcd:powder pink', 'xkcd:pig pink', 'xkcd:pig pink', 'xkcd:pig pink', 'xkcd:muted pink'])\n",
    "\n",
    "ax.set_xticklabels(x_values, fontsize=12)\n",
    "\n",
    "ax.set_title(f\"Number of Functionally Enriched Clusters\\n(out of {len(qualifying_proteins.keys())} qualifying clusters)\", fontsize=16)\n",
    "ax.set_ylabel('count', fontsize=12)\n",
    "\n",
    "ax.set_xlabel('number of proteins added', fontsize=12)\n",
    "\n",
    "ax.grid(axis='y')\n",
    "\n",
    "fig.set_size_inches(5,5)\n",
    "plt.show()\n"
   ]
  },
  {
   "cell_type": "code",
   "execution_count": 19,
   "metadata": {},
   "outputs": [
    {
     "name": "stderr",
     "output_type": "stream",
     "text": [
      "/var/folders/hk/q40rrztn3glcl0jvwjcpzyth0000gn/T/ipykernel_17887/3688101204.py:9: UserWarning: FixedFormatter should only be used together with FixedLocator\n",
      "  ax.set_xticklabels(x_values, fontsize=12)\n"
     ]
    },
    {
     "data": {
      "image/png": "[encoded data removed]",
      "text/plain": [
       "<Figure size 360x360 with 1 Axes>"
      ]
     },
     "metadata": {
      "needs_background": "light"
     },
     "output_type": "display_data"
    }
   ],
   "source": [
    "# create p-val graph\n",
    "fig, ax = plt.subplots()\n",
    "\n",
    "x_values = [\"0\", \"1\", \"up to 2\", \"up to 3\", \"all\"]\n",
    "counts = [original_fe.enrichment['Fishers_pvalue'].count(), updated_fe_one_protein.enrichment['Fishers_pvalue'].count(), updated_fe_two_proteins.enrichment['Fishers_pvalue'].count(), updated_fe_three_proteins.enrichment['Fishers_pvalue'].count(), updated_fe_all_proteins.enrichment['Fishers_pvalue'].count()]\n",
    "\n",
    "ax.bar(x_values, counts, color=['xkcd:powder pink', 'xkcd:pig pink', 'xkcd:pig pink', 'xkcd:pig pink', 'xkcd:muted pink'])\n",
    "\n",
    "ax.set_xticklabels(x_values, fontsize=12)\n",
    "\n",
    "ax.set_title(f\"Number of Significant p-values (p < 0.01)\\nin {len(qualifying_proteins.keys())} Clusters\", fontsize=16)\n",
    "\n",
    "# TODO: do i want to say number of significant p-values, or do i want to say number of Go-Terms / labels etc\n",
    "\n",
    "ax.set_ylabel('count', fontsize=12)\n",
    "ax.set_xlabel('number of proteins added', fontsize=12)\n",
    "\n",
    "ax.grid(axis='y')\n",
    "\n",
    "fig.set_size_inches(5,5)\n",
    "plt.show()\n",
    "\n"
   ]
  },
  {
   "cell_type": "code",
   "execution_count": 31,
   "metadata": {},
   "outputs": [],
   "source": [
    "# TODO: now want to see which GO terms are functionally enriched\n",
    "\n",
    "original_enriched_terms = original_fe.enrichment['Term']\n",
    "enriched_terms_one_protein = updated_fe_one_protein.enrichment['Term']\n",
    "enriched_terms_two_proteins = updated_fe_two_proteins.enrichment['Term']\n",
    "enriched_terms_three_proteins = updated_fe_three_proteins.enrichment['Term']\n",
    "enriched_terms_all_proteins = updated_fe_all_proteins.enrichment['Term']"
   ]
  },
  {
   "cell_type": "code",
   "execution_count": 37,
   "metadata": {},
   "outputs": [
    {
     "name": "stdout",
     "output_type": "stream",
     "text": [
      "{'GO:0010165', 'GO:0051019', 'GO:0030041', 'GO:0002755', 'GO:0048015', 'GO:0048010', 'GO:0055037', 'GO:0001774', 'GO:2001237', 'GO:0051281', 'GO:0005882', 'GO:0043565', 'GO:0050830', 'GO:0005604', 'GO:0010951', 'GO:0030279', 'GO:0043280', 'GO:0046718', 'GO:0008157', 'GO:0035666', 'GO:0070979', 'GO:0032728', 'GO:0008277', 'GO:0048011', 'GO:2000463', 'GO:0031398', 'GO:0050767', 'GO:0046854', 'GO:2000310', 'GO:0007346'}\n",
      "{'GO:0007026', 'GO:0010165', 'GO:0051019', 'GO:0030041', 'GO:0045765', 'GO:2000406', 'GO:0045944', 'GO:0043537', 'GO:0002755', 'GO:0031573', 'GO:0060444', 'GO:0048015', 'GO:0035307', 'GO:0055037', 'GO:0001774', 'GO:2001237', 'GO:0007601', 'GO:0032515', 'GO:0005819', 'GO:2001235', 'GO:0051281', 'GO:0005882', 'GO:0050830', 'GO:0043410', 'GO:0043276', 'GO:0010951', 'GO:0072332', 'GO:0005604', 'GO:0030279', 'GO:0046718', 'GO:0002479', 'GO:0035666', 'GO:0043280', 'GO:0008157', 'GO:0030667', 'GO:0070979', 'GO:0016567', 'GO:0032728', 'GO:0008277', 'GO:0048011', 'GO:2000463', 'GO:0031398', 'GO:0050767', 'GO:0046854', 'GO:2000310', 'GO:0007346', 'GO:0055038'}\n",
      "{'GO:0007026', 'GO:0010165', 'GO:0051019', 'GO:0030041', 'GO:0045765', 'GO:2000406', 'GO:0045944', 'GO:0030111', 'GO:0043537', 'GO:0002755', 'GO:0031573', 'GO:0060444', 'GO:0048015', 'GO:0035307', 'GO:0055037', 'GO:0001774', 'GO:2001237', 'GO:0007601', 'GO:0005819', 'GO:2001235', 'GO:0051281', 'GO:0005882', 'GO:0034765', 'GO:0050830', 'GO:0043410', 'GO:0043276', 'GO:0010951', 'GO:0072332', 'GO:0005604', 'GO:0030879', 'GO:0055038', 'GO:0046718', 'GO:0035666', 'GO:0030279', 'GO:0002479', 'GO:0043280', 'GO:0008157', 'GO:0030667', 'GO:0070979', 'GO:0050772', 'GO:0016567', 'GO:0032728', 'GO:0008277', 'GO:0048011', 'GO:0006396', 'GO:2000463', 'GO:0032092', 'GO:0031398', 'GO:0050767', 'GO:0046854', 'GO:2000310', 'GO:0007346', 'GO:0000977', 'GO:0031901'}\n",
      "{'GO:0018215', 'GO:0010165', 'GO:0051019', 'GO:0004222', 'GO:0045944', 'GO:0031901', 'GO:0002755', 'GO:0043161', 'GO:0075733', 'GO:0005819', 'GO:0060334', 'GO:0010951', 'GO:0072332', 'GO:0035666', 'GO:0032728', 'GO:0048011', 'GO:2000463', 'GO:0032092', 'GO:0046854', 'GO:0005741', 'GO:2000310', 'GO:0017148', 'GO:0030175', 'GO:0007026', 'GO:0000724', 'GO:0030041', 'GO:0033574', 'GO:0005109', 'GO:0060444', 'GO:0043967', 'GO:0048015', 'GO:0035577', 'GO:0055037', 'GO:0070936', 'GO:0007601', 'GO:2001235', 'GO:0005882', 'GO:0005604', 'GO:0030879', 'GO:0035025', 'GO:0050727', 'GO:0050772', 'GO:0030502', 'GO:0005874', 'GO:0031398', 'GO:0050767', 'GO:0000723', 'GO:0000977', 'GO:0001656', 'GO:0043966', 'GO:0006338', 'GO:0071897', 'GO:0031267', 'GO:0043539', 'GO:0016579', 'GO:0060997', 'GO:0043410', 'GO:0046718', 'GO:0000398', 'GO:0008017', 'GO:0032740', 'GO:0030133', 'GO:0071542', 'GO:0006953', 'GO:0045765', 'GO:2000406', 'GO:0030111', 'GO:0043537', 'GO:0005814', 'GO:0031573', 'GO:0009749', 'GO:0060236', 'GO:0035307', 'GO:0001774', 'GO:0051281', 'GO:0034765', 'GO:0050830', 'GO:0030279', 'GO:0002479', 'GO:0043280', 'GO:0008157', 'GO:0030667', 'GO:0070979', 'GO:0016567', 'GO:0008277', 'GO:0006396', 'GO:0007156', 'GO:0005179', 'GO:0000079', 'GO:0043409', 'GO:0007346', 'GO:0055038'}\n",
      "{'GO:0032212', 'GO:0005730', 'GO:0071392', 'GO:0060271', 'GO:0006606', 'GO:0001669', 'GO:0032839', 'GO:0010863', 'GO:0030331', 'GO:2001234', 'GO:0035066', 'GO:0101003', 'GO:0000122', 'GO:0060333', 'GO:0070266', 'GO:0010763', 'GO:0045861', 'GO:0030326', 'GO:0045785', 'GO:0016239', 'GO:0048675', 'GO:0018108', 'GO:1901223', 'GO:0007040', 'GO:0051403', 'GO:0006511', 'GO:1902895', 'GO:0060045', 'GO:0043525', 'GO:0051493', 'GO:0045747', 'GO:2001244', 'GO:0008284', 'GO:0071333', 'GO:0010507', 'GO:0051965', 'GO:0070059', 'GO:0071276', 'GO:0010389', 'GO:0031145', 'GO:0030334', 'GO:2000810', 'GO:0004698', 'GO:0090630', 'GO:0032436', 'GO:0007204', 'GO:0006417', 'GO:0045821', 'GO:0015630', 'GO:0007179', 'GO:0006509', 'GO:0060828', 'GO:0034198', 'GO:0042307', 'GO:1900740', 'GO:0018107', 'GO:0005876', 'GO:0106310', 'GO:0046627'}\n",
      "{'GO:0032212', 'GO:0032839', 'GO:0038095', 'GO:0043123', 'GO:0070317', 'GO:0045861', 'GO:0048675', 'GO:0018108', 'GO:0061630', 'GO:2001244', 'GO:0006260', 'GO:0051965', 'GO:0007095', 'GO:0032731', 'GO:0090630', 'GO:0007204', 'GO:0045740', 'GO:0006417', 'GO:0038110', 'GO:1904646', 'GO:0005730', 'GO:0051496', 'GO:0004715', 'GO:0016310', 'GO:0007173', 'GO:0010763', 'GO:0030326', 'GO:0070266', 'GO:0006470', 'GO:0045785', 'GO:0007040', 'GO:0005884', 'GO:0043525', 'GO:0051493', 'GO:0031145', 'GO:0050770', 'GO:0071230', 'GO:0010719', 'GO:0034198', 'GO:0018107', 'GO:0070423', 'GO:0106310', 'GO:0071392', 'GO:0001669', 'GO:0035066', 'GO:1903351', 'GO:0060333', 'GO:0016239', 'GO:1901223', 'GO:1990837', 'GO:0051403', 'GO:0061136', 'GO:0045747', 'GO:0071333', 'GO:1900182', 'GO:2000811', 'GO:0071901', 'GO:0051149', 'GO:0007179', 'GO:0060828', 'GO:0000086', 'GO:0042307', 'GO:1900740', 'GO:0060271', 'GO:0030509', 'GO:0006606', 'GO:0002102', 'GO:0010863', 'GO:2001234', 'GO:0101003', 'GO:0060045', 'GO:0010507', 'GO:0070059', 'GO:0071276', 'GO:0010389', 'GO:0004698', 'GO:2000810', 'GO:0032436', 'GO:0051721', 'GO:0070102', 'GO:0004707', 'GO:0032467', 'GO:0050853', 'GO:0005765'}\n",
      "{'GO:0032212', 'GO:0033674', 'GO:0048661', 'GO:0032839', 'GO:0038095', 'GO:0043123', 'GO:0070317', 'GO:0045861', 'GO:0050885', 'GO:0048675', 'GO:0018108', 'GO:0070885', 'GO:0030838', 'GO:0061630', 'GO:2000251', 'GO:2001244', 'GO:0048146', 'GO:0051965', 'GO:0006260', 'GO:0007095', 'GO:0032731', 'GO:0090630', 'GO:0007204', 'GO:0010634', 'GO:0006417', 'GO:0045582', 'GO:0045740', 'GO:0038110', 'GO:1904646', 'GO:0051496', 'GO:0004715', 'GO:0034614', 'GO:0030878', 'GO:0016310', 'GO:0007173', 'GO:0010763', 'GO:0070266', 'GO:0045785', 'GO:1902042', 'GO:0019903', 'GO:0007040', 'GO:0005884', 'GO:0010759', 'GO:0043525', 'GO:0051493', 'GO:0046777', 'GO:0031145', 'GO:0071230', 'GO:0034198', 'GO:0035924', 'GO:0018107', 'GO:0070423', 'GO:0106310', 'GO:0071392', 'GO:0000978', 'GO:0001669', 'GO:0006977', 'GO:0035066', 'GO:1903351', 'GO:0016239', 'GO:1901223', 'GO:0050679', 'GO:0034162', 'GO:1901796', 'GO:1990837', 'GO:0051403', 'GO:0061136', 'GO:0031410', 'GO:0045747', 'GO:0071333', 'GO:1900182', 'GO:0005977', 'GO:0038128', 'GO:2000811', 'GO:0071901', 'GO:0051149', 'GO:0007179', 'GO:0060828', 'GO:0000086', 'GO:0034644', 'GO:0042307', 'GO:1900740', 'GO:0060271', 'GO:0030509', 'GO:0006606', 'GO:0002102', 'GO:0010863', 'GO:0030331', 'GO:2001234', 'GO:0101003', 'GO:0006367', 'GO:0035723', 'GO:0060045', 'GO:0010507', 'GO:0070059', 'GO:0071276', 'GO:0010389', 'GO:0004698', 'GO:2000810', 'GO:0004714', 'GO:0032436', 'GO:2001243', 'GO:0051721', 'GO:0070102', 'GO:0004707', 'GO:0032467', 'GO:0050853', 'GO:0005765'}\n",
      "{'GO:0032212', 'GO:0048661', 'GO:0032839', 'GO:0038095', 'GO:0043123', 'GO:0045861', 'GO:0006468', 'GO:0048675', 'GO:0018108', 'GO:0071375', 'GO:0045648', 'GO:0007254', 'GO:1900034', 'GO:0046326', 'GO:2001244', 'GO:0006260', 'GO:0007095', 'GO:0090630', 'GO:0010634', 'GO:0006417', 'GO:0045582', 'GO:0038110', 'GO:1904646', 'GO:0004715', 'GO:0048538', 'GO:0034614', 'GO:0030878', 'GO:0016310', 'GO:0007173', 'GO:0010763', 'GO:0070266', 'GO:0045785', 'GO:0042771', 'GO:0005080', 'GO:0001223', 'GO:0019903', 'GO:0005884', 'GO:0051493', 'GO:0046777', 'GO:0031145', 'GO:1904837', 'GO:0043154', 'GO:0006006', 'GO:0034198', 'GO:0043536', 'GO:0045737', 'GO:0007519', 'GO:0035924', 'GO:0018107', 'GO:0070423', 'GO:0005876', 'GO:0106310', 'GO:0031333', 'GO:0071392', 'GO:1900087', 'GO:0001669', 'GO:0046628', 'GO:0006977', 'GO:0035066', 'GO:1903351', 'GO:0016239', 'GO:1901223', 'GO:0034162', 'GO:0042177', 'GO:1901796', 'GO:0051403', 'GO:0061136', 'GO:0071902', 'GO:0051973', 'GO:0045747', 'GO:0002223', 'GO:1900182', 'GO:0071333', 'GO:0005977', 'GO:0038128', 'GO:2000811', 'GO:0035578', 'GO:0071901', 'GO:0051149', 'GO:0007179', 'GO:0060828', 'GO:0001784', 'GO:0005739', 'GO:0000086', 'GO:0034644', 'GO:0042307', 'GO:1900740', 'GO:0043406', 'GO:0050731', 'GO:0002102', 'GO:0030509', 'GO:0006606', 'GO:0030331', 'GO:2001234', 'GO:0101003', 'GO:0010718', 'GO:0004693', 'GO:0019233', 'GO:0035723', 'GO:0060045', 'GO:0010507', 'GO:0070059', 'GO:0071276', 'GO:0010389', 'GO:2000379', 'GO:0046827', 'GO:0004698', 'GO:2000810', 'GO:0006978', 'GO:0032436', 'GO:2001243', 'GO:0032148', 'GO:0051721', 'GO:0070102', 'GO:0051146', 'GO:0004707', 'GO:0008286', 'GO:0050853', 'GO:0071479', 'GO:0014066', 'GO:0060079'}\n"
     ]
    }
   ],
   "source": [
    "original_terms_vs_1p = (set(original_enriched_terms) - set(enriched_terms_one_protein))\n",
    "original_terms_vs_2p = (set(original_enriched_terms) - set(enriched_terms_two_proteins))\n",
    "original_terms_vs_3p = (set(original_enriched_terms) - set(enriched_terms_three_proteins))\n",
    "original_terms_vs_allp = (set(original_enriched_terms) - set(enriched_terms_all_proteins))\n",
    "\n",
    "new_terms_1p = (set(enriched_terms_one_protein) - set(original_enriched_terms))\n",
    "new_terms_2p = (set(enriched_terms_two_proteins) - set(original_enriched_terms))\n",
    "new_terms_3p = (set(enriched_terms_three_proteins) - set(original_enriched_terms))\n",
    "new_terms_allp = (set(enriched_terms_all_proteins) - set(original_enriched_terms))\n",
    "\n",
    "\n",
    "print(f\"{original_terms_vs_1p}\")\n",
    "print(f\"{original_terms_vs_2p}\")\n",
    "print(f\"{original_terms_vs_3p}\")\n",
    "print(f\"{original_terms_vs_allp}\")\n",
    "\n",
    "print(f\"{new_terms_1p}\")\n",
    "print(f\"{new_terms_2p}\")\n",
    "print(f\"{new_terms_3p}\")\n",
    "print(f\"{new_terms_allp}\")"
   ]
  },
  {
   "cell_type": "code",
   "execution_count": 109,
   "metadata": {},
   "outputs": [
    {
     "name": "stdout",
     "output_type": "stream",
     "text": [
      "positive regulation of telomere maintenance via telomerase \n",
      "positive regulation of smooth muscle cell proliferation \n",
      "dendrite cytoplasm \n",
      "Fc-epsilon receptor signaling pathway \n",
      "positive regulation of I-kappaB kinase/NF-kappaB signaling \n",
      "negative regulation of proteolysis \n",
      "protein phosphorylation \n",
      "axon extension \n",
      "peptidyl-tyrosine phosphorylation \n",
      "cellular response to peptide hormone stimulus \n",
      "positive regulation of erythrocyte differentiation \n",
      "JNK cascade \n",
      "regulation of cellular response to heat \n",
      "positive regulation of glucose import \n",
      "positive regulation of intrinsic apoptotic signaling pathway \n",
      "DNA replication \n",
      "mitotic G2 DNA damage checkpoint signaling \n",
      "activation of GTPase activity \n",
      "positive regulation of epithelial cell migration \n",
      "regulation of translation \n",
      "positive regulation of T cell differentiation \n",
      "interleukin-2-mediated signaling pathway \n",
      "cellular response to amyloid-beta \n",
      "non-membrane spanning protein tyrosine kinase activity \n",
      "thymus development \n",
      "cellular response to reactive oxygen species \n",
      "thyroid gland development \n",
      "phosphorylation \n",
      "epidermal growth factor receptor signaling pathway \n",
      "positive regulation of fibroblast migration \n",
      "necroptotic process \n",
      "positive regulation of cell adhesion \n",
      "intrinsic apoptotic signaling pathway in response to DNA damage by p53 class mediator \n",
      "protein kinase C binding \n",
      "transcription coactivator binding \n",
      "protein phosphatase binding \n",
      "actin filament \n",
      "regulation of cytoskeleton organization \n",
      "protein autophosphorylation \n",
      "anaphase-promoting complex-dependent catabolic process \n",
      "beta-catenin-TCF complex assembly \n",
      "negative regulation of cysteine-type endopeptidase activity involved in apoptotic process \n",
      "glucose metabolic process \n",
      "cellular response to amino acid starvation \n",
      "positive regulation of blood vessel endothelial cell migration \n",
      "positive regulation of cyclin-dependent protein serine/threonine kinase activity \n",
      "skeletal muscle tissue development \n",
      "cellular response to vascular endothelial growth factor stimulus \n",
      "peptidyl-threonine phosphorylation \n",
      "nucleotide-binding oligomerization domain containing signaling pathway \n",
      "spindle microtubule \n",
      "protein serine kinase activity \n",
      "negative regulation of protein-containing complex assembly \n",
      "cellular response to estradiol stimulus \n",
      "positive regulation of G1/S transition of mitotic cell cycle \n",
      "acrosomal vesicle \n",
      "positive regulation of insulin receptor signaling pathway \n",
      "DNA damage response, signal transduction by p53 class mediator resulting in cell cycle arrest \n",
      "positive regulation of histone acetylation \n",
      "cellular response to dopamine \n",
      "positive regulation of macroautophagy \n",
      "negative regulation of NIK/NF-kappaB signaling \n",
      "toll-like receptor 9 signaling pathway \n",
      "negative regulation of protein catabolic process \n",
      "regulation of signal transduction by p53 class mediator \n",
      "stress-activated MAPK cascade \n",
      "regulation of proteasomal protein catabolic process \n",
      "positive regulation of protein serine/threonine kinase activity \n",
      "positive regulation of telomerase activity \n",
      "positive regulation of Notch signaling pathway \n",
      "stimulatory C-type lectin receptor signaling pathway \n",
      "positive regulation of protein localization to nucleus \n",
      "cellular response to glucose stimulus \n",
      "glycogen metabolic process \n",
      "ERBB2 signaling pathway \n",
      "negative regulation of anoikis \n",
      "azurophil granule lumen \n",
      "negative regulation of protein serine/threonine kinase activity \n",
      "positive regulation of muscle cell differentiation \n",
      "transforming growth factor beta receptor signaling pathway \n",
      "regulation of canonical Wnt signaling pathway \n",
      "phosphotyrosine residue binding \n",
      "mitochondrion \n",
      "G2/M transition of mitotic cell cycle \n",
      "cellular response to UV \n",
      "positive regulation of protein import into nucleus \n",
      "positive regulation of protein insertion into mitochondrial membrane involved in apoptotic signaling pathway \n",
      "positive regulation of MAP kinase activity \n",
      "positive regulation of peptidyl-tyrosine phosphorylation \n",
      "podosome \n",
      "BMP signaling pathway \n",
      "protein import into nucleus \n",
      "nuclear estrogen receptor binding \n",
      "negative regulation of apoptotic signaling pathway \n",
      "ficolin-1-rich granule membrane \n",
      "positive regulation of epithelial to mesenchymal transition \n",
      "cyclin-dependent protein serine/threonine kinase activity \n",
      "sensory perception of pain \n",
      "interleukin-15-mediated signaling pathway \n",
      "positive regulation of cardiac muscle cell proliferation \n",
      "negative regulation of autophagy \n",
      "intrinsic apoptotic signaling pathway in response to endoplasmic reticulum stress \n",
      "cellular response to cadmium ion \n",
      "regulation of G2/M transition of mitotic cell cycle \n",
      "positive regulation of reactive oxygen species metabolic process \n",
      "positive regulation of protein export from nucleus \n",
      "calcium-dependent protein kinase C activity \n",
      "regulation of bicellular tight junction assembly \n",
      "DNA damage response, signal transduction by p53 class mediator resulting in transcription of p21 class mediator \n",
      "positive regulation of proteasomal ubiquitin-dependent protein catabolic process \n",
      "negative regulation of intrinsic apoptotic signaling pathway \n",
      "activation of protein kinase B activity \n",
      "protein phosphatase 2A binding \n",
      "interleukin-6-mediated signaling pathway \n",
      "striated muscle cell differentiation \n",
      "MAP kinase activity \n",
      "insulin receptor signaling pathway \n",
      "B cell receptor signaling pathway \n",
      "cellular response to ionizing radiation \n",
      "regulation of phosphatidylinositol 3-kinase signaling \n",
      "excitatory postsynaptic potential \n"
     ]
    }
   ],
   "source": [
    "# construct a go term vs definition dict\n",
    "go_to_def_dict = dict()\n",
    "with open(\"data/GO.terms.tsv\", 'r') as go_term_to_def_file:\n",
    "    for line in go_term_to_def_file:\n",
    "        arr = line.split()\n",
    "        string = \"\"\n",
    "        for i in arr[2:]:\n",
    "            string += i\n",
    "            string += \" \"\n",
    "        go_to_def_dict[arr[1]] = string\n",
    "\n",
    "\n",
    "\n",
    "for term in new_terms_allp:\n",
    "    print(go_to_def_dict.get(term))"
   ]
  },
  {
   "cell_type": "code",
   "execution_count": 74,
   "metadata": {},
   "outputs": [],
   "source": [
    "# construct a go term vs label dict. \n",
    "go_to_label_dict = dict()\n",
    "\n",
    "\n",
    "with open(\"../../data/go-results/dream_3_go_results.tsv\", \"r\") as file:\n",
    "    for line in file: \n",
    "        arr = line.split()\n",
    "        go_to_label_dict[arr[0]] = arr[2]\n",
    "\n"
   ]
  },
  {
   "cell_type": "code",
   "execution_count": 75,
   "metadata": {},
   "outputs": [],
   "source": [
    "# count number of terms of each type\n",
    "bp_counter_1p = 0\n",
    "cc_counter_1p = 0\n",
    "mf_counter_1p = 0\n",
    "for term in new_terms_1p:\n",
    "    if go_to_label_dict.get(term) == \"biological_process\":\n",
    "        bp_counter_1p += 1\n",
    "    elif go_to_label_dict.get(term) == \"cellular_component\":\n",
    "        cc_counter_1p += 1\n",
    "    elif go_to_label_dict.get(term) == \"molecular_function\":\n",
    "        mf_counter_1p += 1\n",
    "\n",
    "\n",
    "bp_counter_allp = 0\n",
    "cc_counter_allp = 0\n",
    "mf_counter_allp = 0\n",
    "for term in new_terms_allp:\n",
    "    if go_to_label_dict.get(term) == \"biological_process\":\n",
    "        bp_counter_allp += 1\n",
    "    elif go_to_label_dict.get(term) == \"cellular_component\":\n",
    "        cc_counter_allp += 1\n",
    "    elif go_to_label_dict.get(term) == \"molecular_function\":\n",
    "        mf_counter_allp += 1\n"
   ]
  },
  {
   "cell_type": "code",
   "execution_count": 77,
   "metadata": {},
   "outputs": [
    {
     "name": "stderr",
     "output_type": "stream",
     "text": [
      "/var/folders/hk/q40rrztn3glcl0jvwjcpzyth0000gn/T/ipykernel_17887/257497102.py:9: UserWarning: FixedFormatter should only be used together with FixedLocator\n",
      "  ax.set_xticklabels(x_values, fontsize=12)\n"
     ]
    },
    {
     "data": {
      "image/png": "[encoded data removed]",
      "text/plain": [
       "<Figure size 360x360 with 1 Axes>"
      ]
     },
     "metadata": {
      "needs_background": "light"
     },
     "output_type": "display_data"
    }
   ],
   "source": [
    "# create graph to compare coutns of each type (all proteins)\n",
    "fig, ax = plt.subplots()\n",
    "\n",
    "x_values = [\"Molecular Function\", \"Cellular Component\", \"Biological Process\"]\n",
    "counts = [mf_counter_allp, cc_counter_allp, bp_counter_allp]\n",
    "\n",
    "ax.bar(x_values, counts, color=['xkcd:pig pink', 'xkcd:pig pink', 'xkcd:pig pink'])\n",
    "\n",
    "ax.set_xticklabels(x_values, fontsize=12)\n",
    "\n",
    "ax.set_title(f\"GO label types for labels that are newly functionally enriched after adding ALL proteins\", fontsize=16)\n",
    "\n",
    "\n",
    "ax.set_ylabel('number of new GO terms of this type', fontsize=12)\n",
    "ax.set_xlabel('GO Label', fontsize=12)\n",
    "\n",
    "ax.grid(axis='y')\n",
    "\n",
    "fig.set_size_inches(5,5)\n",
    "plt.show()\n",
    "\n"
   ]
  },
  {
   "cell_type": "code",
   "execution_count": 116,
   "metadata": {},
   "outputs": [
    {
     "data": {
      "image/png": "[encoded data removed]",
      "text/plain": [
       "<Figure size 360x360 with 1 Axes>"
      ]
     },
     "metadata": {
      "needs_background": "light"
     },
     "output_type": "display_data"
    }
   ],
   "source": [
    "# create graph to compare coutns of each label type (one and all proteins)\n",
    "fig, ax = plt.subplots()\n",
    "\n",
    "x_values = [\"Molecular\\nFunction\", \"Cellular\\nComponent\", \"Biological\\nProcess\"]\n",
    "counts_1p = [mf_counter_1p, cc_counter_1p, bp_counter_1p]\n",
    "counts_allp = [mf_counter_allp, cc_counter_allp, bp_counter_allp]\n",
    "\n",
    "\n",
    "\n",
    "width = .3\n",
    "ax.bar(x_values, counts_1p, width=width, color=\"xkcd:pig pink\")\n",
    "ax.bar(np.arange(len(counts_allp))+ width, counts_allp, width=width, color=\"xkcd:muted pink\")\n",
    "\n",
    "# ax.set_xticklabels(x_values, fontsize=12)\n",
    "\n",
    "ax.set_title(f\"label-types of (newly) functionally enriched GO labels\", fontsize=16)\n",
    "\n",
    "\n",
    "ax.set_ylabel('number of new GO terms of this type', fontsize=12)\n",
    "ax.set_xlabel('GO Label', fontsize=12)\n",
    "\n",
    "ax.grid(axis='y')\n",
    "ax.legend([\"adding 1 protein\", \"adding all proteins\"], loc=2)\n",
    "\n",
    "fig.set_size_inches(5,5)\n",
    "plt.show()\n"
   ]
  },
  {
   "cell_type": "code",
   "execution_count": 117,
   "metadata": {},
   "outputs": [
    {
     "data": {
      "image/png": "[encoded data removed]",
      "text/plain": [
       "<Figure size 360x360 with 1 Axes>"
      ]
     },
     "metadata": {
      "needs_background": "light"
     },
     "output_type": "display_data"
    }
   ],
   "source": [
    "# create graph to compare coutns of each label type ythat was lost (one and all proteins)\n",
    "\n",
    "original_terms_vs_1p\n",
    "original_terms_vs_allp\n",
    "\n",
    "# count number of terms of each type\n",
    "bp_counter_1p = 0\n",
    "cc_counter_1p = 0\n",
    "mf_counter_1p = 0\n",
    "for term in original_terms_vs_1p:\n",
    "    if go_to_label_dict.get(term) == \"biological_process\":\n",
    "        bp_counter_1p += 1\n",
    "    elif go_to_label_dict.get(term) == \"cellular_component\":\n",
    "        cc_counter_1p += 1\n",
    "    elif go_to_label_dict.get(term) == \"molecular_function\":\n",
    "        mf_counter_1p += 1\n",
    "\n",
    "\n",
    "bp_counter_allp = 0\n",
    "cc_counter_allp = 0\n",
    "mf_counter_allp = 0\n",
    "for term in original_terms_vs_allp:\n",
    "    if go_to_label_dict.get(term) == \"biological_process\":\n",
    "        bp_counter_allp += 1\n",
    "    elif go_to_label_dict.get(term) == \"cellular_component\":\n",
    "        cc_counter_allp += 1\n",
    "    elif go_to_label_dict.get(term) == \"molecular_function\":\n",
    "        mf_counter_allp += 1\n",
    "\n",
    "\n",
    "# plot!\n",
    "fig, ax = plt.subplots()\n",
    "\n",
    "x_values = [\"Molecular\\nFunction\", \"Cellular\\nComponent\", \"Biological\\nProcess\"]\n",
    "counts_1p = [mf_counter_1p, cc_counter_1p, bp_counter_1p]\n",
    "counts_allp = [mf_counter_allp, cc_counter_allp, bp_counter_allp]\n",
    "\n",
    "\n",
    "\n",
    "width = .3\n",
    "ax.bar(x_values, counts_1p, width=width, color=\"xkcd:pig pink\")\n",
    "ax.bar(np.arange(len(counts_allp))+ width, counts_allp, width=width, color=\"xkcd:muted pink\")\n",
    "\n",
    "# ax.set_xticklabels(x_values, fontsize=12)\n",
    "\n",
    "ax.set_title(f\"label-types of lost GO labels\", fontsize=16)\n",
    "\n",
    "\n",
    "ax.set_ylabel('number of new GO terms of this type', fontsize=12)\n",
    "ax.set_xlabel('GO Label', fontsize=12)\n",
    "\n",
    "ax.grid(axis='y')\n",
    "ax.legend([\"adding 1 protein\", \"adding all proteins\"], loc=2)\n",
    "\n",
    "fig.set_size_inches(5,5)\n",
    "plt.show()\n"
   ]
  },
  {
   "cell_type": "code",
   "execution_count": 118,
   "metadata": {},
   "outputs": [
    {
     "name": "stdout",
     "output_type": "stream",
     "text": [
      "the average cluster size is 23.542713567839197\n",
      "the average modified cluster size (before modification) is 37.244680851063826\n",
      "avg number of two proteins: 1.6808510638297873\n",
      "avg number of three proteins: 2.1914893617021276\n",
      "avg number of all proteins: 7.75531914893617\n"
     ]
    }
   ],
   "source": [
    "# METHOD ___ STATS:\n",
    "\n",
    "# avg cluster size of modified cluster (compared to average cluster size)\n",
    "running_sum = 0\n",
    "count = 0\n",
    "for key in clusters.get_all_clusters():\n",
    "    running_sum += len(clusters.get_cluster_proteins(key))\n",
    "    count += 1\n",
    "print(f\"the average cluster size is {running_sum/count}\")\n",
    "\n",
    "running_sum = 0\n",
    "count = 0\n",
    "for key in qualifying_proteins.keys():\n",
    "    running_sum += len(clusters.get_cluster_proteins(key))\n",
    "    count += 1\n",
    "print(f\"the average modified cluster size (before modification) is {running_sum/count}\")\n",
    "\n",
    "\n",
    "# find the number of proteins added\n",
    "sum_all = 0\n",
    "for key in qualifying_proteins.keys():\n",
    "    sum_all += len(qualifying_proteins[key])\n",
    "\n",
    "\n",
    "sum_three = 0\n",
    "for key in three_qualifying_proteins.keys():\n",
    "    sum_three += len(three_qualifying_proteins[key])\n",
    "\n",
    "sum_two = 0\n",
    "for key in two_qualifying_proteins.keys():\n",
    "    sum_two += len(two_qualifying_proteins[key])\n",
    "\n",
    "print(f\"avg number of two proteins: {sum_two/len(two_qualifying_proteins)}\\navg number of three proteins: {sum_three/len(three_qualifying_proteins)}\\navg number of all proteins: {sum_all/len(qualifying_proteins)}\")\n",
    "\n"
   ]
  },
  {
   "cell_type": "code",
   "execution_count": null,
   "metadata": {},
   "outputs": [],
   "source": []
  },
  {
   "cell_type": "code",
   "execution_count": null,
   "metadata": {},
   "outputs": [],
   "source": []
  },
  {
   "cell_type": "code",
   "execution_count": null,
   "metadata": {},
   "outputs": [],
   "source": [
    "# # TODO: go labels that are now functionally enriched (will need to do it on a cluster basis including the cluster name)\n",
    "# print(f\"there are {} go labels that are newly functionally enriched after adding 1 protein, {} after 2 proteins, {} after 3 proteins, and {} after all proteins\")\n",
    "# # go labels that are no longer functionally enriched\n",
    "# print(f\"after adding 1 protein, {len(original_terms_vs_1p)} labels are lost. after adding 2 proteins {len(original_terms_vs_2p)} are lost. {len(original_terms_vs_3p)} after 3, and {len(original_terms_vs_allp)} after all\")\n",
    "\n",
    "\n",
    "# print(f\"{new_terms_1p}\")\n",
    "# print(f\"{new_terms_2p}\")\n",
    "# print(f\"{new_terms_3p}\")\n",
    "# print(f\"{new_terms_allp}\")\n"
   ]
  },
  {
   "cell_type": "code",
   "execution_count": null,
   "metadata": {},
   "outputs": [],
   "source": []
  },
  {
   "cell_type": "code",
   "execution_count": null,
   "metadata": {},
   "outputs": [],
   "source": []
  },
  {
   "cell_type": "code",
   "execution_count": null,
   "metadata": {},
   "outputs": [],
   "source": []
  },
  {
   "cell_type": "code",
   "execution_count": null,
   "metadata": {},
   "outputs": [],
   "source": []
  },
  {
   "cell_type": "code",
   "execution_count": null,
   "metadata": {},
   "outputs": [],
   "source": []
  },
  {
   "cell_type": "code",
   "execution_count": null,
   "metadata": {},
   "outputs": [],
   "source": [
    "# TODO: also want to check out on a cluster vs cluster basis"
   ]
  }
 ],
 "metadata": {
  "kernelspec": {
   "display_name": "Python 3.10.4 ('diamonds')",
   "language": "python",
   "name": "python3"
  },
  "language_info": {
   "codemirror_mode": {
    "name": "ipython",
    "version": 3
   },
   "file_extension": ".py",
   "mimetype": "text/x-python",
   "name": "python",
   "nbconvert_exporter": "python",
   "pygments_lexer": "ipython3",
   "version": "3.10.4"
  },
  "orig_nbformat": 4,
  "vscode": {
   "interpreter": {
    "hash": "e113e58b579a48e5732235004b32d872074e11125058c2d5e4f294336344a2ee"
   }
  }
 },
 "nbformat": 4,
 "nbformat_minor": 2
}
