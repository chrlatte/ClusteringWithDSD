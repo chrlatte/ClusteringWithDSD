{
 "cells": [
  {
   "cell_type": "markdown",
   "metadata": {},
   "source": [
    "a notebook to test recipe"
   ]
  },
  {
   "cell_type": "code",
   "execution_count": 61,
   "metadata": {},
   "outputs": [],
   "source": [
    "import numpy as np\n",
    "import pandas as pd\n",
    "import warnings\n",
    "warnings.simplefilter(action='ignore', category=FutureWarning)\n",
    "\n",
    "from classes.matrix_class import ProteinMatrix\n",
    "from classes.cluster_class import AllClusters\n",
    "from classes.degreelist_class import DegreeList\n",
    "\n",
    "from func_e.FUNC_E import FUNC_E \n",
    "import func_e.vocabs.all as vocabs\n",
    "\n",
    "\n",
    "from recipe_utils import initialize_matrix_clusters_degreelist\n",
    "from recipe_utils import find_clusters_and_proteins_together\n",
    "from recipe_utils import print_querylist_of_clusters_to_file\n",
    "from recipe_utils import get_initialized_fe\n",
    "from recipe_utils import print_protein_background_to_file\n"
   ]
  },
  {
   "cell_type": "code",
   "execution_count": 62,
   "metadata": {},
   "outputs": [],
   "source": [
    "import matplotlib.pyplot as plt\n",
    "import json\n"
   ]
  },
  {
   "cell_type": "code",
   "execution_count": 63,
   "metadata": {},
   "outputs": [],
   "source": [
    "def create_term_mapping_list(go_terms_filepath: str, term_mapping_filepath: str = 'term_mapping.txt'):\n",
    "    \"\"\"\n",
    "    the original file (go_terms_filepath) is in form GOTERM tab PROTEIN, while the term mapping file (term_mapping_filepath) is printed in form PROTEIN tab GOTERM. if a protein has multiple they appear on seperate lines\n",
    "    \"\"\"\n",
    "    with open(term_mapping_filepath, 'w') as file:\n",
    "        with open(go_terms_filepath, 'r') as go_annotation_file:\n",
    "            for _ in range(1): # first line of file has column titles, and should be skipped\n",
    "                next(go_annotation_file)\n",
    "            for line in go_annotation_file:\n",
    "                terms = line.split()\n",
    "                file.write(f\"{terms[1]}\\t{terms[0]}\\n\")"
   ]
  },
  {
   "cell_type": "code",
   "execution_count": 64,
   "metadata": {},
   "outputs": [],
   "source": [
    "dream3_cluster_dict_file = \"../../data/results/DREAM-3-cc/d3_5_100.json-cluster.json\"\n",
    "dict_of_clusters = {}\n",
    "# # convert actual cluster file to a dictionary!!\n",
    "with open(dream3_cluster_dict_file,\"r\") as cluster_dict_file:\n",
    "    dict_of_clusters = json.load(cluster_dict_file)\n"
   ]
  },
  {
   "cell_type": "code",
   "execution_count": 65,
   "metadata": {},
   "outputs": [],
   "source": [
    "matrix, clusters, degreelist = initialize_matrix_clusters_degreelist(\"../../data/networks/DREAM_files/dream_3.txt\", \"../../data/results/DREAM-3-cc/d3_5_100.json-cluster.json\")"
   ]
  },
  {
   "cell_type": "code",
   "execution_count": 66,
   "metadata": {},
   "outputs": [],
   "source": [
    "genomic_background_filepath = '../../data/testing_data/protein_list.txt'\n",
    "all_go_terms = vocabs.getTerms(['GO'])\n",
    "term_mapping_filepath = 'term_mapping.txt'\n",
    "create_term_mapping_list('../../data/go-results/dream_3_go_results.tsv', term_mapping_filepath)"
   ]
  },
  {
   "cell_type": "markdown",
   "metadata": {},
   "source": [
    "# METHOD:"
   ]
  },
  {
   "cell_type": "code",
   "execution_count": 67,
   "metadata": {},
   "outputs": [],
   "source": [
    "# run program using min_components method\n",
    "qualifying_clusters, qualifying_proteins = find_clusters_and_proteins_together(matrix, clusters, degreelist, cluster_ratio=0, cluster_constant=0,min_components_that_protein_connects=3)"
   ]
  },
  {
   "cell_type": "code",
   "execution_count": 68,
   "metadata": {},
   "outputs": [
    {
     "name": "stdout",
     "output_type": "stream",
     "text": [
      "dict_keys([0, 4, 6, 7, 11, 12, 13, 14, 21, 25, 26, 29, 30, 32, 34, 39, 41, 47, 49, 50, 51, 61, 62, 63, 65, 69, 72, 73, 75, 77, 79, 81, 82, 84, 85, 87, 89, 90, 95, 96, 98, 99, 103, 104, 107, 108, 110, 111, 114, 115, 117, 119, 121, 122, 123, 125, 126, 127, 132, 134, 137, 138, 141, 142, 144, 146, 149, 150, 151, 152, 153, 154, 156, 157, 158, 159, 160, 161, 162, 164, 167, 168, 170, 171, 172, 175, 178, 179, 180, 185, 189, 193, 194, 195])\n"
     ]
    }
   ],
   "source": [
    "print(qualifying_proteins.keys())"
   ]
  },
  {
   "cell_type": "code",
   "execution_count": 69,
   "metadata": {},
   "outputs": [],
   "source": [
    "original_clusters_querylist = 'og_querylist.txt'\n",
    "updated_clusters_querylist_all_proteins = 'new_querylist_all_proteins.txt'\n",
    "\n",
    "# original:\n",
    "print_querylist_of_clusters_to_file(clusters, qualifying_proteins.keys(),original_clusters_querylist)\n",
    "\n",
    "# clusters with all proteins added:\n",
    "print_querylist_of_clusters_to_file(clusters, qualifying_proteins.keys(), updated_clusters_querylist_all_proteins, qualifying_proteins)"
   ]
  },
  {
   "cell_type": "code",
   "execution_count": 70,
   "metadata": {},
   "outputs": [],
   "source": [
    "original_fe = get_initialized_fe(genomic_background_filepath, term_mapping_filepath, termlist = all_go_terms)\n",
    "\n",
    "original_fe.importFiles({'query': original_clusters_querylist })\n",
    "original_fe.run(cluster=False)\n"
   ]
  },
  {
   "cell_type": "code",
   "execution_count": 71,
   "metadata": {},
   "outputs": [],
   "source": [
    "updated_fe_all_proteins = get_initialized_fe(genomic_background_filepath, term_mapping_filepath, termlist = all_go_terms)\n",
    "\n",
    "updated_fe_all_proteins.importFiles({'query': updated_clusters_querylist_all_proteins })\n",
    "updated_fe_all_proteins.run(cluster=False)"
   ]
  },
  {
   "cell_type": "code",
   "execution_count": 72,
   "metadata": {},
   "outputs": [],
   "source": [
    "# add only 1 protein\n",
    "one_qualifying_protein = dict()\n",
    "for key in qualifying_proteins:\n",
    "    one_qualifying_protein[key] = [qualifying_proteins[key][0]]\n",
    "\n",
    "\n",
    "updated_clusters_querylist_one_protein = 'new_querylist_one_protein.txt'\n",
    "print_querylist_of_clusters_to_file(clusters, one_qualifying_protein.keys(), updated_clusters_querylist_one_protein, one_qualifying_protein)\n",
    "\n",
    "# run functional enrichment for 1 protein added\n",
    "updated_fe_one_protein = get_initialized_fe(genomic_background_filepath, term_mapping_filepath, termlist = all_go_terms)\n",
    "updated_fe_one_protein.importFiles({'query': updated_clusters_querylist_one_protein })\n",
    "updated_fe_one_protein.run(cluster=False)"
   ]
  },
  {
   "cell_type": "code",
   "execution_count": 74,
   "metadata": {},
   "outputs": [],
   "source": [
    "# add only (up to) 3 proteins\n",
    "three_qualifying_proteins = dict()\n",
    "for key in qualifying_proteins:\n",
    "    three_qualifying_proteins[key] = qualifying_proteins[key][0:3]\n",
    "\n",
    "updated_clusters_querylist_three_proteins = 'new_querylist_three_proteins.txt'\n",
    "print_querylist_of_clusters_to_file(clusters, three_qualifying_proteins.keys(), updated_clusters_querylist_three_proteins, three_qualifying_proteins)\n",
    "\n",
    "# run functional enrichment for 3 proteins added\n",
    "updated_fe_three_proteins = get_initialized_fe(genomic_background_filepath, \n",
    "\n",
    "term_mapping_filepath, termlist = all_go_terms)\n",
    "updated_fe_three_proteins.importFiles({'query': updated_clusters_querylist_three_proteins })\n",
    "\n",
    "updated_fe_three_proteins.run(cluster=False)"
   ]
  },
  {
   "cell_type": "code",
   "execution_count": 75,
   "metadata": {},
   "outputs": [
    {
     "name": "stdout",
     "output_type": "stream",
     "text": [
      "number of clusters that were updated with 1 protein, 3 proteins, all proteins: 94\n",
      "\n",
      "number of functionally enriched clusters (modules) out of 94 original clusters: 84\n",
      "number of functionally enriched clusters after addition of 1 protein: 90\n",
      "number of functionally enriched clusters after addition of 2 proteins: 91\n",
      "number of functionally enriched clusters after addition of 3 proteins: 91\n",
      "number of functionally enriched clusters after addition of all proteins: 91\n",
      "\n",
      "number of significant pvals in original clusters before updating: 244\n",
      "number of significant pvals in clusters with 1 protein added: 293\n",
      "number of significant pvals in clusters with up to 2 proteins added: 314\n",
      "number of significant pvals in clusters with up to 3 proteins added: 339\n",
      "number of significant pvals in clusters with all proteins added: 502\n"
     ]
    }
   ],
   "source": [
    "print(f\"number of clusters that were updated with 1 protein, 3 proteins, all proteins: {len(qualifying_proteins.keys())}\\n\")\n",
    "\n",
    "# clusters that are functionall enriched\n",
    "print(f\"number of functionally enriched clusters (modules) out of {len(qualifying_proteins.keys())} original clusters: {original_fe.enrichment['Module'].nunique()}\")\n",
    "\n",
    "print(f\"number of functionally enriched clusters after addition of 1 protein: {updated_fe_one_protein.enrichment['Module'].nunique()}\")\n",
    "\n",
    "print(f\"number of functionally enriched clusters after addition of 2 proteins: {updated_fe_two_proteins.enrichment['Module'].nunique()}\")\n",
    "\n",
    "print(f\"number of functionally enriched clusters after addition of 3 proteins: {updated_fe_three_proteins.enrichment['Module'].nunique()}\")\n",
    "# TODO for above and below figure out avg number of proteins added\n",
    "print(f\"number of functionally enriched clusters after addition of all proteins: {updated_fe_all_proteins.enrichment['Module'].nunique()}\")\n",
    "\n",
    "\n",
    "\n",
    "print(f\"\")\n",
    "\n",
    "\n",
    "\n",
    "# significant P-values!!!\n",
    "print(f\"number of significant pvals in original clusters before updating: {original_fe.enrichment['Fishers_pvalue'].count()}\")\n",
    "\n",
    "print(f\"number of significant pvals in clusters with 1 protein added: {updated_fe_one_protein.enrichment['Fishers_pvalue'].count()}\")\n",
    "\n",
    "print(f\"number of significant pvals in clusters with up to 2 proteins added: {updated_fe_two_proteins.enrichment['Fishers_pvalue'].count()}\")\n",
    "\n",
    "print(f\"number of significant pvals in clusters with up to 3 proteins added: {updated_fe_three_proteins.enrichment['Fishers_pvalue'].count()}\")\n",
    "# TODO for above and below figure out avg number of proteins added\n",
    "print(f\"number of significant pvals in clusters with all proteins added: {updated_fe_all_proteins.enrichment['Fishers_pvalue'].count()}\")\n",
    "\n"
   ]
  },
  {
   "cell_type": "code",
   "execution_count": 76,
   "metadata": {},
   "outputs": [
    {
     "name": "stdout",
     "output_type": "stream",
     "text": [
      "avg number of two proteins: 1.6808510638297873\n",
      "avg number of three proteins: 2.1914893617021276\n",
      "avg number of all proteins: 7.75531914893617\n"
     ]
    }
   ],
   "source": [
    "# find the avg number of proteins added for 3 and all proteins\n",
    "sum_all = 0\n",
    "for key in qualifying_proteins.keys():\n",
    "    sum_all += len(qualifying_proteins[key])\n",
    "\n",
    "\n",
    "sum_three = 0\n",
    "for key in three_qualifying_proteins.keys():\n",
    "    sum_three += len(three_qualifying_proteins[key])\n",
    "\n",
    "sum_two = 0\n",
    "for key in two_qualifying_proteins.keys():\n",
    "    sum_two += len(two_qualifying_proteins[key])\n",
    "\n",
    "print(f\"avg number of two proteins: {sum_two/len(two_qualifying_proteins)}\\navg number of three proteins: {sum_three/len(three_qualifying_proteins)}\\navg number of all proteins: {sum_all/len(qualifying_proteins)}\")"
   ]
  },
  {
   "cell_type": "code",
   "execution_count": 77,
   "metadata": {},
   "outputs": [],
   "source": [
    "# TODO find which GO terms are new and which are old"
   ]
  },
  {
   "cell_type": "code",
   "execution_count": 94,
   "metadata": {},
   "outputs": [
    {
     "name": "stderr",
     "output_type": "stream",
     "text": [
      "/var/folders/hk/q40rrztn3glcl0jvwjcpzyth0000gn/T/ipykernel_9884/2470565670.py:9: UserWarning: FixedFormatter should only be used together with FixedLocator\n",
      "  ax.set_xticklabels(x_values, fontsize=12)\n"
     ]
    },
    {
     "data": {
      "image/png": "[encoded data removed]",
      "text/plain": [
       "<Figure size 360x360 with 1 Axes>"
      ]
     },
     "metadata": {
      "needs_background": "light"
     },
     "output_type": "display_data"
    }
   ],
   "source": [
    "# create clusters graph\n",
    "fig, ax = plt.subplots()\n",
    "\n",
    "x_values = [\"0\", \"1\", \"up to 2\",\"up to 3\", \"all\"]\n",
    "counts = [original_fe.enrichment['Module'].nunique(), updated_fe_one_protein.enrichment['Module'].nunique(), updated_fe_two_proteins.enrichment['Module'].nunique(), updated_fe_three_proteins.enrichment['Module'].nunique(), updated_fe_all_proteins.enrichment['Module'].nunique()]\n",
    "\n",
    "ax.bar(x_values, counts, color=['xkcd:powder pink', 'xkcd:pig pink', 'xkcd:pig pink', 'xkcd:pig pink', 'xkcd:muted pink'])\n",
    "\n",
    "ax.set_xticklabels(x_values, fontsize=12)\n",
    "\n",
    "ax.set_title(f\"Number of Functionally Enriched Clusters\\n(out of {len(qualifying_proteins.keys())} qualifying clusters)\", fontsize=16)\n",
    "ax.set_ylabel('count', fontsize=12)\n",
    "\n",
    "ax.set_xlabel('number of proteins added', fontsize=12)\n",
    "\n",
    "ax.grid(axis='y')\n",
    "\n",
    "fig.set_size_inches(5,5)\n",
    "plt.show()\n"
   ]
  },
  {
   "cell_type": "code",
   "execution_count": 92,
   "metadata": {},
   "outputs": [
    {
     "name": "stderr",
     "output_type": "stream",
     "text": [
      "/var/folders/hk/q40rrztn3glcl0jvwjcpzyth0000gn/T/ipykernel_9884/3688101204.py:9: UserWarning: FixedFormatter should only be used together with FixedLocator\n",
      "  ax.set_xticklabels(x_values, fontsize=12)\n"
     ]
    },
    {
     "data": {
      "image/png": "[encoded data removed]",
      "text/plain": [
       "<Figure size 360x360 with 1 Axes>"
      ]
     },
     "metadata": {
      "needs_background": "light"
     },
     "output_type": "display_data"
    }
   ],
   "source": [
    "# create p-val graph\n",
    "fig, ax = plt.subplots()\n",
    "\n",
    "x_values = [\"0\", \"1\", \"up to 2\", \"up to 3\", \"all\"]\n",
    "counts = [original_fe.enrichment['Fishers_pvalue'].count(), updated_fe_one_protein.enrichment['Fishers_pvalue'].count(), updated_fe_two_proteins.enrichment['Fishers_pvalue'].count(), updated_fe_three_proteins.enrichment['Fishers_pvalue'].count(), updated_fe_all_proteins.enrichment['Fishers_pvalue'].count()]\n",
    "\n",
    "ax.bar(x_values, counts, color=['xkcd:powder pink', 'xkcd:pig pink', 'xkcd:pig pink', 'xkcd:pig pink', 'xkcd:muted pink'])\n",
    "\n",
    "ax.set_xticklabels(x_values, fontsize=12)\n",
    "\n",
    "ax.set_title(f\"Number of Significant p-values (p < 0.01)\\nin {len(qualifying_proteins.keys())} Clusters\", fontsize=16)\n",
    "\n",
    "# TODO: do i want to say number of significant p-values, or do i want to say number of Go-Terms / labels etc\n",
    "\n",
    "ax.set_ylabel('count', fontsize=12)\n",
    "ax.set_xlabel('number of proteins added', fontsize=12)\n",
    "\n",
    "ax.grid(axis='y')\n",
    "\n",
    "fig.set_size_inches(5,5)\n",
    "plt.show()\n",
    "\n"
   ]
  },
  {
   "cell_type": "code",
   "execution_count": null,
   "metadata": {},
   "outputs": [],
   "source": [
    "# TODO: now want to see which GO terms are functionally enriched"
   ]
  },
  {
   "cell_type": "code",
   "execution_count": null,
   "metadata": {},
   "outputs": [],
   "source": []
  },
  {
   "cell_type": "code",
   "execution_count": null,
   "metadata": {},
   "outputs": [],
   "source": []
  }
 ],
 "metadata": {
  "kernelspec": {
   "display_name": "Python 3.10.4 ('diamonds')",
   "language": "python",
   "name": "python3"
  },
  "language_info": {
   "codemirror_mode": {
    "name": "ipython",
    "version": 3
   },
   "file_extension": ".py",
   "mimetype": "text/x-python",
   "name": "python",
   "nbconvert_exporter": "python",
   "pygments_lexer": "ipython3",
   "version": "3.10.4"
  },
  "orig_nbformat": 4,
  "vscode": {
   "interpreter": {
    "hash": "e113e58b579a48e5732235004b32d872074e11125058c2d5e4f294336344a2ee"
   }
  }
 },
 "nbformat": 4,
 "nbformat_minor": 2
}
