{
 "cells": [
  {
   "cell_type": "code",
   "execution_count": 31,
   "metadata": {},
   "outputs": [],
   "source": [
    "\n",
    "from matrix_class import *\n",
    "from cluster_class import *\n",
    "from degreelist_class import *"
   ]
  },
  {
   "cell_type": "code",
   "execution_count": 32,
   "metadata": {},
   "outputs": [],
   "source": [
    "actual_matrix_file = \"../data/networks/DREAM_files/dream_3.txt\"\n",
    "cluster_file = \"../data/testing_data/3344522.7320912.1_ppi_anonym_v2.txt\""
   ]
  },
  {
   "cell_type": "code",
   "execution_count": 33,
   "metadata": {},
   "outputs": [],
   "source": [
    "matrix = ProteinMatrix(actual_matrix_file)"
   ]
  },
  {
   "cell_type": "code",
   "execution_count": 34,
   "metadata": {},
   "outputs": [],
   "source": [
    "clusters = AllClusters(cluster_file)"
   ]
  },
  {
   "cell_type": "code",
   "execution_count": 35,
   "metadata": {},
   "outputs": [],
   "source": [
    "degreelist = DegreeList(matrix)"
   ]
  },
  {
   "cell_type": "code",
   "execution_count": 36,
   "metadata": {},
   "outputs": [
    {
     "name": "stdout",
     "output_type": "stream",
     "text": [
      "Clusters:\n",
      "AllClusters has 1024 clusters (use the print_all method to see them)\n"
     ]
    }
   ],
   "source": [
    "print(f\"Clusters:\\n{clusters}\")"
   ]
  },
  {
   "cell_type": "markdown",
   "metadata": {},
   "source": [
    "#### function to identify clusters that are connected enough"
   ]
  },
  {
   "cell_type": "code",
   "execution_count": 95,
   "metadata": {},
   "outputs": [
    {
     "name": "stdout",
     "output_type": "stream",
     "text": [
      "[0, 7, 8, 12, 14, 17, 21, 25, 26, 29, 30, 31, 35, 36, 37, 39, 40, 43, 44, 47, 49, 61, 63, 69, 73, 75, 84, 85, 86, 90, 95, 96, 98, 99, 104, 110, 111, 114, 115, 117, 121, 122, 123, 125, 126, 127, 131, 132, 139, 141, 142, 148, 149, 150, 151, 152, 153, 154, 156, 158, 159, 161, 164, 171, 174, 175, 179, 185, 189, 194, 195, 202, 206, 212, 215, 226, 233, 235, 239, 242, 247, 253, 257, 258, 269, 272, 273, 297, 306, 325, 333, 338, 360, 371, 372, 382, 392, 401, 403, 405, 409, 411, 418, 419, 420, 432, 433, 443, 448, 454, 461, 464, 468, 479, 493, 495, 500, 507, 516, 533, 534, 539, 540, 551, 554, 557, 558, 562, 571, 573, 575, 578, 589, 595, 596, 598, 602, 605, 606, 608, 614, 615, 616, 617, 619, 624, 627, 632, 633, 638, 640, 649, 650, 661, 666, 673, 674, 681, 688, 689, 695, 698, 700, 704, 711, 712, 717, 723, 728, 735, 738, 740, 741, 745, 750, 757, 764, 770, 774, 775, 776, 779, 780, 781, 788, 795, 803, 804, 805, 807, 815, 818, 822, 823, 829, 832, 837, 839, 848, 849, 860, 864, 873, 878, 880, 881, 883, 894, 895, 900, 904, 912, 915, 920, 927, 935, 937, 945, 946, 949, 950, 951, 955, 957, 958, 959, 962, 971, 974, 977, 978, 983, 988, 992, 993, 995, 999, 1005, 1011, 1013]\n"
     ]
    }
   ],
   "source": [
    "def find_clusters_that_match_criteria(matrix: ProteinMatrix, clusters: AllClusters, degreelist: DegreeList, ratio: float = .5, constant: int = 0) -> list():\n",
    "    cluster_nums_that_qualify = list()\n",
    "\n",
    "    for key in clusters.get_all_clusters():\n",
    "        # create a submatrix out of the proteins in the cluster\n",
    "        submatrix = SubMatrix(clusters.get_cluster_proteins(key), matrix)\n",
    "        num_components, labels = submatrix.get_num_components_and_labels()\n",
    "        # print(f\"num components is {num_components}. num proteins is {len(submatrix.get_list_of_proteins())}\")\n",
    "        if num_components < ratio * len(submatrix.get_list_of_proteins()) + constant:\n",
    "            # print('success')\n",
    "            cluster_nums_that_qualify.append(key)\n",
    "\n",
    "    return cluster_nums_that_qualify\n",
    "\n",
    "\n",
    "result = find_clusters_that_match_criteria(matrix, clusters, degreelist, ratio=1)\n",
    "print(result)"
   ]
  },
  {
   "cell_type": "code",
   "execution_count": null,
   "metadata": {},
   "outputs": [],
   "source": []
  },
  {
   "cell_type": "markdown",
   "metadata": {},
   "source": [
    "#### now, going to make a function that takes in a cluster, and determines proteins that would connect an appropriate number of components"
   ]
  },
  {
   "cell_type": "code",
   "execution_count": 72,
   "metadata": {},
   "outputs": [],
   "source": [
    "def find_proteins_that_match_criteria(cluster_num: int, matrix: ProteinMatrix, clusters: AllClusters, degreelist: DegreeList, ratio: float = .5, constant: int = 0, min_components_that_protein_connects: int = -1, max_degree: int = 500) -> list():\n",
    "    \"\"\"\n",
    "    can choose to a ratio and a constant, or a min num components\n",
    "    a protein must connect more than ratio*num_components + constant\n",
    "    TODO : function could be improved by passing (submatrix) info from the find_cluster_that_match function, but for now, this is ok. \n",
    "    \"\"\"\n",
    "    if (min_components_that_protein_connects == -1):\n",
    "            # print(f\"min_components_that_a_protein connects was not specified, will now be calculated based on the constant, and ratio times number of proteins \")\n",
    "            min_components_that_protein_connects = constant + ratio * len(clusters.get_cluster_proteins(cluster_num))\n",
    "        \n",
    "    submatrix = SubMatrix(clusters.get_cluster_proteins(cluster_num), matrix)\n",
    "    num_components, labels = submatrix.get_num_components_and_labels()\n",
    "\n",
    "\n",
    "    ### POPULATE COMPONENT DICTIONARY ###\n",
    "    component_dictionary = dict() # protein : component_num\n",
    "    j = 0\n",
    "    for array in [(np.array(submatrix.get_list_of_proteins())[np.nonzero(labels == i)]) for i in range(num_components)]:\n",
    "        for protein in array:\n",
    "            component_dictionary[protein] = j\n",
    "        j += 1\n",
    "    \n",
    "    ## FIND CONNECTED PROTEINS AND DETERMINE IF THEY QUALIFY ###\n",
    "    qualifying_proteins = list()\n",
    "\n",
    "    for protein in (degreelist.get_list_of_proteins_sorted_by_degree()):   \n",
    "        degree = matrix.find_degree(protein)\n",
    "\n",
    "        if (degree >= min_components_that_protein_connects) and (degree <= max_degree):\n",
    "            num_edges, which_proteins = degreelist.determine_num_edges_to_cluster(protein, clusters.get_cluster_proteins(cluster_num), also_return_which_proteins=True)\n",
    "                \n",
    "            if (num_edges >= min_components_that_protein_connects):\n",
    "                    \n",
    "                set_of_components_that_protein_connects = degreelist.which_components_of_a_cluster_would_a_protein_connect(protein, clusters.get_cluster_proteins(cluster_num), component_dictionary, connected_proteins_within_cluster=which_proteins)\n",
    "\n",
    "                # print(f\"\\tthe components that {protein} connects: {set_of_components_that_protein_connects}\")\n",
    "\n",
    "                if len(set_of_components_that_protein_connects) >= min_components_that_protein_connects:\n",
    "                    qualifying_proteins.append(protein)\n",
    "\n",
    "\n",
    "    return qualifying_proteins"
   ]
  },
  {
   "cell_type": "code",
   "execution_count": 52,
   "metadata": {},
   "outputs": [
    {
     "name": "stdout",
     "output_type": "stream",
     "text": [
      "the components that ITGA6 connects: {3, 4}\n",
      "the components that ITGB4 connects: {3, 4}\n",
      "[]\n"
     ]
    }
   ],
   "source": [
    "thing = find_proteins_that_match_criteria(result[0], matrix, clusters, degreelist, min_components_that_protein_connects=3, max_degree=500)\n",
    "print(thing)"
   ]
  },
  {
   "cell_type": "code",
   "execution_count": 53,
   "metadata": {},
   "outputs": [
    {
     "name": "stdout",
     "output_type": "stream",
     "text": [
      "the components that ACKR4 connects: {56, 40, 5}\n",
      "the components that CORT connects: {65, 3, 36, 49, 55}\n",
      "the components that CXCR3 connects: {24, 5, 45}\n",
      "the components that MMP9 connects: {27, 51, 38}\n",
      "the components that GNAO1 connects: {66, 3, 70, 49, 21}\n",
      "the components that CXCR2 connects: {27, 51, 77, 38}\n",
      "the components that GNAI3 connects: {66, 3, 4, 70, 49, 82, 21, 60}\n",
      "['ACKR4', 'CORT', 'CXCR3', 'MMP9', 'GNAO1', 'CXCR2', 'GNAI3']\n"
     ]
    }
   ],
   "source": [
    "thing = find_proteins_that_match_criteria(37, matrix, clusters, degreelist, min_components_that_protein_connects=3, max_degree=500)\n",
    "print(thing)"
   ]
  },
  {
   "cell_type": "markdown",
   "metadata": {},
   "source": [
    "the following is a loop that takes ~15 minutes to find the qualifying proteins for each (qualifying) cluster"
   ]
  },
  {
   "cell_type": "code",
   "execution_count": 73,
   "metadata": {},
   "outputs": [
    {
     "name": "stdout",
     "output_type": "stream",
     "text": [
      "CLUSTER 12\n"
     ]
    },
    {
     "ename": "KeyboardInterrupt",
     "evalue": "",
     "output_type": "error",
     "traceback": [
      "\u001b[0;31m---------------------------------------------------------------------------\u001b[0m",
      "\u001b[0;31mKeyboardInterrupt\u001b[0m                         Traceback (most recent call last)",
      "\u001b[1;32m/Users/charlotte/Desktop/Desktop/diamonds/ClusteringWithDSD/src/connected_components_notebook.ipynb Cell 15'\u001b[0m in \u001b[0;36m<cell line: 1>\u001b[0;34m()\u001b[0m\n\u001b[1;32m      <a href='vscode-notebook-cell:/Users/charlotte/Desktop/Desktop/diamonds/ClusteringWithDSD/src/connected_components_notebook.ipynb#ch0000011?line=0'>1</a>\u001b[0m \u001b[39mfor\u001b[39;00m cluster_num \u001b[39min\u001b[39;00m result:\n\u001b[1;32m      <a href='vscode-notebook-cell:/Users/charlotte/Desktop/Desktop/diamonds/ClusteringWithDSD/src/connected_components_notebook.ipynb#ch0000011?line=1'>2</a>\u001b[0m     \u001b[39mprint\u001b[39m(\u001b[39mf\u001b[39m\u001b[39m\"\u001b[39m\u001b[39mCLUSTER \u001b[39m\u001b[39m{\u001b[39;00mcluster_num\u001b[39m}\u001b[39;00m\u001b[39m\"\u001b[39m)\n\u001b[0;32m----> <a href='vscode-notebook-cell:/Users/charlotte/Desktop/Desktop/diamonds/ClusteringWithDSD/src/connected_components_notebook.ipynb#ch0000011?line=2'>3</a>\u001b[0m     res \u001b[39m=\u001b[39m find_proteins_that_match_criteria(cluster_num, matrix, clusters, degreelist, min_components_that_protein_connects\u001b[39m=\u001b[39;49m\u001b[39m3\u001b[39;49m, max_degree\u001b[39m=\u001b[39;49m\u001b[39m500\u001b[39;49m)\n\u001b[1;32m      <a href='vscode-notebook-cell:/Users/charlotte/Desktop/Desktop/diamonds/ClusteringWithDSD/src/connected_components_notebook.ipynb#ch0000011?line=3'>4</a>\u001b[0m     \u001b[39mif\u001b[39;00m \u001b[39mlen\u001b[39m(result) \u001b[39m>\u001b[39m \u001b[39m0\u001b[39m:\n\u001b[1;32m      <a href='vscode-notebook-cell:/Users/charlotte/Desktop/Desktop/diamonds/ClusteringWithDSD/src/connected_components_notebook.ipynb#ch0000011?line=4'>5</a>\u001b[0m         \u001b[39mprint\u001b[39m(\u001b[39mf\u001b[39m\u001b[39m\"\u001b[39m\u001b[39m- - - - qualifying proteins for cluster \u001b[39m\u001b[39m{\u001b[39;00mcluster_num\u001b[39m}\u001b[39;00m\u001b[39m: \u001b[39m\u001b[39m{\u001b[39;00mres\u001b[39m}\u001b[39;00m\u001b[39m\"\u001b[39m)\n",
      "\u001b[1;32m/Users/charlotte/Desktop/Desktop/diamonds/ClusteringWithDSD/src/connected_components_notebook.ipynb Cell 11'\u001b[0m in \u001b[0;36mfind_proteins_that_match_criteria\u001b[0;34m(cluster_num, matrix, clusters, degreelist, ratio, constant, min_components_that_protein_connects, max_degree)\u001b[0m\n\u001b[1;32m     <a href='vscode-notebook-cell:/Users/charlotte/Desktop/Desktop/diamonds/ClusteringWithDSD/src/connected_components_notebook.ipynb#ch0000010?line=23'>24</a>\u001b[0m qualifying_proteins \u001b[39m=\u001b[39m \u001b[39mlist\u001b[39m()\n\u001b[1;32m     <a href='vscode-notebook-cell:/Users/charlotte/Desktop/Desktop/diamonds/ClusteringWithDSD/src/connected_components_notebook.ipynb#ch0000010?line=25'>26</a>\u001b[0m \u001b[39mfor\u001b[39;00m protein \u001b[39min\u001b[39;00m (degreelist\u001b[39m.\u001b[39mget_list_of_proteins_sorted_by_degree()):   \n\u001b[0;32m---> <a href='vscode-notebook-cell:/Users/charlotte/Desktop/Desktop/diamonds/ClusteringWithDSD/src/connected_components_notebook.ipynb#ch0000010?line=26'>27</a>\u001b[0m     degree \u001b[39m=\u001b[39m matrix\u001b[39m.\u001b[39;49mfind_degree(protein)\n\u001b[1;32m     <a href='vscode-notebook-cell:/Users/charlotte/Desktop/Desktop/diamonds/ClusteringWithDSD/src/connected_components_notebook.ipynb#ch0000010?line=28'>29</a>\u001b[0m     \u001b[39mif\u001b[39;00m (degree \u001b[39m>\u001b[39m\u001b[39m=\u001b[39m min_components_that_protein_connects) \u001b[39mand\u001b[39;00m (degree \u001b[39m<\u001b[39m\u001b[39m=\u001b[39m max_degree):\n\u001b[1;32m     <a href='vscode-notebook-cell:/Users/charlotte/Desktop/Desktop/diamonds/ClusteringWithDSD/src/connected_components_notebook.ipynb#ch0000010?line=29'>30</a>\u001b[0m         num_edges, which_proteins \u001b[39m=\u001b[39m degreelist\u001b[39m.\u001b[39mdetermine_num_edges_to_cluster(protein, clusters\u001b[39m.\u001b[39mget_cluster_proteins(cluster_num), also_return_which_proteins\u001b[39m=\u001b[39m\u001b[39mTrue\u001b[39;00m)\n",
      "File \u001b[0;32m~/Desktop/Desktop/diamonds/ClusteringWithDSD/src/matrix_class.py:145\u001b[0m, in \u001b[0;36mProteinMatrix.find_degree\u001b[0;34m(self, protein)\u001b[0m\n\u001b[1;32m    143\u001b[0m \u001b[39mtry\u001b[39;00m:\n\u001b[1;32m    144\u001b[0m     \u001b[39mfor\u001b[39;00m elem \u001b[39min\u001b[39;00m \u001b[39mself\u001b[39m\u001b[39m.\u001b[39mprotein_matrix\u001b[39m.\u001b[39mloc[protein]:\n\u001b[0;32m--> 145\u001b[0m         \u001b[39mif\u001b[39;00m elem \u001b[39m!=\u001b[39m \u001b[39m0\u001b[39m:\n\u001b[1;32m    146\u001b[0m             count \u001b[39m+\u001b[39m\u001b[39m=\u001b[39m \u001b[39m1\u001b[39m\n\u001b[1;32m    148\u001b[0m     \u001b[39mreturn\u001b[39;00m count\n",
      "\u001b[0;31mKeyboardInterrupt\u001b[0m: "
     ]
    }
   ],
   "source": [
    "for cluster_num in result:\n",
    "    print(f\"CLUSTER {cluster_num}\")\n",
    "    res = find_proteins_that_match_criteria(cluster_num, matrix, clusters, degreelist, min_components_that_protein_connects=3, max_degree=500)\n",
    "    if len(result) > 0:\n",
    "        print(f\"- - - - qualifying proteins for cluster {cluster_num}: {res}\")\n"
   ]
  },
  {
   "cell_type": "code",
   "execution_count": null,
   "metadata": {},
   "outputs": [],
   "source": []
  },
  {
   "cell_type": "markdown",
   "metadata": {},
   "source": [
    "now i will proceed to find clusters that are decently connected (ratio of .7, so the number of components must be at least .7 * number of proteins)"
   ]
  },
  {
   "cell_type": "code",
   "execution_count": 68,
   "metadata": {},
   "outputs": [],
   "source": [
    "new_result = find_clusters_that_match_criteria(matrix, clusters, degreelist, ratio=.7)"
   ]
  },
  {
   "cell_type": "code",
   "execution_count": 69,
   "metadata": {},
   "outputs": [
    {
     "name": "stdout",
     "output_type": "stream",
     "text": [
      "[12, 114, 123, 161, 195, 257, 272, 273, 306, 333, 382, 392, 405, 411, 419, 432, 433, 468, 495, 516, 533, 540, 557, 571, 573, 578, 596, 598, 605, 614, 638, 640, 649, 661, 698, 700, 711, 723, 745, 750, 775, 776, 779, 781, 803, 807, 832, 864, 873, 900, 915, 920, 927, 935, 937, 945, 959, 974]\n"
     ]
    }
   ],
   "source": [
    "print(new_result)"
   ]
  },
  {
   "cell_type": "markdown",
   "metadata": {},
   "source": [
    "next, i will find the proteins (of degree < 200) that are pretty connected to the clusters (connected to at least 1/4 of components)"
   ]
  },
  {
   "cell_type": "code",
   "execution_count": 77,
   "metadata": {},
   "outputs": [
    {
     "name": "stdout",
     "output_type": "stream",
     "text": [
      "checking cluster 12\n",
      "checking cluster 114\n",
      "checking cluster 123\n",
      "checking cluster 161\n",
      "checking cluster 195\n",
      "checking cluster 257\n",
      "- - - - qualifying proteins for cluster 257: ['FZD1', 'LRP5', 'FZD3', 'LRP6']\n",
      "checking cluster 272\n",
      "- - - - qualifying proteins for cluster 272: ['PKD2']\n",
      "checking cluster 273\n",
      "checking cluster 306\n",
      "checking cluster 333\n",
      "checking cluster 382\n",
      "checking cluster 392\n",
      "checking cluster 405\n",
      "checking cluster 411\n",
      "checking cluster 419\n",
      "checking cluster 432\n",
      "- - - - qualifying proteins for cluster 432: ['IRAK4', 'IRAK1', 'TRAF6']\n",
      "checking cluster 433\n",
      "checking cluster 468\n",
      "checking cluster 495\n",
      "- - - - qualifying proteins for cluster 495: ['NOTCH1']\n",
      "checking cluster 516\n",
      "checking cluster 533\n",
      "checking cluster 540\n",
      "checking cluster 557\n",
      "checking cluster 571\n",
      "checking cluster 573\n",
      "- - - - qualifying proteins for cluster 573: ['SOCS3', 'TYK2', 'JAK1', 'JAK2']\n",
      "checking cluster 578\n",
      "checking cluster 596\n",
      "checking cluster 598\n",
      "checking cluster 605\n",
      "checking cluster 614\n",
      "checking cluster 638\n",
      "checking cluster 640\n",
      "checking cluster 649\n",
      "- - - - qualifying proteins for cluster 649: ['TLR8', 'CD14', 'MYD88']\n",
      "checking cluster 661\n",
      "- - - - qualifying proteins for cluster 661: ['TRAF3', 'TRAF2']\n",
      "checking cluster 698\n",
      "checking cluster 700\n",
      "checking cluster 711\n",
      "checking cluster 723\n",
      "- - - - qualifying proteins for cluster 723: ['TLR2', 'TLR4']\n",
      "checking cluster 745\n",
      "checking cluster 750\n",
      "checking cluster 775\n",
      "- - - - qualifying proteins for cluster 775: ['KAT2B']\n",
      "checking cluster 776\n",
      "checking cluster 779\n",
      "- - - - qualifying proteins for cluster 779: ['PAX5', 'SOCS1']\n",
      "checking cluster 781\n",
      "checking cluster 803\n",
      "checking cluster 807\n",
      "- - - - qualifying proteins for cluster 807: ['NOTCH1']\n",
      "checking cluster 832\n",
      "checking cluster 864\n",
      "checking cluster 873\n",
      "checking cluster 900\n",
      "checking cluster 915\n",
      "- - - - qualifying proteins for cluster 915: ['PTCH2', 'HHIP', 'PTCH1']\n",
      "checking cluster 920\n",
      "checking cluster 927\n",
      "checking cluster 935\n",
      "checking cluster 937\n",
      "checking cluster 945\n",
      "checking cluster 959\n",
      "checking cluster 974\n"
     ]
    }
   ],
   "source": [
    "for cluster_num in new_result:\n",
    "    print(f\"checking cluster {cluster_num}\")\n",
    "    res = find_proteins_that_match_criteria(cluster_num, matrix, clusters, degreelist, max_degree=200, ratio=.25)\n",
    "    if len(res) > 0:\n",
    "        print(f\"- - - - qualifying proteins for cluster {cluster_num}: {res}\")"
   ]
  },
  {
   "cell_type": "markdown",
   "metadata": {},
   "source": [
    "the one below has a stricter max degree cutoff (80)"
   ]
  },
  {
   "cell_type": "code",
   "execution_count": 81,
   "metadata": {},
   "outputs": [
    {
     "name": "stdout",
     "output_type": "stream",
     "text": [
      "checking cluster 12\n",
      "checking cluster 114\n",
      "checking cluster 123\n",
      "checking cluster 161\n",
      "checking cluster 195\n",
      "checking cluster 257\n",
      "- - - - qualifying proteins for cluster 257: ['FZD1', 'LRP5', 'FZD3', 'LRP6']\n",
      "checking cluster 272\n",
      "- - - - qualifying proteins for cluster 272: ['PKD2']\n",
      "checking cluster 273\n",
      "checking cluster 306\n",
      "checking cluster 333\n",
      "checking cluster 382\n",
      "checking cluster 392\n",
      "checking cluster 405\n",
      "checking cluster 411\n",
      "checking cluster 419\n",
      "checking cluster 432\n",
      "- - - - qualifying proteins for cluster 432: ['IRAK4', 'IRAK1']\n",
      "checking cluster 433\n",
      "checking cluster 468\n",
      "checking cluster 495\n",
      "checking cluster 516\n",
      "checking cluster 533\n",
      "checking cluster 540\n",
      "checking cluster 557\n",
      "checking cluster 571\n",
      "checking cluster 573\n",
      "- - - - qualifying proteins for cluster 573: ['SOCS3', 'TYK2', 'JAK1', 'JAK2']\n",
      "checking cluster 578\n",
      "checking cluster 596\n",
      "checking cluster 598\n",
      "checking cluster 605\n",
      "checking cluster 614\n",
      "checking cluster 638\n",
      "checking cluster 640\n",
      "checking cluster 649\n",
      "- - - - qualifying proteins for cluster 649: ['TLR8', 'CD14', 'MYD88']\n",
      "checking cluster 661\n",
      "- - - - qualifying proteins for cluster 661: ['TRAF3', 'TRAF2']\n",
      "checking cluster 698\n",
      "checking cluster 700\n",
      "checking cluster 711\n",
      "checking cluster 723\n",
      "- - - - qualifying proteins for cluster 723: ['TLR2', 'TLR4']\n",
      "checking cluster 745\n",
      "checking cluster 750\n",
      "checking cluster 775\n",
      "- - - - qualifying proteins for cluster 775: ['KAT2B']\n",
      "checking cluster 776\n",
      "checking cluster 779\n",
      "- - - - qualifying proteins for cluster 779: ['PAX5', 'SOCS1']\n",
      "checking cluster 781\n",
      "checking cluster 803\n",
      "checking cluster 807\n",
      "checking cluster 832\n",
      "checking cluster 864\n",
      "checking cluster 873\n",
      "checking cluster 900\n",
      "checking cluster 915\n",
      "- - - - qualifying proteins for cluster 915: ['PTCH2', 'HHIP', 'PTCH1']\n",
      "checking cluster 920\n",
      "checking cluster 927\n",
      "checking cluster 935\n",
      "checking cluster 937\n",
      "checking cluster 945\n",
      "checking cluster 959\n",
      "checking cluster 974\n"
     ]
    }
   ],
   "source": [
    "for cluster_num in new_result:\n",
    "    print(f\"checking cluster {cluster_num}\")\n",
    "    res = find_proteins_that_match_criteria(cluster_num, matrix, clusters, degreelist, max_degree=80, ratio=.25)\n",
    "    if len(res) > 0:\n",
    "        print(f\"- - - - qualifying proteins for cluster {cluster_num}: {res}\")"
   ]
  },
  {
   "cell_type": "markdown",
   "metadata": {},
   "source": [
    "the one below has proteins that are more connected\n"
   ]
  },
  {
   "cell_type": "code",
   "execution_count": 80,
   "metadata": {},
   "outputs": [
    {
     "name": "stdout",
     "output_type": "stream",
     "text": [
      "checking cluster 12\n",
      "checking cluster 114\n",
      "checking cluster 123\n",
      "checking cluster 161\n",
      "checking cluster 195\n",
      "checking cluster 257\n",
      "- - - - qualifying proteins for cluster 257: ['FZD3']\n",
      "checking cluster 272\n",
      "checking cluster 273\n",
      "checking cluster 306\n",
      "checking cluster 333\n",
      "checking cluster 382\n",
      "checking cluster 392\n",
      "checking cluster 405\n",
      "checking cluster 411\n",
      "checking cluster 419\n",
      "checking cluster 432\n",
      "checking cluster 433\n",
      "checking cluster 468\n",
      "checking cluster 495\n",
      "checking cluster 516\n",
      "checking cluster 533\n",
      "checking cluster 540\n",
      "checking cluster 557\n",
      "checking cluster 571\n",
      "checking cluster 573\n",
      "- - - - qualifying proteins for cluster 573: ['JAK2']\n",
      "checking cluster 578\n",
      "checking cluster 596\n",
      "checking cluster 598\n",
      "checking cluster 605\n",
      "checking cluster 614\n",
      "checking cluster 638\n",
      "checking cluster 640\n",
      "checking cluster 649\n",
      "checking cluster 661\n",
      "- - - - qualifying proteins for cluster 661: ['TRAF3', 'TRAF2']\n",
      "checking cluster 698\n",
      "checking cluster 700\n",
      "checking cluster 711\n",
      "checking cluster 723\n",
      "checking cluster 745\n",
      "checking cluster 750\n",
      "checking cluster 775\n",
      "checking cluster 776\n",
      "checking cluster 779\n",
      "checking cluster 781\n",
      "checking cluster 803\n",
      "checking cluster 807\n",
      "checking cluster 832\n",
      "checking cluster 864\n",
      "checking cluster 873\n",
      "checking cluster 900\n",
      "checking cluster 915\n",
      "checking cluster 920\n",
      "checking cluster 927\n",
      "checking cluster 935\n",
      "checking cluster 937\n",
      "checking cluster 945\n",
      "checking cluster 959\n",
      "checking cluster 974\n"
     ]
    }
   ],
   "source": [
    "for cluster_num in new_result:\n",
    "    print(f\"checking cluster {cluster_num}\")\n",
    "    res = find_proteins_that_match_criteria(cluster_num, matrix, clusters, degreelist, max_degree=100, ratio=.45)\n",
    "    if len(res) > 0:\n",
    "        print(f\"- - - - qualifying proteins for cluster {cluster_num}: {res}\")\n",
    "    "
   ]
  },
  {
   "cell_type": "code",
   "execution_count": null,
   "metadata": {},
   "outputs": [],
   "source": []
  },
  {
   "cell_type": "code",
   "execution_count": null,
   "metadata": {},
   "outputs": [],
   "source": []
  },
  {
   "cell_type": "code",
   "execution_count": null,
   "metadata": {},
   "outputs": [],
   "source": []
  },
  {
   "cell_type": "code",
   "execution_count": null,
   "metadata": {},
   "outputs": [],
   "source": []
  },
  {
   "cell_type": "code",
   "execution_count": null,
   "metadata": {},
   "outputs": [],
   "source": []
  },
  {
   "cell_type": "code",
   "execution_count": null,
   "metadata": {},
   "outputs": [],
   "source": []
  },
  {
   "cell_type": "code",
   "execution_count": null,
   "metadata": {},
   "outputs": [],
   "source": []
  },
  {
   "cell_type": "code",
   "execution_count": 88,
   "metadata": {},
   "outputs": [],
   "source": [
    "def default_linear_fxn(num_proteins: int, ratio: float = .5, constant: int = 0):\n",
    "    \"\"\"\n",
    "    Parameters: \n",
    "        num_proteins is the number of proteins in the cluster\n",
    "        ratio and constant - used together to determine which clusters qualify, with the output of the function being ratio * input + constant\n",
    "    Purpose:    determines an upper bound for the max number of components a \n",
    "                cluster should have to be deemed 'connected enough', linearly,based on the number of proteins in the cluster.\n",
    "    Returns:    an upper bound for the numnber of components in the cluster\n",
    "    \"\"\"\n",
    "    return (num_proteins * ratio + constant)\n",
    "\n"
   ]
  },
  {
   "cell_type": "code",
   "execution_count": 101,
   "metadata": {},
   "outputs": [],
   "source": [
    "import json\n",
    "dream3_cluster_file = \"../data/results/DREAM-3-cc/d3_5_100.json-cluster.json\"\n",
    "\n",
    "dream3_clusters_dict = {}\n",
    "# convert actual cluster file to a dictionary!!\n",
    "with open(dream3_cluster_file,\"r\") as cluster_dict_file:\n",
    "    dream3_clusters_dict = json.load(cluster_dict_file)"
   ]
  },
  {
   "cell_type": "code",
   "execution_count": 104,
   "metadata": {},
   "outputs": [],
   "source": [
    "new_clusters = AllClusters(protein_to_cluster_dict=dream3_clusters_dict)\n"
   ]
  },
  {
   "cell_type": "code",
   "execution_count": 105,
   "metadata": {},
   "outputs": [],
   "source": [
    "clusters_that_are_somewhat_connected = find_clusters_that_match_criteria(matrix, new_clusters, degreelist)\n"
   ]
  },
  {
   "cell_type": "code",
   "execution_count": 106,
   "metadata": {},
   "outputs": [
    {
     "data": {
      "text/plain": [
       "[272, 273, 411, 419, 468, 571, 598, 698, 711, 745, 750, 803, 915, 959]"
      ]
     },
     "execution_count": 106,
     "metadata": {},
     "output_type": "execute_result"
    }
   ],
   "source": [
    "clusters_that_are_somewhat_connected"
   ]
  },
  {
   "cell_type": "code",
   "execution_count": 111,
   "metadata": {},
   "outputs": [
    {
     "name": "stdout",
     "output_type": "stream",
     "text": [
      "AllClusters has 1024 clusters (use the print_all method to see them)\n"
     ]
    },
    {
     "ename": "KeyboardInterrupt",
     "evalue": "",
     "output_type": "error",
     "traceback": [
      "\u001b[0;31m---------------------------------------------------------------------------\u001b[0m",
      "\u001b[0;31mKeyboardInterrupt\u001b[0m                         Traceback (most recent call last)",
      "\u001b[1;32m/Users/charlotte/Desktop/Desktop/diamonds/ClusteringWithDSD/src/connected_components_notebook.ipynb Cell 38'\u001b[0m in \u001b[0;36m<cell line: 11>\u001b[0;34m()\u001b[0m\n\u001b[1;32m      <a href='vscode-notebook-cell:/Users/charlotte/Desktop/Desktop/diamonds/ClusteringWithDSD/src/connected_components_notebook.ipynb#ch0000039?line=6'>7</a>\u001b[0m     dream3_clusters_dict \u001b[39m=\u001b[39m json\u001b[39m.\u001b[39mload(cluster_dict_file)\n\u001b[1;32m     <a href='vscode-notebook-cell:/Users/charlotte/Desktop/Desktop/diamonds/ClusteringWithDSD/src/connected_components_notebook.ipynb#ch0000039?line=9'>10</a>\u001b[0m \u001b[39mprint\u001b[39m(AllClusters(protein_to_cluster_dict\u001b[39m=\u001b[39mdream3_clusters_dict))\n\u001b[0;32m---> <a href='vscode-notebook-cell:/Users/charlotte/Desktop/Desktop/diamonds/ClusteringWithDSD/src/connected_components_notebook.ipynb#ch0000039?line=10'>11</a>\u001b[0m thing2 \u001b[39m=\u001b[39m find_clusters_that_match_criteria(ProteinMatrix(dream3_matrix_file), AllClusters(protein_to_cluster_dict\u001b[39m=\u001b[39mdream3_clusters_dict), DegreeList(ProteinMatrix(dream3_matrix_file)))\n",
      "File \u001b[0;32m~/Desktop/Desktop/diamonds/ClusteringWithDSD/src/matrix_class.py:44\u001b[0m, in \u001b[0;36mProteinMatrix.__init__\u001b[0;34m(self, csv_filename, **kwargs)\u001b[0m\n\u001b[1;32m     41\u001b[0m     \u001b[39mself\u001b[39m\u001b[39m.\u001b[39mlist_of_all_proteins_in_matrix \u001b[39m=\u001b[39m np\u001b[39m.\u001b[39munique(np\u001b[39m.\u001b[39mappend(\u001b[39mself\u001b[39m\u001b[39m.\u001b[39m\n\u001b[1;32m     42\u001b[0m         protein_data_df[\u001b[39m\"\u001b[39m\u001b[39mgene_1\u001b[39m\u001b[39m\"\u001b[39m], \u001b[39mself\u001b[39m\u001b[39m.\u001b[39mprotein_data_df[\u001b[39m\"\u001b[39m\u001b[39mgene_2\u001b[39m\u001b[39m\"\u001b[39m]))\n\u001b[1;32m     43\u001b[0m     \u001b[39m# populate the matrix with protein interactions\u001b[39;00m\n\u001b[0;32m---> 44\u001b[0m     \u001b[39mself\u001b[39;49m\u001b[39m.\u001b[39;49m_init_matrix()\n\u001b[1;32m     46\u001b[0m \u001b[39mexcept\u001b[39;00m \u001b[39mFileNotFoundError\u001b[39;00m:\n\u001b[1;32m     47\u001b[0m     \u001b[39mprint\u001b[39m(\u001b[39mf\u001b[39m\u001b[39m\"\u001b[39m\u001b[39mERROR! file: \u001b[39m\u001b[39m{\u001b[39;00mcsv_filename\u001b[39m}\u001b[39;00m\u001b[39m not found. ProteinMatrix could not be initialized\u001b[39m\u001b[39m\"\u001b[39m)\n",
      "File \u001b[0;32m~/Desktop/Desktop/diamonds/ClusteringWithDSD/src/matrix_class.py:69\u001b[0m, in \u001b[0;36mProteinMatrix._init_matrix\u001b[0;34m(self)\u001b[0m\n\u001b[1;32m     60\u001b[0m \u001b[39m\"\"\"             \u001b[39;00m\n\u001b[1;32m     61\u001b[0m \u001b[39mPurpose:    a helper function to populate the matrix with interactions\u001b[39;00m\n\u001b[1;32m     62\u001b[0m \u001b[39m            from a csv file\u001b[39;00m\n\u001b[1;32m     63\u001b[0m \u001b[39mReturns:    n/a\u001b[39;00m\n\u001b[1;32m     64\u001b[0m \u001b[39m\"\"\"\u001b[39;00m\n\u001b[1;32m     65\u001b[0m \u001b[39mself\u001b[39m\u001b[39m.\u001b[39mprotein_matrix \u001b[39m=\u001b[39m pd\u001b[39m.\u001b[39mDataFrame(\n\u001b[1;32m     66\u001b[0m     columns\u001b[39m=\u001b[39m\u001b[39mself\u001b[39m\u001b[39m.\u001b[39mlist_of_all_proteins_in_matrix, \n\u001b[1;32m     67\u001b[0m     index\u001b[39m=\u001b[39m\u001b[39mself\u001b[39m\u001b[39m.\u001b[39mlist_of_all_proteins_in_matrix)\n\u001b[0;32m---> 69\u001b[0m \u001b[39mself\u001b[39;49m\u001b[39m.\u001b[39;49mprotein_matrix\u001b[39m.\u001b[39;49mfillna(\u001b[39m0\u001b[39;49m, inplace\u001b[39m=\u001b[39;49m\u001b[39mTrue\u001b[39;49;00m)\n\u001b[1;32m     71\u001b[0m \u001b[39m# populate matrix with the interaction of one row\u001b[39;00m\n\u001b[1;32m     72\u001b[0m \u001b[39mfor\u001b[39;00m n \u001b[39min\u001b[39;00m \u001b[39mrange\u001b[39m(\u001b[39mlen\u001b[39m(\u001b[39mself\u001b[39m\u001b[39m.\u001b[39mprotein_data_df)): \n",
      "File \u001b[0;32m~/miniconda3/envs/diamonds/lib/python3.10/site-packages/pandas/util/_decorators.py:311\u001b[0m, in \u001b[0;36mdeprecate_nonkeyword_arguments.<locals>.decorate.<locals>.wrapper\u001b[0;34m(*args, **kwargs)\u001b[0m\n\u001b[1;32m    305\u001b[0m \u001b[39mif\u001b[39;00m \u001b[39mlen\u001b[39m(args) \u001b[39m>\u001b[39m num_allow_args:\n\u001b[1;32m    306\u001b[0m     warnings\u001b[39m.\u001b[39mwarn(\n\u001b[1;32m    307\u001b[0m         msg\u001b[39m.\u001b[39mformat(arguments\u001b[39m=\u001b[39marguments),\n\u001b[1;32m    308\u001b[0m         \u001b[39mFutureWarning\u001b[39;00m,\n\u001b[1;32m    309\u001b[0m         stacklevel\u001b[39m=\u001b[39mstacklevel,\n\u001b[1;32m    310\u001b[0m     )\n\u001b[0;32m--> 311\u001b[0m \u001b[39mreturn\u001b[39;00m func(\u001b[39m*\u001b[39;49margs, \u001b[39m*\u001b[39;49m\u001b[39m*\u001b[39;49mkwargs)\n",
      "File \u001b[0;32m~/miniconda3/envs/diamonds/lib/python3.10/site-packages/pandas/core/frame.py:5220\u001b[0m, in \u001b[0;36mDataFrame.fillna\u001b[0;34m(self, value, method, axis, inplace, limit, downcast)\u001b[0m\n\u001b[1;32m   5209\u001b[0m \u001b[39m@deprecate_nonkeyword_arguments\u001b[39m(version\u001b[39m=\u001b[39m\u001b[39mNone\u001b[39;00m, allowed_args\u001b[39m=\u001b[39m[\u001b[39m\"\u001b[39m\u001b[39mself\u001b[39m\u001b[39m\"\u001b[39m, \u001b[39m\"\u001b[39m\u001b[39mvalue\u001b[39m\u001b[39m\"\u001b[39m])\n\u001b[1;32m   5210\u001b[0m \u001b[39m@doc\u001b[39m(NDFrame\u001b[39m.\u001b[39mfillna, \u001b[39m*\u001b[39m\u001b[39m*\u001b[39m_shared_doc_kwargs)\n\u001b[1;32m   5211\u001b[0m \u001b[39mdef\u001b[39;00m \u001b[39mfillna\u001b[39m(\n\u001b[0;32m   (...)\u001b[0m\n\u001b[1;32m   5218\u001b[0m     downcast\u001b[39m=\u001b[39m\u001b[39mNone\u001b[39;00m,\n\u001b[1;32m   5219\u001b[0m ) \u001b[39m-\u001b[39m\u001b[39m>\u001b[39m DataFrame \u001b[39m|\u001b[39m \u001b[39mNone\u001b[39;00m:\n\u001b[0;32m-> 5220\u001b[0m     \u001b[39mreturn\u001b[39;00m \u001b[39msuper\u001b[39;49m()\u001b[39m.\u001b[39;49mfillna(\n\u001b[1;32m   5221\u001b[0m         value\u001b[39m=\u001b[39;49mvalue,\n\u001b[1;32m   5222\u001b[0m         method\u001b[39m=\u001b[39;49mmethod,\n\u001b[1;32m   5223\u001b[0m         axis\u001b[39m=\u001b[39;49maxis,\n\u001b[1;32m   5224\u001b[0m         inplace\u001b[39m=\u001b[39;49minplace,\n\u001b[1;32m   5225\u001b[0m         limit\u001b[39m=\u001b[39;49mlimit,\n\u001b[1;32m   5226\u001b[0m         downcast\u001b[39m=\u001b[39;49mdowncast,\n\u001b[1;32m   5227\u001b[0m     )\n",
      "File \u001b[0;32m~/miniconda3/envs/diamonds/lib/python3.10/site-packages/pandas/core/generic.py:6496\u001b[0m, in \u001b[0;36mNDFrame.fillna\u001b[0;34m(self, value, method, axis, inplace, limit, downcast)\u001b[0m\n\u001b[1;32m   6493\u001b[0m         new_data \u001b[39m=\u001b[39m result\n\u001b[1;32m   6494\u001b[0m     \u001b[39melse\u001b[39;00m:\n\u001b[0;32m-> 6496\u001b[0m         new_data \u001b[39m=\u001b[39m \u001b[39mself\u001b[39;49m\u001b[39m.\u001b[39;49m_mgr\u001b[39m.\u001b[39;49mfillna(\n\u001b[1;32m   6497\u001b[0m             value\u001b[39m=\u001b[39;49mvalue, limit\u001b[39m=\u001b[39;49mlimit, inplace\u001b[39m=\u001b[39;49minplace, downcast\u001b[39m=\u001b[39;49mdowncast\n\u001b[1;32m   6498\u001b[0m         )\n\u001b[1;32m   6499\u001b[0m \u001b[39melif\u001b[39;00m \u001b[39misinstance\u001b[39m(value, ABCDataFrame) \u001b[39mand\u001b[39;00m \u001b[39mself\u001b[39m\u001b[39m.\u001b[39mndim \u001b[39m==\u001b[39m \u001b[39m2\u001b[39m:\n\u001b[1;32m   6501\u001b[0m     new_data \u001b[39m=\u001b[39m \u001b[39mself\u001b[39m\u001b[39m.\u001b[39mwhere(\u001b[39mself\u001b[39m\u001b[39m.\u001b[39mnotna(), value)\u001b[39m.\u001b[39m_mgr\n",
      "File \u001b[0;32m~/miniconda3/envs/diamonds/lib/python3.10/site-packages/pandas/core/internals/managers.py:414\u001b[0m, in \u001b[0;36mBaseBlockManager.fillna\u001b[0;34m(self, value, limit, inplace, downcast)\u001b[0m\n\u001b[1;32m    413\u001b[0m \u001b[39mdef\u001b[39;00m \u001b[39mfillna\u001b[39m(\u001b[39mself\u001b[39m: T, value, limit, inplace: \u001b[39mbool\u001b[39m, downcast) \u001b[39m-\u001b[39m\u001b[39m>\u001b[39m T:\n\u001b[0;32m--> 414\u001b[0m     \u001b[39mreturn\u001b[39;00m \u001b[39mself\u001b[39;49m\u001b[39m.\u001b[39;49mapply(\n\u001b[1;32m    415\u001b[0m         \u001b[39m\"\u001b[39;49m\u001b[39mfillna\u001b[39;49m\u001b[39m\"\u001b[39;49m, value\u001b[39m=\u001b[39;49mvalue, limit\u001b[39m=\u001b[39;49mlimit, inplace\u001b[39m=\u001b[39;49minplace, downcast\u001b[39m=\u001b[39;49mdowncast\n\u001b[1;32m    416\u001b[0m     )\n",
      "File \u001b[0;32m~/miniconda3/envs/diamonds/lib/python3.10/site-packages/pandas/core/internals/managers.py:304\u001b[0m, in \u001b[0;36mBaseBlockManager.apply\u001b[0;34m(self, f, align_keys, ignore_failures, **kwargs)\u001b[0m\n\u001b[1;32m    302\u001b[0m         applied \u001b[39m=\u001b[39m b\u001b[39m.\u001b[39mapply(f, \u001b[39m*\u001b[39m\u001b[39m*\u001b[39mkwargs)\n\u001b[1;32m    303\u001b[0m     \u001b[39melse\u001b[39;00m:\n\u001b[0;32m--> 304\u001b[0m         applied \u001b[39m=\u001b[39m \u001b[39mgetattr\u001b[39;49m(b, f)(\u001b[39m*\u001b[39;49m\u001b[39m*\u001b[39;49mkwargs)\n\u001b[1;32m    305\u001b[0m \u001b[39mexcept\u001b[39;00m (\u001b[39mTypeError\u001b[39;00m, \u001b[39mNotImplementedError\u001b[39;00m):\n\u001b[1;32m    306\u001b[0m     \u001b[39mif\u001b[39;00m \u001b[39mnot\u001b[39;00m ignore_failures:\n",
      "File \u001b[0;32m~/miniconda3/envs/diamonds/lib/python3.10/site-packages/pandas/core/internals/blocks.py:473\u001b[0m, in \u001b[0;36mBlock.fillna\u001b[0;34m(self, value, limit, inplace, downcast)\u001b[0m\n\u001b[1;32m    471\u001b[0m     nb \u001b[39m=\u001b[39m \u001b[39mself\u001b[39m \u001b[39mif\u001b[39;00m inplace \u001b[39melse\u001b[39;00m \u001b[39mself\u001b[39m\u001b[39m.\u001b[39mcopy()\n\u001b[1;32m    472\u001b[0m     putmask_inplace(nb\u001b[39m.\u001b[39mvalues, mask, value)\n\u001b[0;32m--> 473\u001b[0m     \u001b[39mreturn\u001b[39;00m nb\u001b[39m.\u001b[39;49m_maybe_downcast([nb], downcast)\n\u001b[1;32m    475\u001b[0m \u001b[39mif\u001b[39;00m noop:\n\u001b[1;32m    476\u001b[0m     \u001b[39m# we can't process the value, but nothing to do\u001b[39;00m\n\u001b[1;32m    477\u001b[0m     \u001b[39mreturn\u001b[39;00m [\u001b[39mself\u001b[39m] \u001b[39mif\u001b[39;00m inplace \u001b[39melse\u001b[39;00m [\u001b[39mself\u001b[39m\u001b[39m.\u001b[39mcopy()]\n",
      "File \u001b[0;32m~/miniconda3/envs/diamonds/lib/python3.10/site-packages/pandas/core/internals/blocks.py:541\u001b[0m, in \u001b[0;36mBlock._maybe_downcast\u001b[0;34m(self, blocks, downcast)\u001b[0m\n\u001b[1;32m    532\u001b[0m     \u001b[39mreturn\u001b[39;00m blocks\n\u001b[1;32m    534\u001b[0m \u001b[39mif\u001b[39;00m \u001b[39mself\u001b[39m\u001b[39m.\u001b[39mdtype \u001b[39m==\u001b[39m _dtype_obj:\n\u001b[1;32m    535\u001b[0m     \u001b[39m# GH#44241 We downcast regardless of the argument;\u001b[39;00m\n\u001b[1;32m    536\u001b[0m     \u001b[39m#  respecting 'downcast=None' may be worthwhile at some point,\u001b[39;00m\n\u001b[1;32m    537\u001b[0m     \u001b[39m#  but ATM it breaks too much existing code.\u001b[39;00m\n\u001b[1;32m    538\u001b[0m     \u001b[39m# split and convert the blocks\u001b[39;00m\n\u001b[1;32m    540\u001b[0m     \u001b[39mreturn\u001b[39;00m extend_blocks(\n\u001b[0;32m--> 541\u001b[0m         [blk\u001b[39m.\u001b[39mconvert(datetime\u001b[39m=\u001b[39m\u001b[39mTrue\u001b[39;00m, numeric\u001b[39m=\u001b[39m\u001b[39mFalse\u001b[39;00m) \u001b[39mfor\u001b[39;00m blk \u001b[39min\u001b[39;00m blocks]\n\u001b[1;32m    542\u001b[0m     )\n\u001b[1;32m    544\u001b[0m \u001b[39mif\u001b[39;00m downcast \u001b[39mis\u001b[39;00m \u001b[39mNone\u001b[39;00m:\n\u001b[1;32m    545\u001b[0m     \u001b[39mreturn\u001b[39;00m blocks\n",
      "File \u001b[0;32m~/miniconda3/envs/diamonds/lib/python3.10/site-packages/pandas/core/internals/blocks.py:541\u001b[0m, in \u001b[0;36m<listcomp>\u001b[0;34m(.0)\u001b[0m\n\u001b[1;32m    532\u001b[0m     \u001b[39mreturn\u001b[39;00m blocks\n\u001b[1;32m    534\u001b[0m \u001b[39mif\u001b[39;00m \u001b[39mself\u001b[39m\u001b[39m.\u001b[39mdtype \u001b[39m==\u001b[39m _dtype_obj:\n\u001b[1;32m    535\u001b[0m     \u001b[39m# GH#44241 We downcast regardless of the argument;\u001b[39;00m\n\u001b[1;32m    536\u001b[0m     \u001b[39m#  respecting 'downcast=None' may be worthwhile at some point,\u001b[39;00m\n\u001b[1;32m    537\u001b[0m     \u001b[39m#  but ATM it breaks too much existing code.\u001b[39;00m\n\u001b[1;32m    538\u001b[0m     \u001b[39m# split and convert the blocks\u001b[39;00m\n\u001b[1;32m    540\u001b[0m     \u001b[39mreturn\u001b[39;00m extend_blocks(\n\u001b[0;32m--> 541\u001b[0m         [blk\u001b[39m.\u001b[39;49mconvert(datetime\u001b[39m=\u001b[39;49m\u001b[39mTrue\u001b[39;49;00m, numeric\u001b[39m=\u001b[39;49m\u001b[39mFalse\u001b[39;49;00m) \u001b[39mfor\u001b[39;00m blk \u001b[39min\u001b[39;00m blocks]\n\u001b[1;32m    542\u001b[0m     )\n\u001b[1;32m    544\u001b[0m \u001b[39mif\u001b[39;00m downcast \u001b[39mis\u001b[39;00m \u001b[39mNone\u001b[39;00m:\n\u001b[1;32m    545\u001b[0m     \u001b[39mreturn\u001b[39;00m blocks\n",
      "File \u001b[0;32m~/miniconda3/envs/diamonds/lib/python3.10/site-packages/pandas/core/internals/blocks.py:142\u001b[0m, in \u001b[0;36mmaybe_split.<locals>.newfunc\u001b[0;34m(self, *args, **kwargs)\u001b[0m\n\u001b[1;32m    139\u001b[0m     \u001b[39mreturn\u001b[39;00m meth(\u001b[39mself\u001b[39m, \u001b[39m*\u001b[39margs, \u001b[39m*\u001b[39m\u001b[39m*\u001b[39mkwargs)\n\u001b[1;32m    140\u001b[0m \u001b[39melse\u001b[39;00m:\n\u001b[1;32m    141\u001b[0m     \u001b[39m# Split and operate column-by-column\u001b[39;00m\n\u001b[0;32m--> 142\u001b[0m     \u001b[39mreturn\u001b[39;00m \u001b[39mself\u001b[39;49m\u001b[39m.\u001b[39;49msplit_and_operate(meth, \u001b[39m*\u001b[39;49margs, \u001b[39m*\u001b[39;49m\u001b[39m*\u001b[39;49mkwargs)\n",
      "File \u001b[0;32m~/miniconda3/envs/diamonds/lib/python3.10/site-packages/pandas/core/internals/blocks.py:525\u001b[0m, in \u001b[0;36mBlock.split_and_operate\u001b[0;34m(self, func, *args, **kwargs)\u001b[0m\n\u001b[1;32m    523\u001b[0m res_blocks \u001b[39m=\u001b[39m []\n\u001b[1;32m    524\u001b[0m \u001b[39mfor\u001b[39;00m nb \u001b[39min\u001b[39;00m \u001b[39mself\u001b[39m\u001b[39m.\u001b[39m_split():\n\u001b[0;32m--> 525\u001b[0m     rbs \u001b[39m=\u001b[39m func(nb, \u001b[39m*\u001b[39;49margs, \u001b[39m*\u001b[39;49m\u001b[39m*\u001b[39;49mkwargs)\n\u001b[1;32m    526\u001b[0m     res_blocks\u001b[39m.\u001b[39mextend(rbs)\n\u001b[1;32m    527\u001b[0m \u001b[39mreturn\u001b[39;00m res_blocks\n",
      "File \u001b[0;32m~/miniconda3/envs/diamonds/lib/python3.10/site-packages/pandas/core/internals/blocks.py:1934\u001b[0m, in \u001b[0;36mObjectBlock.convert\u001b[0;34m(self, copy, datetime, numeric, timedelta)\u001b[0m\n\u001b[1;32m   1929\u001b[0m \u001b[39mif\u001b[39;00m values\u001b[39m.\u001b[39mndim \u001b[39m==\u001b[39m \u001b[39m2\u001b[39m:\n\u001b[1;32m   1930\u001b[0m     \u001b[39m# maybe_split ensures we only get here with values.shape[0] == 1,\u001b[39;00m\n\u001b[1;32m   1931\u001b[0m     \u001b[39m# avoid doing .ravel as that might make a copy\u001b[39;00m\n\u001b[1;32m   1932\u001b[0m     values \u001b[39m=\u001b[39m values[\u001b[39m0\u001b[39m]\n\u001b[0;32m-> 1934\u001b[0m res_values \u001b[39m=\u001b[39m soft_convert_objects(\n\u001b[1;32m   1935\u001b[0m     values,\n\u001b[1;32m   1936\u001b[0m     datetime\u001b[39m=\u001b[39;49mdatetime,\n\u001b[1;32m   1937\u001b[0m     numeric\u001b[39m=\u001b[39;49mnumeric,\n\u001b[1;32m   1938\u001b[0m     timedelta\u001b[39m=\u001b[39;49mtimedelta,\n\u001b[1;32m   1939\u001b[0m     copy\u001b[39m=\u001b[39;49mcopy,\n\u001b[1;32m   1940\u001b[0m )\n\u001b[1;32m   1941\u001b[0m res_values \u001b[39m=\u001b[39m ensure_block_shape(res_values, \u001b[39mself\u001b[39m\u001b[39m.\u001b[39mndim)\n\u001b[1;32m   1942\u001b[0m \u001b[39mreturn\u001b[39;00m [\u001b[39mself\u001b[39m\u001b[39m.\u001b[39mmake_block(res_values)]\n",
      "File \u001b[0;32m~/miniconda3/envs/diamonds/lib/python3.10/site-packages/pandas/core/dtypes/cast.py:1343\u001b[0m, in \u001b[0;36msoft_convert_objects\u001b[0;34m(values, datetime, numeric, timedelta, period, copy)\u001b[0m\n\u001b[1;32m   1339\u001b[0m \u001b[39mif\u001b[39;00m datetime \u001b[39mor\u001b[39;00m timedelta:\n\u001b[1;32m   1340\u001b[0m     \u001b[39m# GH 20380, when datetime is beyond year 2262, hence outside\u001b[39;00m\n\u001b[1;32m   1341\u001b[0m     \u001b[39m# bound of nanosecond-resolution 64-bit integers.\u001b[39;00m\n\u001b[1;32m   1342\u001b[0m     \u001b[39mtry\u001b[39;00m:\n\u001b[0;32m-> 1343\u001b[0m         converted \u001b[39m=\u001b[39m lib\u001b[39m.\u001b[39;49mmaybe_convert_objects(\n\u001b[1;32m   1344\u001b[0m             values,\n\u001b[1;32m   1345\u001b[0m             convert_datetime\u001b[39m=\u001b[39;49mdatetime,\n\u001b[1;32m   1346\u001b[0m             convert_timedelta\u001b[39m=\u001b[39;49mtimedelta,\n\u001b[1;32m   1347\u001b[0m             convert_period\u001b[39m=\u001b[39;49mperiod,\n\u001b[1;32m   1348\u001b[0m         )\n\u001b[1;32m   1349\u001b[0m     \u001b[39mexcept\u001b[39;00m (OutOfBoundsDatetime, \u001b[39mValueError\u001b[39;00m):\n\u001b[1;32m   1350\u001b[0m         \u001b[39mreturn\u001b[39;00m values\n",
      "\u001b[0;31mKeyboardInterrupt\u001b[0m: "
     ]
    }
   ],
   "source": [
    "\n",
    "dream3_matrix_file = \"../data/networks/DREAM_files/dream_3.txt\"\n",
    "dream3_cluster_file = \"../data/results/DREAM-3-cc/d3_5_100.json-cluster.json\"\n",
    "\n",
    "dream3_clusters_dict = {}\n",
    "    # convert actual cluster file to a dictionary!!\n",
    "with open(dream3_cluster_file,\"r\") as cluster_dict_file:\n",
    "    dream3_clusters_dict = json.load(cluster_dict_file)\n",
    "\n",
    "\n",
    "thing2 = find_clusters_that_match_criteria(ProteinMatrix(dream3_matrix_file), AllClusters(protein_to_cluster_dict=dream3_clusters_dict), DegreeList(ProteinMatrix(dream3_matrix_file)))\n"
   ]
  },
  {
   "cell_type": "code",
   "execution_count": 110,
   "metadata": {},
   "outputs": [
    {
     "data": {
      "text/plain": [
       "[272, 273, 411, 419, 468, 571, 598, 698, 711, 745, 750, 803, 915, 959]"
      ]
     },
     "execution_count": 110,
     "metadata": {},
     "output_type": "execute_result"
    }
   ],
   "source": [
    "thing2"
   ]
  },
  {
   "cell_type": "code",
   "execution_count": null,
   "metadata": {},
   "outputs": [],
   "source": []
  },
  {
   "cell_type": "code",
   "execution_count": null,
   "metadata": {},
   "outputs": [],
   "source": []
  },
  {
   "cell_type": "code",
   "execution_count": null,
   "metadata": {},
   "outputs": [],
   "source": []
  },
  {
   "cell_type": "code",
   "execution_count": null,
   "metadata": {},
   "outputs": [],
   "source": []
  }
 ],
 "metadata": {
  "kernelspec": {
   "display_name": "Python 3.10.4 ('diamonds')",
   "language": "python",
   "name": "python3"
  },
  "language_info": {
   "codemirror_mode": {
    "name": "ipython",
    "version": 3
   },
   "file_extension": ".py",
   "mimetype": "text/x-python",
   "name": "python",
   "nbconvert_exporter": "python",
   "pygments_lexer": "ipython3",
   "version": "3.10.4"
  },
  "orig_nbformat": 4,
  "vscode": {
   "interpreter": {
    "hash": "e113e58b579a48e5732235004b32d872074e11125058c2d5e4f294336344a2ee"
   }
  }
 },
 "nbformat": 4,
 "nbformat_minor": 2
}
