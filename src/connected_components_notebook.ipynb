{
 "cells": [
  {
   "cell_type": "code",
   "execution_count": 27,
   "metadata": {},
   "outputs": [],
   "source": [
    "\n",
    "from matrix_class import *\n",
    "from cluster_class import *\n",
    "from degreelist_class import *\n",
    "import json "
   ]
  },
  {
   "cell_type": "code",
   "execution_count": 2,
   "metadata": {},
   "outputs": [],
   "source": [
    "testing_matrix_file = \"../data/testing_data/fake_cluster_dream.txt\"\n",
    "testing_cluster_file = \"../data/testing_data/fake_cluster.txt\"\n",
    "\n",
    "dream3_matrix_file = \"../data/networks/DREAM_files/dream_3.txt\"\n",
    "dream3_cluster_file = \"../data/results/DREAM-3-cc/d3_5_100.json-cluster.json\" \n",
    "\n",
    "dream3_clusters_dict = {}\n",
    "# convert actual cluster file to a dictionary!!\n",
    "with open(dream3_cluster_file,\"r\") as cluster_dict_file:\n",
    "    dream3_clusters_dict = json.load(cluster_dict_file)"
   ]
  },
  {
   "cell_type": "code",
   "execution_count": 3,
   "metadata": {},
   "outputs": [],
   "source": [
    "testing_matrix = ProteinMatrix(testing_matrix_file)\n",
    "testing_clusters = AllClusters(testing_cluster_file)\n",
    "testing_degreelist = DegreeList(testing_matrix)"
   ]
  },
  {
   "cell_type": "code",
   "execution_count": 4,
   "metadata": {},
   "outputs": [],
   "source": [
    "clusters = AllClusters(protein_to_cluster_dict=dream3_clusters_dict)\n",
    "matrix = ProteinMatrix(dream3_matrix_file)\n",
    "degreelist = DegreeList(matrix)"
   ]
  },
  {
   "cell_type": "code",
   "execution_count": 5,
   "metadata": {},
   "outputs": [],
   "source": [
    "\n",
    "def find_proteins_that_match_criteria(cluster_num: int, matrix: ProteinMatrix, clusters: AllClusters, degreelist: DegreeList, ratio: float = .5, constant: int = 0, min_components_that_protein_connects: int = -1, max_degree: int = 500) -> list():\n",
    "    \"\"\"\n",
    "    can choose to a ratio and a constant, or a min num components\n",
    "    a protein must connect more than ratio*num_components + constant\n",
    "\n",
    "    TODO: use the neighbors of proteins in the cluster as opposed to every protein\n",
    "    TODO: currently uses num proteins in cluster rather than num components to determine minimum number of component s\n",
    "    \"\"\"\n",
    "\n",
    "    if (min_components_that_protein_connects == -1):\n",
    "            min_components_that_protein_connects = constant + ratio * len(clusters.get_cluster_proteins(cluster_num))\n",
    "        \n",
    "    submatrix = SubMatrix(clusters.get_cluster_proteins(cluster_num), matrix)\n",
    "    num_components, labels = submatrix.get_num_components_and_labels()\n",
    "\n",
    "    ### POPULATE COMPONENT DICTIONARY ###\n",
    "    component_dictionary = dict() # protein : component_num\n",
    "    j = 0\n",
    "    for array in [(np.array(submatrix.get_list_of_proteins())[np.nonzero(labels == i)]) for i in range(num_components)]:\n",
    "        for protein in array:\n",
    "            component_dictionary[protein] = j\n",
    "        j += 1\n",
    "    \n",
    "    print(f\"component dictionary:\\n{component_dictionary}\")\n",
    "    ## FIND CONNECTED PROTEINS AND DETERMINE IF THEY QUALIFY ###\n",
    "\n",
    "\n",
    "    qualifying_proteins = list()\n",
    "\n",
    "    for protein in (degreelist.create_list_of_proteins_connected_to_cluster(clusters.get_cluster_proteins(cluster_num), min_num_connections=min_components_that_protein_connects)):   \n",
    "        degree = matrix.find_degree(protein)\n",
    "\n",
    "        if (degree >= min_components_that_protein_connects) and (degree <= max_degree):\n",
    "\n",
    "            num_edges, which_proteins = degreelist.determine_num_edges_to_cluster(protein, clusters.get_cluster_proteins(cluster_num), also_return_which_proteins=True)\n",
    "                \n",
    "            if (num_edges >= min_components_that_protein_connects):\n",
    "                set_of_components_that_protein_connects = degreelist.which_components_of_a_cluster_would_a_protein_connect(protein, clusters.get_cluster_proteins(cluster_num), component_dictionary, connected_proteins_within_cluster=which_proteins)\n",
    "\n",
    "                if len(set_of_components_that_protein_connects) >= min_components_that_protein_connects:\n",
    "                    qualifying_proteins.append(protein)\n",
    "\n",
    "    return qualifying_proteins\n"
   ]
  },
  {
   "cell_type": "code",
   "execution_count": null,
   "metadata": {},
   "outputs": [],
   "source": [
    "def find_neighbors_of_protein():\n",
    "    pass"
   ]
  },
  {
   "cell_type": "code",
   "execution_count": 6,
   "metadata": {},
   "outputs": [],
   "source": [
    "def find_neighbors_of_clusters():"
   ]
  },
  {
   "cell_type": "code",
   "execution_count": 7,
   "metadata": {},
   "outputs": [
    {
     "name": "stdout",
     "output_type": "stream",
     "text": [
      "[25, 29, 30, 36, 49, 73, 75, 99, 152, 161, 164, 174, 185]\n"
     ]
    }
   ],
   "source": []
  },
  {
   "cell_type": "code",
   "execution_count": 8,
   "metadata": {},
   "outputs": [
    {
     "name": "stdout",
     "output_type": "stream",
     "text": [
      "{25: ['AKT1', 'SRC'], 29: ['CDK1', 'PRKACA'], 30: [], 36: [], 49: ['EGFR', 'MAPK1', 'SRC'], 73: ['TP53', 'MAPK1', 'PRKCA', 'SRC'], 75: [], 99: [], 152: ['CSNK2A1', 'PRKACA'], 161: ['CSNK2A1'], 164: ['BCL2', 'MAPK8', 'MAPK1'], 174: [], 185: ['TSC1', 'IKBKB']}\n"
     ]
    }
   ],
   "source": []
  },
  {
   "cell_type": "code",
   "execution_count": 9,
   "metadata": {},
   "outputs": [],
   "source": []
  },
  {
   "cell_type": "code",
   "execution_count": 13,
   "metadata": {},
   "outputs": [],
   "source": []
  },
  {
   "cell_type": "code",
   "execution_count": 29,
   "metadata": {},
   "outputs": [
    {
     "name": "stdout",
     "output_type": "stream",
     "text": [
      "ERROR! please specify a [csv_filename] or a [protein_to_cluster_dict] not found.\n"
     ]
    }
   ],
   "source": []
  },
  {
   "cell_type": "code",
   "execution_count": 34,
   "metadata": {},
   "outputs": [
    {
     "name": "stdout",
     "output_type": "stream",
     "text": [
      "ERROR! please specify a [csv_filename] or a [protein_to_cluster_dict] not found.\n"
     ]
    }
   ],
   "source": []
  },
  {
   "cell_type": "code",
   "execution_count": 38,
   "metadata": {},
   "outputs": [
    {
     "name": "stdout",
     "output_type": "stream",
     "text": [
      "AllClusters has 199 clusters (use the print_all method to see them)\n"
     ]
    }
   ],
   "source": []
  },
  {
   "cell_type": "code",
   "execution_count": null,
   "metadata": {},
   "outputs": [],
   "source": []
  },
  {
   "cell_type": "code",
   "execution_count": 37,
   "metadata": {},
   "outputs": [
    {
     "name": "stdout",
     "output_type": "stream",
     "text": [
      "['TRPV3', 'KHDRBS2', 'PDZD2', 'TP73', 'TICAM1', 'PHKG1', 'KITLG', 'TBK1', 'RAC1', 'RUSC1', 'CBS', 'MAPK11', 'MAP2K6', 'PAWR', 'CDK10', 'SPTAN1', 'TRPV3', 'KHDRBS2', 'PDZD2', 'TP73', 'TICAM1', 'PHKG1', 'KITLG', 'TBK1', 'RAC1', 'RUSC1', 'CBS', 'MAPK11', 'MAP2K6', 'PAWR', 'CDK10', 'SPTAN1', 'AKT1', 'SRC', 'AKT1', 'SRC', 'AKT1', 'SRC', 'AKT1', 'SRC', 'AKT1', 'SRC', 'AKT1', 'SRC', 'AKT1', 'SRC', 'AKT1', 'SRC']\n",
      "['TRPV3', 'KHDRBS2', 'PDZD2', 'TP73', 'TICAM1', 'PHKG1', 'KITLG', 'TBK1', 'RAC1', 'RUSC1', 'CBS', 'MAPK11', 'MAP2K6', 'PAWR', 'CDK10', 'SPTAN1', 'TRPV3', 'KHDRBS2', 'PDZD2', 'TP73', 'TICAM1', 'PHKG1', 'KITLG', 'TBK1', 'RAC1', 'RUSC1', 'CBS', 'MAPK11', 'MAP2K6', 'PAWR', 'CDK10', 'SPTAN1', 'AKT1', 'SRC', 'AKT1', 'SRC', 'AKT1', 'SRC', 'AKT1', 'SRC', 'AKT1', 'SRC', 'AKT1', 'SRC', 'AKT1', 'SRC', 'AKT1', 'SRC']\n"
     ]
    }
   ],
   "source": []
  },
  {
   "cell_type": "code",
   "execution_count": 12,
   "metadata": {},
   "outputs": [
    {
     "name": "stdout",
     "output_type": "stream",
     "text": [
      "['PPP1R15A', 'MMP14', 'BCL2L12', 'PTX3', 'HLA-C', 'KAT8', 'EIF2S2', 'RASSF7', 'AKT2', 'PRKAA2', 'PIP5K1A', 'RAB11A', 'CASP3', 'PPP1R15A', 'MMP14', 'BCL2L12', 'PTX3', 'HLA-C', 'KAT8', 'EIF2S2', 'RASSF7', 'AKT2', 'PRKAA2', 'PIP5K1A', 'RAB11A', 'CASP3']\n",
      "['PPP1R15A', 'MMP14', 'BCL2L12', 'PTX3', 'HLA-C', 'KAT8', 'EIF2S2', 'RASSF7', 'AKT2', 'PRKAA2', 'PIP5K1A', 'RAB11A', 'CASP3', 'PPP1R15A', 'MMP14', 'BCL2L12', 'PTX3', 'HLA-C', 'KAT8', 'EIF2S2', 'RASSF7', 'AKT2', 'PRKAA2', 'PIP5K1A', 'RAB11A', 'CASP3']\n"
     ]
    }
   ],
   "source": []
  },
  {
   "cell_type": "code",
   "execution_count": null,
   "metadata": {},
   "outputs": [],
   "source": []
  },
  {
   "cell_type": "code",
   "execution_count": null,
   "metadata": {},
   "outputs": [],
   "source": []
  }
 ],
 "metadata": {
  "kernelspec": {
   "display_name": "Python 3.10.4 ('diamonds')",
   "language": "python",
   "name": "python3"
  },
  "language_info": {
   "codemirror_mode": {
    "name": "ipython",
    "version": 3
   },
   "file_extension": ".py",
   "mimetype": "text/x-python",
   "name": "python",
   "nbconvert_exporter": "python",
   "pygments_lexer": "ipython3",
   "version": "3.10.4"
  },
  "orig_nbformat": 4,
  "vscode": {
   "interpreter": {
    "hash": "e113e58b579a48e5732235004b32d872074e11125058c2d5e4f294336344a2ee"
   }
  }
 },
 "nbformat": 4,
 "nbformat_minor": 2
}
