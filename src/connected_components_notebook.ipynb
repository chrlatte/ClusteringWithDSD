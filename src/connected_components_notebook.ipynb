{
 "cells": [
  {
   "cell_type": "code",
   "execution_count": 3,
   "metadata": {},
   "outputs": [],
   "source": [
    "\n",
    "from matrix_class import *\n",
    "from cluster_class import *\n",
    "from degreelist_class import *\n",
    "import json "
   ]
  },
  {
   "cell_type": "code",
   "execution_count": 4,
   "metadata": {},
   "outputs": [],
   "source": [
    "    testing_matrix_file = \"../data/testing_data/fake_cluster_dream.txt\"\n",
    "    testing_cluster_file = \"../data/testing_data/fake_cluster.txt\"\n",
    "\n",
    "    dream3_matrix_file = \"../data/networks/DREAM_files/dream_3.txt\"\n",
    "    dream3_cluster_file = \"../data/results/DREAM-3-cc/d3_5_100.json-cluster.json\" \n",
    "\n",
    "    dream3_clusters_dict = {}\n",
    "    # convert actual cluster file to a dictionary!!\n",
    "    with open(dream3_cluster_file,\"r\") as cluster_dict_file:\n",
    "        dream3_clusters_dict = json.load(cluster_dict_file)"
   ]
  },
  {
   "cell_type": "code",
   "execution_count": 5,
   "metadata": {},
   "outputs": [],
   "source": [
    "testing_matrix = ProteinMatrix(testing_matrix_file)\n",
    "testing_clusters = AllClusters(testing_cluster_file)\n",
    "testing_degreelist = DegreeList(testing_matrix)"
   ]
  },
  {
   "cell_type": "code",
   "execution_count": 16,
   "metadata": {},
   "outputs": [],
   "source": [
    "clusters = AllClusters(protein_to_cluster_dict=dream3_clusters_dict)\n",
    "matrix = ProteinMatrix(dream3_matrix_file)\n",
    "degreelist = DegreeList(matrix)"
   ]
  },
  {
   "cell_type": "code",
   "execution_count": null,
   "metadata": {},
   "outputs": [],
   "source": []
  },
  {
   "cell_type": "code",
   "execution_count": null,
   "metadata": {},
   "outputs": [],
   "source": []
  },
  {
   "cell_type": "code",
   "execution_count": null,
   "metadata": {},
   "outputs": [],
   "source": []
  },
  {
   "cell_type": "code",
   "execution_count": null,
   "metadata": {},
   "outputs": [],
   "source": []
  },
  {
   "cell_type": "code",
   "execution_count": 50,
   "metadata": {},
   "outputs": [],
   "source": [
    "def qualifying_proteins_using_submatrix(cluster_num: int, submatrix: SubMatrix, clusters: AllClusters, degreelist: DegreeList, ratio: float = .5, constant: int = 0, min_components_that_protein_connects: int = -1, max_degree: int = 500) -> list():\n",
    "    \"\"\"\n",
    "    TODO : a revised version of the find_proteins_that_match_criteria function that takes in a submatrix as a parameter, and therefore doesn't need to construct one. \n",
    "    \"\"\"\n",
    "    if (min_components_that_protein_connects == -1):\n",
    "            min_components_that_protein_connects = constant + ratio * len(clusters.get_cluster_proteins(cluster_num))\n",
    "        \n",
    "    num_components, labels = submatrix.get_num_components_and_labels()\n",
    "\n",
    "    ### POPULATE COMPONENT DICTIONARY ###\n",
    "    component_dictionary = dict() # protein : component_num\n",
    "    j = 0\n",
    "    for array in [(np.array(submatrix.get_list_of_proteins())[np.nonzero(labels == i)]) for i in range(num_components)]:\n",
    "        for protein in array:\n",
    "            component_dictionary[protein] = j\n",
    "        j += 1\n",
    "    \n",
    "    ## FIND CONNECTED PROTEINS AND DETERMINE IF THEY QUALIFY \n",
    "    qualifying_proteins = list()\n",
    "\n",
    "    for protein in (degreelist.get_list_of_proteins_sorted_by_degree()):   \n",
    "        num_edges, which_proteins = degreelist.determine_num_edges_to_cluster(protein, clusters.get_cluster_proteins(cluster_num), also_return_which_proteins=True)\n",
    "                \n",
    "        if (num_edges >= min_components_that_protein_connects):\n",
    "            set_of_components_that_protein_connects = degreelist.which_components_of_a_cluster_would_a_protein_connect(protein, clusters.get_cluster_proteins(cluster_num), component_dictionary, connected_proteins_within_cluster=which_proteins)\n",
    "\n",
    "            if len(set_of_components_that_protein_connects) >= min_components_that_protein_connects:\n",
    "                qualifying_proteins.append(protein)\n",
    "\n",
    "    return qualifying_proteins"
   ]
  },
  {
   "cell_type": "code",
   "execution_count": null,
   "metadata": {},
   "outputs": [],
   "source": []
  },
  {
   "cell_type": "code",
   "execution_count": 29,
   "metadata": {},
   "outputs": [],
   "source": [
    "def find_clusters_and_proteins_together(matrix: ProteinMatrix, clusters: AllClusters, degreelist: DegreeList, cluster_ratio: float = .5, cluster_constant: int = 0, protein_ratio: float = .5, protein_constant: int = 0, min_components_that_protein_connects: int = -1, max_degree: int = 500) -> list() and dict():\n",
    "    \"\"\"\n",
    "    function is a version of find_clusters_that_match_criteria, that, once it finds the cluster, finds corresponding proteins at the same time so that the submatrix doesn't need to be reconstructed\n",
    "\n",
    "    Parameters: \n",
    "        matrix - a ProteinMatrix of all protein interactions\n",
    "        clusters - an AllClusters containing proteins grouped into clusters\n",
    "        cluster_ratio and cluster_constant - used together to determine which clusters qualify, with the output of the function being cluster_ratio * input + cluster_constant\n",
    "        TODO: remaining parameters\n",
    "    Purpose:    determines clusters that are mostly highly connected, then \n",
    "                determines which proteins that, when added to the cluster, will \n",
    "                increase it's connectedness\n",
    "    Returns:    a list containing the numbers of the clusters that qualify, and \n",
    "                a dictionary linking each cluster, to a list of the qualifying \n",
    "                proteins\n",
    "    \"\"\"\n",
    "    \n",
    "    cluster_nums_that_qualify = list()\n",
    "    qualifying_proteins_dict = dict()\n",
    "\n",
    "    for cluster_num in clusters.get_all_clusters():\n",
    "        # create a submatrix out of the proteins in the cluster\n",
    "        submatrix = SubMatrix(clusters.get_cluster_proteins(cluster_num), matrix)\n",
    "        num_components, labels = submatrix.get_num_components_and_labels()\n",
    "        # print(f\"num components is {num_components}. num proteins is {len(submatrix.get_list_of_proteins())}\")\n",
    "        if num_components < cluster_ratio * len(submatrix.get_list_of_proteins()) + cluster_constant:\n",
    "\n",
    "            # add cluster to list showing that it qualifies, \n",
    "            print(f\"adding cluster {cluster_num}\")\n",
    "            cluster_nums_that_qualify.append(cluster_num)\n",
    "            # then do analysis on the cluster\n",
    "            # qualifying_proteins_dict[cluster_num] = qualifying_proteins_using_submatrix(cluster_num, submatrix, clusters, degreelist, ratio=protein_ratio, constant=protein_constant, min_components_that_protein_connects=min_components_that_protein_connects, max_degree=max_degree)\n",
    "\n",
    "\n",
    "    return cluster_nums_that_qualify, qualifying_proteins_dict\n"
   ]
  },
  {
   "cell_type": "code",
   "execution_count": 43,
   "metadata": {},
   "outputs": [],
   "source": [
    "def find_clusters_that_match_criteria(matrix: ProteinMatrix, clusters: AllClusters, degreelist: DegreeList, ratio: float = .5, constant: int = 0) -> list():\n",
    "    \"\"\"\n",
    "    Parameters: \n",
    "        matrix - a ProteinMatrix of all protein interactions\n",
    "        clusters - an AllClusters containing proteins grouped into clusters\n",
    "        ratio and constant - used together to determine which clusters qualify, with the output of the function being ratio * input + constant\n",
    "    Purpose:    function goes through all clusters and finds those that are \n",
    "                'connected enough'. to qualify, the number of components in the \n",
    "                cluster must be less the value of the qualifying_threshhold \n",
    "                function when the number of proteins in the cluster is passed in\n",
    "    Returns:    a list containing the numbers of the clusters that qualify\n",
    "    \"\"\"\n",
    "    \n",
    "    cluster_nums_that_qualify = list()\n",
    "\n",
    "    for key in clusters.get_all_clusters():\n",
    "        # create a submatrix out of the proteins in the cluster\n",
    "        submatrix = SubMatrix(clusters.get_cluster_proteins(key), matrix)\n",
    "        num_components, labels = submatrix.get_num_components_and_labels()\n",
    "        # print(f\"num components is {num_components}. num proteins is {len(submatrix.get_list_of_proteins())}\")\n",
    "        if num_components < ratio * len(submatrix.get_list_of_proteins()) + constant:\n",
    "            # print('success')\n",
    "            cluster_nums_that_qualify.append(key)\n",
    "\n",
    "    return cluster_nums_that_qualify\n",
    "\n",
    "\n",
    "def find_proteins_that_match_criteria(cluster_num: int, matrix: ProteinMatrix, clusters: AllClusters, degreelist: DegreeList, ratio: float = .5, constant: int = 0, min_components_that_protein_connects: int = -1, max_degree: int = 500) -> list():\n",
    "    \"\"\"\n",
    "    can choose to a ratio and a constant, or a min num components\n",
    "    a protein must connect more than ratio*num_components + constant\n",
    "    TODO : function could be improved by passing (submatrix) info from the find_cluster_that_match function, but for now, this is ok. (so that it doesn't need to be reconstructed)\n",
    "    \"\"\"\n",
    "    if (min_components_that_protein_connects == -1):\n",
    "            min_components_that_protein_connects = constant + ratio * len(clusters.get_cluster_proteins(cluster_num))\n",
    "        \n",
    "    submatrix = SubMatrix(clusters.get_cluster_proteins(cluster_num), matrix)\n",
    "    num_components, labels = submatrix.get_num_components_and_labels()\n",
    "\n",
    "\n",
    "    ### POPULATE COMPONENT DICTIONARY ###\n",
    "    component_dictionary = dict() # protein : component_num\n",
    "    j = 0\n",
    "    for array in [(np.array(submatrix.get_list_of_proteins())[np.nonzero(labels == i)]) for i in range(num_components)]:\n",
    "        for protein in array:\n",
    "            component_dictionary[protein] = j\n",
    "        j += 1\n",
    "    \n",
    "    ## FIND CONNECTED PROTEINS AND DETERMINE IF THEY QUALIFY ###\n",
    "    qualifying_proteins = list()\n",
    "\n",
    "    for protein in (degreelist.get_list_of_proteins_sorted_by_degree()):   \n",
    "        degree = matrix.find_degree(protein)\n",
    "\n",
    "        if (degree >= min_components_that_protein_connects) and (degree <= max_degree):\n",
    "            num_edges, which_proteins = degreelist.determine_num_edges_to_cluster(protein, clusters.get_cluster_proteins(cluster_num), also_return_which_proteins=True)\n",
    "                \n",
    "            if (num_edges >= min_components_that_protein_connects):\n",
    "                set_of_components_that_protein_connects = degreelist.which_components_of_a_cluster_would_a_protein_connect(protein, clusters.get_cluster_proteins(cluster_num), component_dictionary, connected_proteins_within_cluster=which_proteins)\n",
    "\n",
    "                if len(set_of_components_that_protein_connects) >= min_components_that_protein_connects:\n",
    "                    qualifying_proteins.append(protein)\n",
    "\n",
    "    return qualifying_proteins\n"
   ]
  },
  {
   "cell_type": "code",
   "execution_count": null,
   "metadata": {},
   "outputs": [],
   "source": []
  },
  {
   "cell_type": "code",
   "execution_count": null,
   "metadata": {},
   "outputs": [],
   "source": []
  },
  {
   "cell_type": "code",
   "execution_count": null,
   "metadata": {},
   "outputs": [],
   "source": []
  },
  {
   "cell_type": "code",
   "execution_count": 35,
   "metadata": {},
   "outputs": [
    {
     "name": "stdout",
     "output_type": "stream",
     "text": [
      "adding cluster 7\n",
      "adding cluster 25\n",
      "adding cluster 29\n",
      "adding cluster 30\n",
      "adding cluster 36\n",
      "adding cluster 49\n",
      "adding cluster 61\n",
      "adding cluster 73\n",
      "adding cluster 75\n",
      "adding cluster 86\n",
      "adding cluster 99\n",
      "adding cluster 110\n",
      "adding cluster 121\n",
      "adding cluster 132\n",
      "adding cluster 150\n",
      "adding cluster 151\n",
      "adding cluster 152\n",
      "adding cluster 161\n",
      "adding cluster 164\n",
      "adding cluster 174\n",
      "adding cluster 185\n",
      "adding cluster 189\n",
      "adding cluster 194\n",
      "adding cluster 195\n"
     ]
    },
    {
     "data": {
      "text/plain": [
       "([7,\n",
       "  25,\n",
       "  29,\n",
       "  30,\n",
       "  36,\n",
       "  49,\n",
       "  61,\n",
       "  73,\n",
       "  75,\n",
       "  86,\n",
       "  99,\n",
       "  110,\n",
       "  121,\n",
       "  132,\n",
       "  150,\n",
       "  151,\n",
       "  152,\n",
       "  161,\n",
       "  164,\n",
       "  174,\n",
       "  185,\n",
       "  189,\n",
       "  194,\n",
       "  195],\n",
       " {})"
      ]
     },
     "execution_count": 35,
     "metadata": {},
     "output_type": "execute_result"
    }
   ],
   "source": [
    "find_clusters_and_proteins_together(matrix, clusters, degreelist, cluster_ratio=.95) ### -> PASS! does the same as the original fxn"
   ]
  },
  {
   "cell_type": "code",
   "execution_count": 36,
   "metadata": {},
   "outputs": [
    {
     "data": {
      "text/plain": [
       "[7,\n",
       " 25,\n",
       " 29,\n",
       " 30,\n",
       " 36,\n",
       " 49,\n",
       " 61,\n",
       " 73,\n",
       " 75,\n",
       " 86,\n",
       " 99,\n",
       " 110,\n",
       " 121,\n",
       " 132,\n",
       " 150,\n",
       " 151,\n",
       " 152,\n",
       " 161,\n",
       " 164,\n",
       " 174,\n",
       " 185,\n",
       " 189,\n",
       " 194,\n",
       " 195]"
      ]
     },
     "execution_count": 36,
     "metadata": {},
     "output_type": "execute_result"
    }
   ],
   "source": [
    "find_clusters_that_match_criteria(matrix, clusters, degreelist, ratio=.95)"
   ]
  },
  {
   "cell_type": "code",
   "execution_count": 37,
   "metadata": {},
   "outputs": [
    {
     "ename": "NameError",
     "evalue": "name 'testing_matrix' is not defined",
     "output_type": "error",
     "traceback": [
      "\u001b[0;31m---------------------------------------------------------------------------\u001b[0m",
      "\u001b[0;31mNameError\u001b[0m                                 Traceback (most recent call last)",
      "\u001b[1;32m/Users/charlotte/Desktop/Desktop/diamonds/ClusteringWithDSD/src/connected_components_notebook.ipynb Cell 17'\u001b[0m in \u001b[0;36m<cell line: 1>\u001b[0;34m()\u001b[0m\n\u001b[0;32m----> <a href='vscode-notebook-cell:/Users/charlotte/Desktop/Desktop/diamonds/ClusteringWithDSD/src/connected_components_notebook.ipynb#ch0000063?line=0'>1</a>\u001b[0m find_clusters_and_proteins_together(testing_matrix, testing_clusters, testing_degreelist, cluster_ratio\u001b[39m=\u001b[39m\u001b[39m1.1\u001b[39m)\n",
      "\u001b[0;31mNameError\u001b[0m: name 'testing_matrix' is not defined"
     ]
    }
   ],
   "source": [
    "find_clusters_and_proteins_together(testing_matrix, testing_clusters, testing_degreelist, cluster_ratio=1.1)"
   ]
  },
  {
   "cell_type": "code",
   "execution_count": 75,
   "metadata": {},
   "outputs": [],
   "source": [
    "def find_clusters_and_proteins_together(matrix: ProteinMatrix, clusters: AllClusters, degreelist: DegreeList, cluster_ratio: float = .5, cluster_constant: int = 0, protein_ratio: float = .5, protein_constant: int = 0, min_components_that_protein_connects: int = -1, max_degree: int = 500) -> list() and dict():\n",
    "    \"\"\"\n",
    "    function is a version of find_clusters_that_match_criteria, that, once it finds the cluster, finds corresponding proteins at the same time so that the submatrix doesn't need to be reconstructed\n",
    "\n",
    "    Parameters: \n",
    "        matrix - a ProteinMatrix of all protein interactions\n",
    "        clusters - an AllClusters containing proteins grouped into clusters\n",
    "        cluster_ratio and cluster_constant - used together to determine which clusters qualify, with the output of the function being cluster_ratio * input + cluster_constant\n",
    "        TODO: remaining parameters\n",
    "    Purpose:    determines clusters that are mostly highly connected, then \n",
    "                determines which proteins that, when added to the cluster, will \n",
    "                increase it's connectedness\n",
    "    Returns:    a list containing the numbers of the clusters that qualify, and \n",
    "                a dictionary linking each cluster, to a list of the qualifying \n",
    "                proteins\n",
    "    \"\"\"\n",
    "    \n",
    "    cluster_nums_that_qualify = list()\n",
    "    qualifying_proteins_dict = dict()\n",
    "\n",
    "    for cluster_num in clusters.get_all_clusters():\n",
    "        # create a submatrix out of the proteins in the cluster\n",
    "        submatrix = SubMatrix(clusters.get_cluster_proteins(cluster_num), matrix)\n",
    "        num_components, labels = submatrix.get_num_components_and_labels()\n",
    "        # print(f\"num components is {num_components}. num proteins is {len(submatrix.get_list_of_proteins())}\")\n",
    "        if num_components < cluster_ratio * len(submatrix.get_list_of_proteins()) + cluster_constant:\n",
    "\n",
    "            # add cluster to list showing that it qualifies, \n",
    "            cluster_nums_that_qualify.append(cluster_num)\n",
    "            # then do analysis on the cluster\n",
    "            qualifying_proteins_dict[cluster_num] = qualifying_proteins_using_submatrix(cluster_num, submatrix, clusters, degreelist, ratio=protein_ratio, constant=protein_constant, min_components_that_protein_connects=min_components_that_protein_connects, max_degree=max_degree)\n",
    "\n",
    "\n",
    "    return cluster_nums_that_qualify, qualifying_proteins_dict\n"
   ]
  },
  {
   "cell_type": "code",
   "execution_count": 52,
   "metadata": {},
   "outputs": [
    {
     "name": "stdout",
     "output_type": "stream",
     "text": [
      "adding cluster 25\n",
      "adding cluster 152\n",
      "adding cluster 161\n",
      "adding cluster 185\n"
     ]
    },
    {
     "data": {
      "text/plain": [
       "([25, 152, 161, 185],\n",
       " {25: ['AKT1', 'SRC'],\n",
       "  152: ['PPM1A',\n",
       "   'PPP2CA',\n",
       "   'CDK2',\n",
       "   'GSK3B',\n",
       "   'MAPK3',\n",
       "   'CSNK2A1',\n",
       "   'PRKACA',\n",
       "   'SRC'],\n",
       "  161: ['SNCA',\n",
       "   'LRP6',\n",
       "   'RPS6KA1',\n",
       "   'NFE2L2',\n",
       "   'ESR1',\n",
       "   'GRB2',\n",
       "   'PLK1',\n",
       "   'STAT3',\n",
       "   'MAPK8',\n",
       "   'ABL1',\n",
       "   'MAPK14',\n",
       "   'GSK3B',\n",
       "   'TP53',\n",
       "   'AKT1',\n",
       "   'CSNK2A1',\n",
       "   'CDK1',\n",
       "   'PRKCA'],\n",
       "  185: ['TSC1', 'IKBKB']})"
      ]
     },
     "execution_count": 52,
     "metadata": {},
     "output_type": "execute_result"
    }
   ],
   "source": [
    "find_clusters_and_proteins_together(matrix, clusters, degreelist, cluster_ratio=.90, min_components_that_protein_connects=3)"
   ]
  },
  {
   "cell_type": "code",
   "execution_count": 73,
   "metadata": {},
   "outputs": [
    {
     "name": "stdout",
     "output_type": "stream",
     "text": [
      "adding cluster 7\n",
      "adding cluster 25\n",
      "adding cluster 29\n",
      "adding cluster 30\n",
      "adding cluster 36\n",
      "adding cluster 49\n",
      "adding cluster 61\n",
      "adding cluster 73\n",
      "adding cluster 75\n",
      "adding cluster 86\n",
      "adding cluster 99\n",
      "adding cluster 110\n",
      "adding cluster 121\n",
      "adding cluster 132\n",
      "adding cluster 150\n",
      "adding cluster 151\n",
      "adding cluster 152\n",
      "adding cluster 161\n",
      "adding cluster 164\n",
      "adding cluster 174\n",
      "adding cluster 185\n",
      "adding cluster 189\n",
      "adding cluster 194\n",
      "adding cluster 195\n"
     ]
    },
    {
     "data": {
      "text/plain": [
       "([7,\n",
       "  25,\n",
       "  29,\n",
       "  30,\n",
       "  36,\n",
       "  49,\n",
       "  61,\n",
       "  73,\n",
       "  75,\n",
       "  86,\n",
       "  99,\n",
       "  110,\n",
       "  121,\n",
       "  132,\n",
       "  150,\n",
       "  151,\n",
       "  152,\n",
       "  161,\n",
       "  164,\n",
       "  174,\n",
       "  185,\n",
       "  189,\n",
       "  194,\n",
       "  195],\n",
       " {7: ['CSNK2A1', 'MAPK1', 'SRC'],\n",
       "  25: ['AKT1', 'SRC'],\n",
       "  29: ['CDK1', 'PRKACA'],\n",
       "  30: [],\n",
       "  36: [],\n",
       "  49: ['EGFR', 'MAPK1', 'SRC'],\n",
       "  61: ['GSK3B'],\n",
       "  73: ['TP53', 'MAPK1', 'PRKCA', 'SRC'],\n",
       "  75: [],\n",
       "  86: [],\n",
       "  99: [],\n",
       "  110: ['PRKACA', 'SRC'],\n",
       "  121: [],\n",
       "  132: ['TP53', 'CDK1'],\n",
       "  150: [],\n",
       "  151: ['CSNK2A1', 'CDK1', 'PRKACA', 'SRC'],\n",
       "  152: ['CSNK2A1', 'PRKACA'],\n",
       "  161: ['CSNK2A1'],\n",
       "  164: ['BCL2', 'MAPK8', 'MAPK1'],\n",
       "  174: [],\n",
       "  185: ['TSC1', 'IKBKB'],\n",
       "  189: ['AKT1', 'SRC'],\n",
       "  194: ['PRKCA', 'SRC'],\n",
       "  195: []})"
      ]
     },
     "execution_count": 73,
     "metadata": {},
     "output_type": "execute_result"
    }
   ],
   "source": [
    "find_clusters_and_proteins_together(matrix, clusters, degreelist, cluster_ratio=.95, protein_ratio=.05, protein_constant=2)"
   ]
  },
  {
   "cell_type": "code",
   "execution_count": null,
   "metadata": {},
   "outputs": [],
   "source": []
  },
  {
   "cell_type": "code",
   "execution_count": 54,
   "metadata": {},
   "outputs": [
    {
     "name": "stdout",
     "output_type": "stream",
     "text": [
      "adding cluster 25\n",
      "adding cluster 152\n",
      "adding cluster 161\n",
      "adding cluster 185\n"
     ]
    },
    {
     "data": {
      "text/plain": [
       "([25, 152, 161, 185], {25: [], 152: [], 161: [], 185: []})"
      ]
     },
     "execution_count": 54,
     "metadata": {},
     "output_type": "execute_result"
    }
   ],
   "source": [
    "find_clusters_and_proteins_together(matrix, clusters, degreelist, cluster_ratio=.90, protein_ratio=.2, protein_constant=3)"
   ]
  },
  {
   "cell_type": "code",
   "execution_count": 62,
   "metadata": {},
   "outputs": [
    {
     "data": {
      "text/plain": [
       "['AKT1', 'SRC']"
      ]
     },
     "execution_count": 62,
     "metadata": {},
     "output_type": "execute_result"
    }
   ],
   "source": [
    "find_proteins_that_match_criteria(25, matrix, clusters, degreelist, ratio=.05, constant=2)"
   ]
  },
  {
   "cell_type": "code",
   "execution_count": 63,
   "metadata": {},
   "outputs": [
    {
     "data": {
      "text/plain": [
       "['CDK1', 'PRKACA']"
      ]
     },
     "execution_count": 63,
     "metadata": {},
     "output_type": "execute_result"
    }
   ],
   "source": [
    "find_proteins_that_match_criteria(29, matrix, clusters, degreelist, ratio=.05, constant=2)"
   ]
  },
  {
   "cell_type": "code",
   "execution_count": 67,
   "metadata": {},
   "outputs": [
    {
     "data": {
      "text/plain": [
       "['TP53']"
      ]
     },
     "execution_count": 67,
     "metadata": {},
     "output_type": "execute_result"
    }
   ],
   "source": [
    "find_proteins_that_match_criteria(30, matrix, clusters, degreelist, ratio=.01, constant=2)"
   ]
  },
  {
   "cell_type": "code",
   "execution_count": 71,
   "metadata": {},
   "outputs": [
    {
     "data": {
      "text/plain": [
       "['EGFR', 'MAPK1', 'SRC']"
      ]
     },
     "execution_count": 71,
     "metadata": {},
     "output_type": "execute_result"
    }
   ],
   "source": [
    "find_proteins_that_match_criteria(49, matrix, clusters, degreelist, ratio=.05, constant=2)"
   ]
  },
  {
   "cell_type": "code",
   "execution_count": null,
   "metadata": {},
   "outputs": [],
   "source": []
  },
  {
   "cell_type": "code",
   "execution_count": 76,
   "metadata": {},
   "outputs": [
    {
     "data": {
      "text/plain": [
       "([7,\n",
       "  25,\n",
       "  29,\n",
       "  30,\n",
       "  36,\n",
       "  49,\n",
       "  61,\n",
       "  73,\n",
       "  75,\n",
       "  86,\n",
       "  99,\n",
       "  110,\n",
       "  121,\n",
       "  132,\n",
       "  150,\n",
       "  151,\n",
       "  152,\n",
       "  161,\n",
       "  164,\n",
       "  174,\n",
       "  185,\n",
       "  189,\n",
       "  194,\n",
       "  195],\n",
       " {7: ['CSNK2A1', 'MAPK1', 'SRC'],\n",
       "  25: ['AKT1', 'SRC'],\n",
       "  29: ['CDK1', 'PRKACA'],\n",
       "  30: [],\n",
       "  36: [],\n",
       "  49: ['EGFR', 'MAPK1', 'SRC'],\n",
       "  61: ['GSK3B'],\n",
       "  73: ['TP53', 'MAPK1', 'PRKCA', 'SRC'],\n",
       "  75: [],\n",
       "  86: [],\n",
       "  99: [],\n",
       "  110: ['PRKACA', 'SRC'],\n",
       "  121: [],\n",
       "  132: ['TP53', 'CDK1'],\n",
       "  150: [],\n",
       "  151: ['CSNK2A1', 'CDK1', 'PRKACA', 'SRC'],\n",
       "  152: ['CSNK2A1', 'PRKACA'],\n",
       "  161: ['CSNK2A1'],\n",
       "  164: ['BCL2', 'MAPK8', 'MAPK1'],\n",
       "  174: [],\n",
       "  185: ['TSC1', 'IKBKB'],\n",
       "  189: ['AKT1', 'SRC'],\n",
       "  194: ['PRKCA', 'SRC'],\n",
       "  195: []})"
      ]
     },
     "execution_count": 76,
     "metadata": {},
     "output_type": "execute_result"
    }
   ],
   "source": [
    "find_clusters_and_proteins_together(matrix, clusters, degreelist, cluster_ratio=.95, protein_ratio=.05, protein_constant=2)"
   ]
  }
 ],
 "metadata": {
  "kernelspec": {
   "display_name": "Python 3.10.4 ('diamonds')",
   "language": "python",
   "name": "python3"
  },
  "language_info": {
   "codemirror_mode": {
    "name": "ipython",
    "version": 3
   },
   "file_extension": ".py",
   "mimetype": "text/x-python",
   "name": "python",
   "nbconvert_exporter": "python",
   "pygments_lexer": "ipython3",
   "version": "3.10.4"
  },
  "orig_nbformat": 4,
  "vscode": {
   "interpreter": {
    "hash": "e113e58b579a48e5732235004b32d872074e11125058c2d5e4f294336344a2ee"
   }
  }
 },
 "nbformat": 4,
 "nbformat_minor": 2
}
