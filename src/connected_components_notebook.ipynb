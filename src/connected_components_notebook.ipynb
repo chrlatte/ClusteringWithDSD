{
 "cells": [
  {
   "cell_type": "code",
   "execution_count": 1,
   "metadata": {},
   "outputs": [],
   "source": [
    "\n",
    "from matrix_class import *\n",
    "from cluster_class import *\n",
    "from degreelist_class import *"
   ]
  },
  {
   "cell_type": "code",
   "execution_count": 11,
   "metadata": {},
   "outputs": [],
   "source": [
    "actual_matrix_file = \"../data/networks/DREAM_files/dream_2.txt\"\n",
    "smaller_cluster_file = \"../data/testing_data/moderately_connected_clusters.txt\""
   ]
  },
  {
   "cell_type": "code",
   "execution_count": 13,
   "metadata": {},
   "outputs": [],
   "source": [
    "matrix = ProteinMatrix(actual_matrix_file)\n"
   ]
  },
  {
   "cell_type": "code",
   "execution_count": 14,
   "metadata": {},
   "outputs": [],
   "source": [
    "clusters = ProteinClusters(smaller_cluster_file)"
   ]
  },
  {
   "cell_type": "code",
   "execution_count": 15,
   "metadata": {},
   "outputs": [
    {
     "name": "stdout",
     "output_type": "stream",
     "text": [
      "Clusters:\n",
      "ProteinClusters has 4 clusters (use the print_all method to see them)\n",
      "Cluster 0 has 16 proteins: ['STXBP5', 'CHRNB3', 'LYPD1', 'CHRNB1', 'CHRND', 'CHRNB2', 'CHRNA9', 'CHRNA3', 'CHRNA5', 'CHRNA7', 'CHRNB4', 'CHRNA4', 'CHRNA6', 'CHRNE', 'CHRNA2', 'CHRNG']\n",
      "Cluster 1 has 6 proteins: ['SPEM1', 'PIK3IP1', 'NBL1', 'TMCO6', 'SMIM2', 'UBQLN1']\n",
      "Cluster 2 has 36 proteins: ['ANGPTL4', 'MED15', 'MED11', 'MED13', 'MED16', 'MED13L', 'MED12', 'MED25', 'ADIPOQ', 'PCK1', 'MED29', 'MED10', 'MED28', 'MED21', 'MED18', 'MED6', 'PPARGC1B', 'FABP4', 'MED30', 'MED17', 'MED9', 'MED7', 'MED23', 'PLIN1', 'EBF1', 'MED19', 'MED4', 'RBM14-RBM4', 'MED12L', 'CD36', 'MED20', 'MED22', 'MED8', 'MED31', 'MED27', 'MED24']\n",
      "Cluster 3 has 12 proteins: ['SEMA3A', 'NRP1', 'CDK5R1', 'PLVAP', 'PLXNA4', 'PLXNA1', 'KIAA1199', 'NRP2', 'PLXNA2', 'ATRAID', 'FES', 'FARP2']\n"
     ]
    }
   ],
   "source": [
    "print(f\"Clusters:\\n{clusters}\")\n",
    "clusters.print_all()"
   ]
  },
  {
   "cell_type": "code",
   "execution_count": 16,
   "metadata": {},
   "outputs": [],
   "source": [
    "submatrix = SubMatrix(clusters.get_cluster_proteins(0), matrix)"
   ]
  },
  {
   "cell_type": "code",
   "execution_count": 17,
   "metadata": {},
   "outputs": [
    {
     "data": {
      "text/plain": [
       "['STXBP5',\n",
       " 'CHRNB3',\n",
       " 'LYPD1',\n",
       " 'CHRNB1',\n",
       " 'CHRND',\n",
       " 'CHRNB2',\n",
       " 'CHRNA9',\n",
       " 'CHRNA3',\n",
       " 'CHRNA5',\n",
       " 'CHRNA7',\n",
       " 'CHRNB4',\n",
       " 'CHRNA4',\n",
       " 'CHRNA6',\n",
       " 'CHRNE',\n",
       " 'CHRNA2',\n",
       " 'CHRNG']"
      ]
     },
     "execution_count": 17,
     "metadata": {},
     "output_type": "execute_result"
    }
   ],
   "source": [
    "clusters.get_cluster_proteins(0)"
   ]
  },
  {
   "cell_type": "code",
   "execution_count": 19,
   "metadata": {},
   "outputs": [
    {
     "name": "stdout",
     "output_type": "stream",
     "text": [
      "['STXBP5', 'CHRNB3', 'LYPD1', 'CHRNB1', 'CHRND', 'CHRNB2', 'CHRNA9', 'CHRNA3', 'CHRNA5', 'CHRNA7', 'CHRNB4', 'CHRNA4', 'CHRNA6', 'CHRNE', 'CHRNA2', 'CHRNG']\n",
      "['SPEM1', 'PIK3IP1', 'NBL1', 'TMCO6', 'SMIM2', 'UBQLN1']\n",
      "['ANGPTL4', 'MED15', 'MED11', 'MED13', 'MED16', 'MED13L', 'MED12', 'MED25', 'ADIPOQ', 'PCK1', 'MED29', 'MED10', 'MED28', 'MED21', 'MED18', 'MED6', 'PPARGC1B', 'FABP4', 'MED30', 'MED17', 'MED9', 'MED7', 'MED23', 'PLIN1', 'EBF1', 'MED19', 'MED4', 'RBM14-RBM4', 'MED12L', 'CD36', 'MED20', 'MED22', 'MED8', 'MED31', 'MED27', 'MED24']\n",
      "['SEMA3A', 'NRP1', 'CDK5R1', 'PLVAP', 'PLXNA4', 'PLXNA1', 'KIAA1199', 'NRP2', 'PLXNA2', 'ATRAID', 'FES', 'FARP2']\n"
     ]
    }
   ],
   "source": [
    "for i in range(clusters.get_num_clusters()): # clusters.get_num_clusters()\n",
    "        print(clusters.get_cluster_proteins(i))\n"
   ]
  },
  {
   "cell_type": "code",
   "execution_count": 20,
   "metadata": {},
   "outputs": [
    {
     "name": "stdout",
     "output_type": "stream",
     "text": [
      "Cluster 0 has 11 components with labels [ 0  0  0  0  1  2  3  4  0  5  0  6  7  8  9 10]\n",
      "Cluster 1 has 4 components with labels [0 1 2 3 0 0]\n",
      "Cluster 2 has 9 components with labels [0 1 2 3 4 3 3 3 3 3 3 3 3 3 3 3 3 3 3 3 3 3 3 3 3 3 3 3 3 3 3 3 5 6 7 8]\n",
      "Cluster 3 has 7 components with labels [0 1 2 3 4 3 3 5 3 4 6 3]\n"
     ]
    }
   ],
   "source": [
    "for i in range(clusters.get_num_clusters()): # clusters.get_num_clusters()\n",
    "\n",
    "        submatrix = SubMatrix(clusters.get_cluster_proteins(i), matrix)\n",
    "        # print(submatrix.get_matrix())\n",
    "        n, labels = submatrix.get_num_components_and_labels()\n",
    "        print(f\"Cluster {i} has {n} components with labels {labels}\")\n"
   ]
  },
  {
   "cell_type": "code",
   "execution_count": null,
   "metadata": {},
   "outputs": [],
   "source": [
    "# N_components, component_list = connected_components(graph)\n",
    "\n",
    "# [np.sum(component_list == i) for i in range(N_components)]\n",
    "# [571, 1, 1, 1, 2, 1, 1, 1, 1, 1, 1, 1, 1, 1, 1]    # may vary\n",
    "\n",
    "#[list(word_list[np.nonzero(component_list == i)]) for i in range(N_components)]\n",
    "# [['aha'],    # may vary\n",
    "#  ['chi'],]"
   ]
  },
  {
   "cell_type": "code",
   "execution_count": 24,
   "metadata": {},
   "outputs": [
    {
     "name": "stdout",
     "output_type": "stream",
     "text": [
      "Cluster 3 has 11 components with labels [ 0  0  0  0  1  2  3  4  0  5  0  6  7  8  9 10]\n"
     ]
    }
   ],
   "source": [
    "submatrix0 = SubMatrix(clusters.get_cluster_proteins(0), matrix)\n",
    "num_components, labels = submatrix0.get_num_components_and_labels()\n",
    "print(f\"Cluster {i} has {n} components with labels {labels}\")\n"
   ]
  },
  {
   "cell_type": "code",
   "execution_count": 25,
   "metadata": {},
   "outputs": [
    {
     "data": {
      "text/plain": [
       "[6, 1, 1, 1, 1, 1, 1, 1, 1, 1, 1]"
      ]
     },
     "execution_count": 25,
     "metadata": {},
     "output_type": "execute_result"
    }
   ],
   "source": [
    "# THIS PIECE OF CODE OUTPUTS THE NUMBER OF PROTEINS IN EACH CONNECTED COMPONENT\n",
    "[np.sum(labels == i) for i in range(num_components)]"
   ]
  },
  {
   "cell_type": "code",
   "execution_count": null,
   "metadata": {},
   "outputs": [],
   "source": [
    "# this piece of code outputs the names of proteins in each connected component\n",
    "# [list(word_list[np.nonzero(labels == i)]) for i in range(num_components)]"
   ]
  },
  {
   "cell_type": "code",
   "execution_count": null,
   "metadata": {},
   "outputs": [],
   "source": [
    "submatrix1 = SubMatrix(clusters.get_cluster_proteins(1), matrix)\n",
    "num_components, labels = submatrix1.get_num_components_and_labels()\n",
    "print(f\"Cluster 1 has {n} components with labels {labels}\")"
   ]
  },
  {
   "cell_type": "code",
   "execution_count": null,
   "metadata": {},
   "outputs": [],
   "source": []
  },
  {
   "cell_type": "code",
   "execution_count": null,
   "metadata": {},
   "outputs": [],
   "source": []
  },
  {
   "cell_type": "code",
   "execution_count": null,
   "metadata": {},
   "outputs": [],
   "source": []
  },
  {
   "cell_type": "code",
   "execution_count": null,
   "metadata": {},
   "outputs": [],
   "source": []
  }
 ],
 "metadata": {
  "kernelspec": {
   "display_name": "Python 3.10.4 ('diamonds')",
   "language": "python",
   "name": "python3"
  },
  "language_info": {
   "codemirror_mode": {
    "name": "ipython",
    "version": 3
   },
   "file_extension": ".py",
   "mimetype": "text/x-python",
   "name": "python",
   "nbconvert_exporter": "python",
   "pygments_lexer": "ipython3",
   "version": "3.10.4"
  },
  "orig_nbformat": 4,
  "vscode": {
   "interpreter": {
    "hash": "e113e58b579a48e5732235004b32d872074e11125058c2d5e4f294336344a2ee"
   }
  }
 },
 "nbformat": 4,
 "nbformat_minor": 2
}
