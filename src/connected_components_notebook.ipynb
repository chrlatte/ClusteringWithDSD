{
 "cells": [
  {
   "cell_type": "code",
<<<<<<< HEAD
   "execution_count": 31,
=======
   "execution_count": 27,
>>>>>>> reworked_clusters
   "metadata": {},
   "outputs": [],
   "source": [
    "\n",
    "from matrix_class import *\n",
    "from cluster_class import *\n",
    "from degreelist_class import *\n",
    "import json "
   ]
  },
  {
   "cell_type": "code",
<<<<<<< HEAD
   "execution_count": 32,
   "metadata": {},
   "outputs": [],
   "source": [
    "actual_matrix_file = \"../data/networks/DREAM_files/dream_3.txt\"\n",
    "cluster_file = \"../data/testing_data/3344522.7320912.1_ppi_anonym_v2.txt\""
=======
   "execution_count": 2,
   "metadata": {},
   "outputs": [],
   "source": [
    "testing_matrix_file = \"../data/testing_data/fake_cluster_dream.txt\"\n",
    "testing_cluster_file = \"../data/testing_data/fake_cluster.txt\"\n",
    "\n",
    "dream3_matrix_file = \"../data/networks/DREAM_files/dream_3.txt\"\n",
    "dream3_cluster_file = \"../data/results/DREAM-3-cc/d3_5_100.json-cluster.json\" \n",
    "\n",
    "dream3_clusters_dict = {}\n",
    "# convert actual cluster file to a dictionary!!\n",
    "with open(dream3_cluster_file,\"r\") as cluster_dict_file:\n",
    "    dream3_clusters_dict = json.load(cluster_dict_file)"
>>>>>>> reworked_clusters
   ]
  },
  {
   "cell_type": "code",
<<<<<<< HEAD
   "execution_count": 33,
   "metadata": {},
   "outputs": [],
   "source": [
    "matrix = ProteinMatrix(actual_matrix_file)"
=======
   "execution_count": 3,
   "metadata": {},
   "outputs": [],
   "source": [
    "testing_matrix = ProteinMatrix(testing_matrix_file)\n",
    "testing_clusters = AllClusters(testing_cluster_file)\n",
    "testing_degreelist = DegreeList(testing_matrix)"
>>>>>>> reworked_clusters
   ]
  },
  {
   "cell_type": "code",
<<<<<<< HEAD
   "execution_count": 34,
   "metadata": {},
   "outputs": [],
   "source": [
    "clusters = AllClusters(cluster_file)"
=======
   "execution_count": 4,
   "metadata": {},
   "outputs": [],
   "source": [
    "clusters = AllClusters(protein_to_cluster_dict=dream3_clusters_dict)\n",
    "matrix = ProteinMatrix(dream3_matrix_file)\n",
    "degreelist = DegreeList(matrix)"
>>>>>>> reworked_clusters
   ]
  },
  {
   "cell_type": "code",
<<<<<<< HEAD
   "execution_count": 35,
   "metadata": {},
   "outputs": [],
   "source": [
    "degreelist = DegreeList(matrix)"
   ]
  },
  {
   "cell_type": "code",
   "execution_count": 36,
   "metadata": {},
   "outputs": [
    {
     "name": "stdout",
     "output_type": "stream",
     "text": [
      "Clusters:\n",
      "AllClusters has 1024 clusters (use the print_all method to see them)\n"
     ]
    }
   ],
   "source": [
    "print(f\"Clusters:\\n{clusters}\")"
   ]
  },
  {
   "cell_type": "markdown",
   "metadata": {},
   "source": [
    "#### function to identify clusters that are connected enough"
   ]
  },
  {
   "cell_type": "code",
   "execution_count": 37,
   "metadata": {},
   "outputs": [
    {
     "name": "stdout",
     "output_type": "stream",
     "text": [
      "[12, 17, 25, 31, 35, 37, 40, 44, 47, 49, 73, 98, 114, 115, 122, 123, 125, 126, 131, 139, 151, 156, 161, 171, 189, 195, 202, 206, 212, 215, 226, 233, 235, 239, 242, 247, 253, 257, 258, 269, 272, 273, 297, 306, 325, 333, 338, 360, 371, 372, 382, 392, 401, 403, 405, 409, 411, 418, 419, 420, 432, 433, 443, 448, 454, 461, 464, 468, 479, 493, 495, 500, 507, 516, 533, 534, 539, 540, 551, 554, 557, 558, 562, 571, 573, 575, 578, 589, 595, 596, 598, 602, 605, 606, 608, 614, 615, 616, 617, 619, 624, 627, 632, 633, 638, 640, 649, 650, 661, 666, 673, 674, 681, 688, 689, 695, 698, 700, 704, 711, 712, 717, 723, 728, 735, 738, 740, 741, 745, 750, 757, 764, 770, 774, 775, 776, 779, 780, 781, 788, 795, 803, 804, 805, 807, 815, 818, 822, 823, 829, 832, 837, 839, 848, 849, 860, 864, 873, 878, 880, 881, 883, 894, 895, 900, 904, 912, 915, 920, 927, 935, 937, 945, 946, 949, 950, 951, 955, 957, 958, 959, 962, 971, 974, 977, 978, 983, 988, 992, 993, 995, 999, 1005, 1011, 1013]\n"
     ]
    }
   ],
   "source": [
    "def find_clusters_that_match_criteria(matrix: ProteinMatrix, clusters: AllClusters, degreelist: DegreeList, ratio: float = .5, constant: int = 0) -> list():\n",
    "    cluster_nums_that_qualify = list()\n",
    "\n",
    "    for key in clusters.get_all_clusters():\n",
    "        # create a submatrix out of the proteins in the cluster\n",
    "        submatrix = SubMatrix(clusters.get_cluster_proteins(key), matrix)\n",
    "        num_components, labels = submatrix.get_num_components_and_labels()\n",
    "        # print(f\"num components is {num_components}. num proteins is {len(submatrix.get_list_of_proteins())}\")\n",
    "        if num_components < ratio * len(submatrix.get_list_of_proteins()) + constant:\n",
    "            # print('success')\n",
    "            cluster_nums_that_qualify.append(key)\n",
    "\n",
    "    return cluster_nums_that_qualify\n",
    "\n",
    "\n",
    "result = find_clusters_that_match_criteria(matrix, clusters, degreelist, ratio=1)\n",
    "print(result)"
   ]
  },
  {
   "cell_type": "code",
   "execution_count": null,
   "metadata": {},
   "outputs": [],
   "source": []
  },
  {
   "cell_type": "markdown",
   "metadata": {},
   "source": [
    "#### now, going to make a function that takes in a cluster, and determines proteins that would connect an appropriate number of components"
=======
   "execution_count": 5,
   "metadata": {},
   "outputs": [],
   "source": [
    "def find_clusters_and_proteins_together(matrix: ProteinMatrix, clusters: AllClusters, degreelist: DegreeList, cluster_ratio: float = .5, cluster_constant: int = 0, protein_ratio: float = .5, protein_constant: int = 0, min_components_that_protein_connects: int = -1, max_degree: int = 500) -> list() and dict():\n",
    "    \"\"\"\n",
    "    function is a version of find_clusters_that_match_criteria, that, once it finds the cluster, finds corresponding proteins at the same time so that the submatrix doesn't need to be reconstructed\n",
    "\n",
    "    Parameters: \n",
    "        matrix - a ProteinMatrix of all protein interactions\n",
    "        clusters - an AllClusters containing proteins grouped into clusters\n",
    "        cluster_ratio and cluster_constant - used together to determine which clusters qualify, with the output of the function being cluster_ratio * input + cluster_constant\n",
    "        TODO: remaining parameters\n",
    "    Purpose:    determines clusters that are mostly highly connected, then \n",
    "                determines which proteins that, when added to the cluster, will \n",
    "                increase it's connectedness\n",
    "    Returns:    a list containing the numbers of the clusters that qualify, and \n",
    "                a dictionary linking each cluster, to a list of the qualifying \n",
    "                proteins\n",
    "    \"\"\"\n",
    "    \n",
    "    cluster_nums_that_qualify = list()\n",
    "    qualifying_proteins_dict = dict()\n",
    "\n",
    "    for cluster_num in clusters.get_all_clusters():\n",
    "        # create a submatrix out of the proteins in the cluster\n",
    "        submatrix = SubMatrix(clusters.get_cluster_proteins(cluster_num), matrix)\n",
    "        num_components, labels = submatrix.get_num_components_and_labels()\n",
    "        # print(f\"num components is {num_components}. num proteins is {len(submatrix.get_list_of_proteins())}\")\n",
    "        if num_components < cluster_ratio * len(submatrix.get_list_of_proteins()) + cluster_constant:\n",
    "\n",
    "            # add cluster to list showing that it qualifies, \n",
    "            cluster_nums_that_qualify.append(cluster_num)\n",
    "            # then do analysis on the cluster\n",
    "            qualifying_proteins_dict[cluster_num] = qualifying_proteins_using_submatrix(cluster_num, submatrix, clusters, degreelist, ratio=protein_ratio, constant=protein_constant, min_components_that_protein_connects=min_components_that_protein_connects, max_degree=max_degree)\n",
    "\n",
    "\n",
    "    return cluster_nums_that_qualify, qualifying_proteins_dict\n",
    "\n",
    "\n",
    "def qualifying_proteins_using_submatrix(cluster_num: int, submatrix: SubMatrix, clusters: AllClusters, degreelist: DegreeList, ratio: float = .5, constant: int = 0, min_components_that_protein_connects: int = -1, max_degree: int = 500) -> list():\n",
    "    \"\"\"\n",
    "    TODO : a revised version of the find_proteins_that_match_criteria function that takes in a submatrix as a parameter, and therefore doesn't need to construct one. \n",
    "    \"\"\"\n",
    "    if (min_components_that_protein_connects == -1):\n",
    "            min_components_that_protein_connects = constant + ratio * len(clusters.get_cluster_proteins(cluster_num))\n",
    "        \n",
    "    num_components, labels = submatrix.get_num_components_and_labels()\n",
    "\n",
    "    ### POPULATE COMPONENT DICTIONARY ###\n",
    "    component_dictionary = dict() # protein : component_num\n",
    "    j = 0\n",
    "    for array in [(np.array(submatrix.get_list_of_proteins())[np.nonzero(labels == i)]) for i in range(num_components)]:\n",
    "        for protein in array:\n",
    "            component_dictionary[protein] = j\n",
    "        j += 1\n",
    "    \n",
    "    ## FIND CONNECTED PROTEINS AND DETERMINE IF THEY QUALIFY \n",
    "    qualifying_proteins = list()\n",
    "\n",
    "    for protein in (degreelist.get_list_of_proteins_sorted_by_degree()):   \n",
    "        num_edges, which_proteins = degreelist.determine_num_edges_to_cluster(protein, clusters.get_cluster_proteins(cluster_num), also_return_which_proteins=True)\n",
    "                \n",
    "        if (num_edges >= min_components_that_protein_connects):\n",
    "            set_of_components_that_protein_connects = degreelist.which_components_of_a_cluster_would_a_protein_connect(protein, clusters.get_cluster_proteins(cluster_num), component_dictionary, connected_proteins_within_cluster=which_proteins)\n",
    "\n",
    "            if len(set_of_components_that_protein_connects) >= min_components_that_protein_connects:\n",
    "                qualifying_proteins.append(protein)\n",
    "\n",
    "    return qualifying_proteins\n",
    "\n",
    "\n",
    "def pick_ratio(num_clusters: int):\n",
    "    \"\"\"\n",
    "    will determine an approximate ratio to start with based on the total number of clusters\n",
    "    \"\"\"\n",
    "    if (num_clusters > 1000):\n",
    "        return .5\n",
    "    elif num_clusters > 500:\n",
    "        return .7\n",
    "    elif num_clusters > 200:\n",
    "        return .9\n",
    "    elif num_clusters > 100:\n",
    "        return .925\n",
    "    elif num_clusters > 50:\n",
    "        return .995\n",
    "    else: \n",
    "        return 1"
   ]
  },
  {
   "cell_type": "code",
   "execution_count": null,
   "metadata": {},
   "outputs": [],
   "source": []
  },
  {
   "cell_type": "code",
   "execution_count": 6,
   "metadata": {},
   "outputs": [],
   "source": [
    "qualifying_clusters, qualifying_proteins = find_clusters_and_proteins_together(matrix, clusters, degreelist, cluster_ratio=pick_ratio(clusters.get_num_clusters()), protein_ratio=.05, protein_constant=2)"
>>>>>>> reworked_clusters
   ]
  },
  {
   "cell_type": "code",
<<<<<<< HEAD
   "execution_count": 72,
   "metadata": {},
   "outputs": [],
   "source": [
    "def find_proteins_that_match_criteria(cluster_num: int, matrix: ProteinMatrix, clusters: AllClusters, degreelist: DegreeList, ratio: float = .5, constant: int = 0, min_components_that_protein_connects: int = -1, max_degree: int = 500) -> list():\n",
    "    \"\"\"\n",
    "    can choose to a ratio and a constant, or a min num components\n",
    "    a protein must connect more than ratio*num_components + constant\n",
    "    TODO : function could be improved by passing (submatrix) info from the find_cluster_that_match function, but for now, this is ok. \n",
    "    \"\"\"\n",
    "    if (min_components_that_protein_connects == -1):\n",
    "            # print(f\"min_components_that_a_protein connects was not specified, will now be calculated based on the constant, and ratio times number of proteins \")\n",
    "            min_components_that_protein_connects = constant + ratio * len(clusters.get_cluster_proteins(cluster_num))\n",
    "        \n",
    "    submatrix = SubMatrix(clusters.get_cluster_proteins(cluster_num), matrix)\n",
    "    num_components, labels = submatrix.get_num_components_and_labels()\n",
    "\n",
    "\n",
    "    ### POPULATE COMPONENT DICTIONARY ###\n",
    "    component_dictionary = dict() # protein : component_num\n",
    "    j = 0\n",
    "    for array in [(np.array(submatrix.get_list_of_proteins())[np.nonzero(labels == i)]) for i in range(num_components)]:\n",
    "        for protein in array:\n",
    "            component_dictionary[protein] = j\n",
    "        j += 1\n",
    "    \n",
    "    ## FIND CONNECTED PROTEINS AND DETERMINE IF THEY QUALIFY ###\n",
    "    qualifying_proteins = list()\n",
    "\n",
    "    for protein in (degreelist.get_list_of_proteins_sorted_by_degree()):   \n",
    "        degree = matrix.find_degree(protein)\n",
    "\n",
    "        if (degree >= min_components_that_protein_connects) and (degree <= max_degree):\n",
    "            num_edges, which_proteins = degreelist.determine_num_edges_to_cluster(protein, clusters.get_cluster_proteins(cluster_num), also_return_which_proteins=True)\n",
    "                \n",
    "            if (num_edges >= min_components_that_protein_connects):\n",
    "                    \n",
    "                set_of_components_that_protein_connects = degreelist.which_components_of_a_cluster_would_a_protein_connect(protein, clusters.get_cluster_proteins(cluster_num), component_dictionary, connected_proteins_within_cluster=which_proteins)\n",
    "\n",
    "                # print(f\"\\tthe components that {protein} connects: {set_of_components_that_protein_connects}\")\n",
    "\n",
    "                if len(set_of_components_that_protein_connects) >= min_components_that_protein_connects:\n",
    "                    qualifying_proteins.append(protein)\n",
    "\n",
    "\n",
    "    return qualifying_proteins"
   ]
  },
  {
   "cell_type": "code",
   "execution_count": 52,
=======
   "execution_count": 7,
>>>>>>> reworked_clusters
   "metadata": {},
   "outputs": [
    {
     "name": "stdout",
     "output_type": "stream",
     "text": [
<<<<<<< HEAD
      "the components that ITGA6 connects: {3, 4}\n",
      "the components that ITGB4 connects: {3, 4}\n",
      "[]\n"
=======
      "[25, 29, 30, 36, 49, 73, 75, 99, 152, 161, 164, 174, 185]\n"
>>>>>>> reworked_clusters
     ]
    }
   ],
   "source": [
<<<<<<< HEAD
    "thing = find_proteins_that_match_criteria(result[0], matrix, clusters, degreelist, min_components_that_protein_connects=3, max_degree=500)\n",
    "print(thing)"
=======
    "print(f\"{qualifying_clusters}\")"
>>>>>>> reworked_clusters
   ]
  },
  {
   "cell_type": "code",
<<<<<<< HEAD
   "execution_count": 53,
=======
   "execution_count": 8,
>>>>>>> reworked_clusters
   "metadata": {},
   "outputs": [
    {
     "name": "stdout",
     "output_type": "stream",
     "text": [
<<<<<<< HEAD
      "the components that ACKR4 connects: {56, 40, 5}\n",
      "the components that CORT connects: {65, 3, 36, 49, 55}\n",
      "the components that CXCR3 connects: {24, 5, 45}\n",
      "the components that MMP9 connects: {27, 51, 38}\n",
      "the components that GNAO1 connects: {66, 3, 70, 49, 21}\n",
      "the components that CXCR2 connects: {27, 51, 77, 38}\n",
      "the components that GNAI3 connects: {66, 3, 4, 70, 49, 82, 21, 60}\n",
      "['ACKR4', 'CORT', 'CXCR3', 'MMP9', 'GNAO1', 'CXCR2', 'GNAI3']\n"
=======
      "{25: ['AKT1', 'SRC'], 29: ['CDK1', 'PRKACA'], 30: [], 36: [], 49: ['EGFR', 'MAPK1', 'SRC'], 73: ['TP53', 'MAPK1', 'PRKCA', 'SRC'], 75: [], 99: [], 152: ['CSNK2A1', 'PRKACA'], 161: ['CSNK2A1'], 164: ['BCL2', 'MAPK8', 'MAPK1'], 174: [], 185: ['TSC1', 'IKBKB']}\n"
>>>>>>> reworked_clusters
     ]
    }
   ],
   "source": [
<<<<<<< HEAD
    "thing = find_proteins_that_match_criteria(37, matrix, clusters, degreelist, min_components_that_protein_connects=3, max_degree=500)\n",
    "print(thing)"
   ]
  },
  {
   "cell_type": "markdown",
=======
    "print(f\"{qualifying_proteins}\")"
   ]
  },
  {
   "cell_type": "code",
   "execution_count": 9,
   "metadata": {},
   "outputs": [],
   "source": []
  },
  {
   "cell_type": "code",
   "execution_count": 13,
>>>>>>> reworked_clusters
   "metadata": {},
   "source": [
<<<<<<< HEAD
    "the following is a loop that takes ~15 minutes to find the qualifying proteins for each (qualifying) cluster"
=======
    "import copy"
>>>>>>> reworked_clusters
   ]
  },
  {
   "cell_type": "code",
<<<<<<< HEAD
   "execution_count": 73,
=======
   "execution_count": 29,
>>>>>>> reworked_clusters
   "metadata": {},
   "outputs": [
    {
     "name": "stdout",
     "output_type": "stream",
     "text": [
<<<<<<< HEAD
      "CLUSTER 12\n"
     ]
    },
    {
     "ename": "KeyboardInterrupt",
     "evalue": "",
     "output_type": "error",
     "traceback": [
      "\u001b[0;31m---------------------------------------------------------------------------\u001b[0m",
      "\u001b[0;31mKeyboardInterrupt\u001b[0m                         Traceback (most recent call last)",
      "\u001b[1;32m/Users/charlotte/Desktop/Desktop/diamonds/ClusteringWithDSD/src/connected_components_notebook.ipynb Cell 15'\u001b[0m in \u001b[0;36m<cell line: 1>\u001b[0;34m()\u001b[0m\n\u001b[1;32m      <a href='vscode-notebook-cell:/Users/charlotte/Desktop/Desktop/diamonds/ClusteringWithDSD/src/connected_components_notebook.ipynb#ch0000011?line=0'>1</a>\u001b[0m \u001b[39mfor\u001b[39;00m cluster_num \u001b[39min\u001b[39;00m result:\n\u001b[1;32m      <a href='vscode-notebook-cell:/Users/charlotte/Desktop/Desktop/diamonds/ClusteringWithDSD/src/connected_components_notebook.ipynb#ch0000011?line=1'>2</a>\u001b[0m     \u001b[39mprint\u001b[39m(\u001b[39mf\u001b[39m\u001b[39m\"\u001b[39m\u001b[39mCLUSTER \u001b[39m\u001b[39m{\u001b[39;00mcluster_num\u001b[39m}\u001b[39;00m\u001b[39m\"\u001b[39m)\n\u001b[0;32m----> <a href='vscode-notebook-cell:/Users/charlotte/Desktop/Desktop/diamonds/ClusteringWithDSD/src/connected_components_notebook.ipynb#ch0000011?line=2'>3</a>\u001b[0m     res \u001b[39m=\u001b[39m find_proteins_that_match_criteria(cluster_num, matrix, clusters, degreelist, min_components_that_protein_connects\u001b[39m=\u001b[39;49m\u001b[39m3\u001b[39;49m, max_degree\u001b[39m=\u001b[39;49m\u001b[39m500\u001b[39;49m)\n\u001b[1;32m      <a href='vscode-notebook-cell:/Users/charlotte/Desktop/Desktop/diamonds/ClusteringWithDSD/src/connected_components_notebook.ipynb#ch0000011?line=3'>4</a>\u001b[0m     \u001b[39mif\u001b[39;00m \u001b[39mlen\u001b[39m(result) \u001b[39m>\u001b[39m \u001b[39m0\u001b[39m:\n\u001b[1;32m      <a href='vscode-notebook-cell:/Users/charlotte/Desktop/Desktop/diamonds/ClusteringWithDSD/src/connected_components_notebook.ipynb#ch0000011?line=4'>5</a>\u001b[0m         \u001b[39mprint\u001b[39m(\u001b[39mf\u001b[39m\u001b[39m\"\u001b[39m\u001b[39m- - - - qualifying proteins for cluster \u001b[39m\u001b[39m{\u001b[39;00mcluster_num\u001b[39m}\u001b[39;00m\u001b[39m: \u001b[39m\u001b[39m{\u001b[39;00mres\u001b[39m}\u001b[39;00m\u001b[39m\"\u001b[39m)\n",
      "\u001b[1;32m/Users/charlotte/Desktop/Desktop/diamonds/ClusteringWithDSD/src/connected_components_notebook.ipynb Cell 11'\u001b[0m in \u001b[0;36mfind_proteins_that_match_criteria\u001b[0;34m(cluster_num, matrix, clusters, degreelist, ratio, constant, min_components_that_protein_connects, max_degree)\u001b[0m\n\u001b[1;32m     <a href='vscode-notebook-cell:/Users/charlotte/Desktop/Desktop/diamonds/ClusteringWithDSD/src/connected_components_notebook.ipynb#ch0000010?line=23'>24</a>\u001b[0m qualifying_proteins \u001b[39m=\u001b[39m \u001b[39mlist\u001b[39m()\n\u001b[1;32m     <a href='vscode-notebook-cell:/Users/charlotte/Desktop/Desktop/diamonds/ClusteringWithDSD/src/connected_components_notebook.ipynb#ch0000010?line=25'>26</a>\u001b[0m \u001b[39mfor\u001b[39;00m protein \u001b[39min\u001b[39;00m (degreelist\u001b[39m.\u001b[39mget_list_of_proteins_sorted_by_degree()):   \n\u001b[0;32m---> <a href='vscode-notebook-cell:/Users/charlotte/Desktop/Desktop/diamonds/ClusteringWithDSD/src/connected_components_notebook.ipynb#ch0000010?line=26'>27</a>\u001b[0m     degree \u001b[39m=\u001b[39m matrix\u001b[39m.\u001b[39;49mfind_degree(protein)\n\u001b[1;32m     <a href='vscode-notebook-cell:/Users/charlotte/Desktop/Desktop/diamonds/ClusteringWithDSD/src/connected_components_notebook.ipynb#ch0000010?line=28'>29</a>\u001b[0m     \u001b[39mif\u001b[39;00m (degree \u001b[39m>\u001b[39m\u001b[39m=\u001b[39m min_components_that_protein_connects) \u001b[39mand\u001b[39;00m (degree \u001b[39m<\u001b[39m\u001b[39m=\u001b[39m max_degree):\n\u001b[1;32m     <a href='vscode-notebook-cell:/Users/charlotte/Desktop/Desktop/diamonds/ClusteringWithDSD/src/connected_components_notebook.ipynb#ch0000010?line=29'>30</a>\u001b[0m         num_edges, which_proteins \u001b[39m=\u001b[39m degreelist\u001b[39m.\u001b[39mdetermine_num_edges_to_cluster(protein, clusters\u001b[39m.\u001b[39mget_cluster_proteins(cluster_num), also_return_which_proteins\u001b[39m=\u001b[39m\u001b[39mTrue\u001b[39;00m)\n",
      "File \u001b[0;32m~/Desktop/Desktop/diamonds/ClusteringWithDSD/src/matrix_class.py:145\u001b[0m, in \u001b[0;36mProteinMatrix.find_degree\u001b[0;34m(self, protein)\u001b[0m\n\u001b[1;32m    143\u001b[0m \u001b[39mtry\u001b[39;00m:\n\u001b[1;32m    144\u001b[0m     \u001b[39mfor\u001b[39;00m elem \u001b[39min\u001b[39;00m \u001b[39mself\u001b[39m\u001b[39m.\u001b[39mprotein_matrix\u001b[39m.\u001b[39mloc[protein]:\n\u001b[0;32m--> 145\u001b[0m         \u001b[39mif\u001b[39;00m elem \u001b[39m!=\u001b[39m \u001b[39m0\u001b[39m:\n\u001b[1;32m    146\u001b[0m             count \u001b[39m+\u001b[39m\u001b[39m=\u001b[39m \u001b[39m1\u001b[39m\n\u001b[1;32m    148\u001b[0m     \u001b[39mreturn\u001b[39;00m count\n",
      "\u001b[0;31mKeyboardInterrupt\u001b[0m: "
=======
      "ERROR! please specify a [csv_filename] or a [protein_to_cluster_dict] not found.\n"
>>>>>>> reworked_clusters
     ]
    }
   ],
   "source": [
<<<<<<< HEAD
    "for cluster_num in result:\n",
    "    print(f\"CLUSTER {cluster_num}\")\n",
    "    res = find_proteins_that_match_criteria(cluster_num, matrix, clusters, degreelist, min_components_that_protein_connects=3, max_degree=500)\n",
    "    if len(result) > 0:\n",
    "        print(f\"- - - - qualifying proteins for cluster {cluster_num}: {res}\")\n"
=======
    "def create_new_clusters(clusters_to_qualifying_proteins: dict(), csv_filename: str = \"\", protein_to_cluster_dict: dict() = {}, original_clusters: AllClusters = AllClusters(), ) -> AllClusters:\n",
    "    \"\"\"\n",
    "    csv_filename: str = \"\", protein_to_cluster_dict: dict() ={}, original_clusters: AllClusters = AllClusters(), are all different ways to pass in info to make new clusters (and you should choose one of them). Please note, that if you use Original Clusters, the original clusters will be modified to include the new qualifying proteins\n",
    "    \"\"\"\n",
    "    modified_clusters = AllClusters()\n",
    "    \n",
    "    if csv_filename != \"\":\n",
    "        modified_clusters = AllClusters(csv_filename=csv_filename)\n",
    "    elif protein_to_cluster_dict: # dictionary not empty\n",
    "        modified_clusters = AllClusters(protein_to_cluster_dict=protein_to_cluster_dict)\n",
    "    else:\n",
    "        modified_clusters = original_clusters\n",
    "    \n",
    "    for key in clusters_to_qualifying_proteins:\n",
    "        if clusters_to_qualifying_proteins[key]: # will return true if this cluster has qualifying proteins (list not empty)\n",
    "            for protein in clusters_to_qualifying_proteins[key]:\n",
    "                modified_clusters.add_protein_to_cluster(protein, key)\n",
    "    return modified_clusters"
>>>>>>> reworked_clusters
   ]
  },
  {
   "cell_type": "code",
<<<<<<< HEAD
   "execution_count": null,
   "metadata": {},
   "outputs": [],
   "source": []
  },
  {
   "cell_type": "markdown",
   "metadata": {},
   "source": [
    "now i will proceed to find clusters that are decently connected (ratio of .7, so the number of components must be at least .7 * number of proteins)"
=======
   "execution_count": 34,
   "metadata": {},
   "outputs": [
    {
     "name": "stdout",
     "output_type": "stream",
     "text": [
      "ERROR! please specify a [csv_filename] or a [protein_to_cluster_dict] not found.\n"
     ]
    }
   ],
   "source": [
    "new_clusters = create_new_clusters(qualifying_proteins)"
>>>>>>> reworked_clusters
   ]
  },
  {
   "cell_type": "code",
<<<<<<< HEAD
   "execution_count": 68,
=======
   "execution_count": 38,
>>>>>>> reworked_clusters
   "metadata": {},
   "outputs": [
    {
     "name": "stdout",
     "output_type": "stream",
     "text": [
      "AllClusters has 199 clusters (use the print_all method to see them)\n"
     ]
    }
   ],
   "source": [
<<<<<<< HEAD
    "new_result = find_clusters_that_match_criteria(matrix, clusters, degreelist, ratio=.7)"
=======
    "print(new_clusters)"
>>>>>>> reworked_clusters
   ]
  },
  {
   "cell_type": "code",
   "execution_count": 69,
   "metadata": {},
<<<<<<< HEAD
   "outputs": [
    {
     "name": "stdout",
     "output_type": "stream",
     "text": [
      "[12, 114, 123, 161, 195, 257, 272, 273, 306, 333, 382, 392, 405, 411, 419, 432, 433, 468, 495, 516, 533, 540, 557, 571, 573, 578, 596, 598, 605, 614, 638, 640, 649, 661, 698, 700, 711, 723, 745, 750, 775, 776, 779, 781, 803, 807, 832, 864, 873, 900, 915, 920, 927, 935, 937, 945, 959, 974]\n"
     ]
    }
   ],
   "source": [
    "print(new_result)"
   ]
  },
  {
   "cell_type": "markdown",
   "metadata": {},
   "source": [
    "next, i will find the proteins that are pretty connected to the clusters (connected to at least 1/4 of components)"
=======
   "outputs": [],
   "source": []
  },
  {
   "cell_type": "code",
   "execution_count": 37,
   "metadata": {},
   "outputs": [
    {
     "name": "stdout",
     "output_type": "stream",
     "text": [
      "['TRPV3', 'KHDRBS2', 'PDZD2', 'TP73', 'TICAM1', 'PHKG1', 'KITLG', 'TBK1', 'RAC1', 'RUSC1', 'CBS', 'MAPK11', 'MAP2K6', 'PAWR', 'CDK10', 'SPTAN1', 'TRPV3', 'KHDRBS2', 'PDZD2', 'TP73', 'TICAM1', 'PHKG1', 'KITLG', 'TBK1', 'RAC1', 'RUSC1', 'CBS', 'MAPK11', 'MAP2K6', 'PAWR', 'CDK10', 'SPTAN1', 'AKT1', 'SRC', 'AKT1', 'SRC', 'AKT1', 'SRC', 'AKT1', 'SRC', 'AKT1', 'SRC', 'AKT1', 'SRC', 'AKT1', 'SRC', 'AKT1', 'SRC']\n",
      "['TRPV3', 'KHDRBS2', 'PDZD2', 'TP73', 'TICAM1', 'PHKG1', 'KITLG', 'TBK1', 'RAC1', 'RUSC1', 'CBS', 'MAPK11', 'MAP2K6', 'PAWR', 'CDK10', 'SPTAN1', 'TRPV3', 'KHDRBS2', 'PDZD2', 'TP73', 'TICAM1', 'PHKG1', 'KITLG', 'TBK1', 'RAC1', 'RUSC1', 'CBS', 'MAPK11', 'MAP2K6', 'PAWR', 'CDK10', 'SPTAN1', 'AKT1', 'SRC', 'AKT1', 'SRC', 'AKT1', 'SRC', 'AKT1', 'SRC', 'AKT1', 'SRC', 'AKT1', 'SRC', 'AKT1', 'SRC', 'AKT1', 'SRC']\n"
     ]
    }
   ],
   "source": [
    "print(clusters.get_cluster_proteins(25))\n",
    "print(new_clusters.get_cluster_proteins(25))"
>>>>>>> reworked_clusters
   ]
  },
  {
   "cell_type": "code",
<<<<<<< HEAD
   "execution_count": 76,
=======
   "execution_count": 12,
>>>>>>> reworked_clusters
   "metadata": {},
   "outputs": [
    {
     "name": "stdout",
     "output_type": "stream",
     "text": [
<<<<<<< HEAD
      "checking cluster 12\n",
      "checking cluster 114\n",
      "checking cluster 123\n",
      "checking cluster 161\n",
      "checking cluster 195\n",
      "checking cluster 257\n",
      "- - - - qualifying proteins for cluster 257: ['FZD1', 'LRP5', 'FZD3', 'LRP6']\n",
      "checking cluster 272\n",
      "- - - - qualifying proteins for cluster 272: ['PKD2']\n",
      "checking cluster 273\n",
      "checking cluster 306\n",
      "checking cluster 333\n",
      "checking cluster 382\n",
      "checking cluster 392\n",
      "checking cluster 405\n",
      "checking cluster 411\n",
      "checking cluster 419\n",
      "checking cluster 432\n",
      "- - - - qualifying proteins for cluster 432: ['IRAK4', 'IRAK1', 'TRAF6']\n",
      "checking cluster 433\n",
      "checking cluster 468\n",
      "checking cluster 495\n",
      "- - - - qualifying proteins for cluster 495: ['NOTCH1']\n",
      "checking cluster 516\n",
      "checking cluster 533\n",
      "checking cluster 540\n",
      "checking cluster 557\n",
      "checking cluster 571\n",
      "checking cluster 573\n",
      "- - - - qualifying proteins for cluster 573: ['SOCS3', 'TYK2', 'JAK1', 'JAK2']\n",
      "checking cluster 578\n",
      "checking cluster 596\n",
      "checking cluster 598\n",
      "checking cluster 605\n",
      "checking cluster 614\n",
      "checking cluster 638\n",
      "checking cluster 640\n",
      "checking cluster 649\n",
      "- - - - qualifying proteins for cluster 649: ['TLR8', 'CD14', 'MYD88']\n",
      "checking cluster 661\n",
      "- - - - qualifying proteins for cluster 661: ['TRAF3', 'TRAF2']\n",
      "checking cluster 698\n",
      "checking cluster 700\n",
      "checking cluster 711\n",
      "checking cluster 723\n",
      "- - - - qualifying proteins for cluster 723: ['TLR2', 'TLR4']\n",
      "checking cluster 745\n",
      "checking cluster 750\n",
      "checking cluster 775\n",
      "- - - - qualifying proteins for cluster 775: ['KAT2B']\n",
      "checking cluster 776\n",
      "checking cluster 779\n",
      "- - - - qualifying proteins for cluster 779: ['PAX5', 'SOCS1']\n",
      "checking cluster 781\n",
      "checking cluster 803\n",
      "checking cluster 807\n",
      "- - - - qualifying proteins for cluster 807: ['NOTCH1']\n",
      "checking cluster 832\n",
      "checking cluster 864\n",
      "checking cluster 873\n",
      "checking cluster 900\n",
      "checking cluster 915\n",
      "- - - - qualifying proteins for cluster 915: ['PTCH2', 'HHIP', 'PTCH1']\n",
      "checking cluster 920\n",
      "checking cluster 927\n",
      "checking cluster 935\n",
      "checking cluster 937\n",
      "checking cluster 945\n",
      "checking cluster 959\n",
      "checking cluster 974\n",
      "- - - - qualifying proteins for cluster 974: ['CDK1']\n"
=======
      "['PPP1R15A', 'MMP14', 'BCL2L12', 'PTX3', 'HLA-C', 'KAT8', 'EIF2S2', 'RASSF7', 'AKT2', 'PRKAA2', 'PIP5K1A', 'RAB11A', 'CASP3', 'PPP1R15A', 'MMP14', 'BCL2L12', 'PTX3', 'HLA-C', 'KAT8', 'EIF2S2', 'RASSF7', 'AKT2', 'PRKAA2', 'PIP5K1A', 'RAB11A', 'CASP3']\n",
      "['PPP1R15A', 'MMP14', 'BCL2L12', 'PTX3', 'HLA-C', 'KAT8', 'EIF2S2', 'RASSF7', 'AKT2', 'PRKAA2', 'PIP5K1A', 'RAB11A', 'CASP3', 'PPP1R15A', 'MMP14', 'BCL2L12', 'PTX3', 'HLA-C', 'KAT8', 'EIF2S2', 'RASSF7', 'AKT2', 'PRKAA2', 'PIP5K1A', 'RAB11A', 'CASP3']\n"
>>>>>>> reworked_clusters
     ]
    }
   ],
   "source": [
<<<<<<< HEAD
    "for cluster_num in new_result:\n",
    "    print(f\"checking cluster {cluster_num}\")\n",
    "    res = find_proteins_that_match_criteria(cluster_num, matrix, clusters, degreelist, max_degree=500, ratio=.25)\n",
    "    if len(res) > 0:\n",
    "        print(f\"- - - - qualifying proteins for cluster {cluster_num}: {res}\")"
=======
    "print(clusters.get_cluster_proteins(185))\n",
    "print(new_clusters.get_cluster_proteins(185))"
>>>>>>> reworked_clusters
   ]
  },
  {
   "cell_type": "code",
   "execution_count": null,
   "metadata": {},
   "outputs": [],
   "source": []
  },
  {
   "cell_type": "code",
   "execution_count": null,
   "metadata": {},
   "outputs": [],
   "source": []
  }
 ],
 "metadata": {
  "kernelspec": {
   "display_name": "Python 3.10.4 ('diamonds')",
   "language": "python",
   "name": "python3"
  },
  "language_info": {
   "codemirror_mode": {
    "name": "ipython",
    "version": 3
   },
   "file_extension": ".py",
   "mimetype": "text/x-python",
   "name": "python",
   "nbconvert_exporter": "python",
   "pygments_lexer": "ipython3",
   "version": "3.10.4"
  },
  "orig_nbformat": 4,
  "vscode": {
   "interpreter": {
    "hash": "e113e58b579a48e5732235004b32d872074e11125058c2d5e4f294336344a2ee"
   }
  }
 },
 "nbformat": 4,
 "nbformat_minor": 2
}
