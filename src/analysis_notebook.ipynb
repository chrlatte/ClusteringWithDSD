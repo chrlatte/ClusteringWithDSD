{
 "cells": [
  {
   "cell_type": "code",
   "execution_count": 2,
   "metadata": {},
   "outputs": [],
   "source": [
    "import numpy as np\n",
    "import json\n",
    "import pandas as pd\n",
    "\n",
    "\n",
    "from matrix_class import ProteinMatrix\n",
    "from matrix_class import SubMatrix\n",
    "from cluster_class import AllClusters\n",
    "from degreelist_class import DegreeList\n",
    "\n",
    "\n",
    "from connected_components_utils import *\n",
    "from analysis_utils import *\n",
    "\n",
    "from func_e.FUNC_E import FUNC_E # import the class\n",
    "import func_e.vocabs.all as vocabs"
   ]
  },
  {
   "cell_type": "code",
   "execution_count": 3,
   "metadata": {},
   "outputs": [
    {
     "name": "stderr",
     "output_type": "stream",
     "text": [
      "/Users/charlotte/miniconda3/envs/diamonds/lib/python3.10/site-packages/func_e/FUNC_E.py:279: FutureWarning: The frame.append method is deprecated and will be removed from pandas in a future version. Use pandas.concat instead.\n",
      "  modResults = modResults.append({\n",
      "/Users/charlotte/miniconda3/envs/diamonds/lib/python3.10/site-packages/func_e/FUNC_E.py:279: FutureWarning: The frame.append method is deprecated and will be removed from pandas in a future version. Use pandas.concat instead.\n",
      "  modResults = modResults.append({\n",
      "/Users/charlotte/miniconda3/envs/diamonds/lib/python3.10/site-packages/func_e/FUNC_E.py:279: FutureWarning: The frame.append method is deprecated and will be removed from pandas in a future version. Use pandas.concat instead.\n",
      "  modResults = modResults.append({\n",
      "/Users/charlotte/miniconda3/envs/diamonds/lib/python3.10/site-packages/func_e/FUNC_E.py:279: FutureWarning: The frame.append method is deprecated and will be removed from pandas in a future version. Use pandas.concat instead.\n",
      "  modResults = modResults.append({\n",
      "/Users/charlotte/miniconda3/envs/diamonds/lib/python3.10/site-packages/func_e/FUNC_E.py:279: FutureWarning: The frame.append method is deprecated and will be removed from pandas in a future version. Use pandas.concat instead.\n",
      "  modResults = modResults.append({\n",
      "/Users/charlotte/miniconda3/envs/diamonds/lib/python3.10/site-packages/func_e/FUNC_E.py:279: FutureWarning: The frame.append method is deprecated and will be removed from pandas in a future version. Use pandas.concat instead.\n",
      "  modResults = modResults.append({\n",
      "/Users/charlotte/miniconda3/envs/diamonds/lib/python3.10/site-packages/func_e/FUNC_E.py:279: FutureWarning: The frame.append method is deprecated and will be removed from pandas in a future version. Use pandas.concat instead.\n",
      "  modResults = modResults.append({\n",
      "/Users/charlotte/miniconda3/envs/diamonds/lib/python3.10/site-packages/func_e/FUNC_E.py:279: FutureWarning: The frame.append method is deprecated and will be removed from pandas in a future version. Use pandas.concat instead.\n",
      "  modResults = modResults.append({\n",
      "/Users/charlotte/miniconda3/envs/diamonds/lib/python3.10/site-packages/func_e/FUNC_E.py:279: FutureWarning: The frame.append method is deprecated and will be removed from pandas in a future version. Use pandas.concat instead.\n",
      "  modResults = modResults.append({\n",
      "/Users/charlotte/miniconda3/envs/diamonds/lib/python3.10/site-packages/func_e/FUNC_E.py:279: FutureWarning: The frame.append method is deprecated and will be removed from pandas in a future version. Use pandas.concat instead.\n",
      "  modResults = modResults.append({\n",
      "/Users/charlotte/miniconda3/envs/diamonds/lib/python3.10/site-packages/func_e/FUNC_E.py:279: FutureWarning: The frame.append method is deprecated and will be removed from pandas in a future version. Use pandas.concat instead.\n",
      "  modResults = modResults.append({\n",
      "/Users/charlotte/miniconda3/envs/diamonds/lib/python3.10/site-packages/func_e/FUNC_E.py:279: FutureWarning: The frame.append method is deprecated and will be removed from pandas in a future version. Use pandas.concat instead.\n",
      "  modResults = modResults.append({\n",
      "/Users/charlotte/miniconda3/envs/diamonds/lib/python3.10/site-packages/func_e/FUNC_E.py:279: FutureWarning: The frame.append method is deprecated and will be removed from pandas in a future version. Use pandas.concat instead.\n",
      "  modResults = modResults.append({\n",
      "/Users/charlotte/miniconda3/envs/diamonds/lib/python3.10/site-packages/func_e/FUNC_E.py:279: FutureWarning: The frame.append method is deprecated and will be removed from pandas in a future version. Use pandas.concat instead.\n",
      "  modResults = modResults.append({\n",
      "/Users/charlotte/miniconda3/envs/diamonds/lib/python3.10/site-packages/func_e/FUNC_E.py:279: FutureWarning: The frame.append method is deprecated and will be removed from pandas in a future version. Use pandas.concat instead.\n",
      "  modResults = modResults.append({\n",
      "/Users/charlotte/miniconda3/envs/diamonds/lib/python3.10/site-packages/func_e/FUNC_E.py:279: FutureWarning: The frame.append method is deprecated and will be removed from pandas in a future version. Use pandas.concat instead.\n",
      "  modResults = modResults.append({\n",
      "/Users/charlotte/miniconda3/envs/diamonds/lib/python3.10/site-packages/func_e/FUNC_E.py:279: FutureWarning: The frame.append method is deprecated and will be removed from pandas in a future version. Use pandas.concat instead.\n",
      "  modResults = modResults.append({\n",
      "/Users/charlotte/miniconda3/envs/diamonds/lib/python3.10/site-packages/func_e/FUNC_E.py:279: FutureWarning: The frame.append method is deprecated and will be removed from pandas in a future version. Use pandas.concat instead.\n",
      "  modResults = modResults.append({\n",
      "/Users/charlotte/miniconda3/envs/diamonds/lib/python3.10/site-packages/func_e/FUNC_E.py:279: FutureWarning: The frame.append method is deprecated and will be removed from pandas in a future version. Use pandas.concat instead.\n",
      "  modResults = modResults.append({\n",
      "/Users/charlotte/miniconda3/envs/diamonds/lib/python3.10/site-packages/func_e/FUNC_E.py:279: FutureWarning: The frame.append method is deprecated and will be removed from pandas in a future version. Use pandas.concat instead.\n",
      "  modResults = modResults.append({\n",
      "/Users/charlotte/miniconda3/envs/diamonds/lib/python3.10/site-packages/func_e/FUNC_E.py:279: FutureWarning: The frame.append method is deprecated and will be removed from pandas in a future version. Use pandas.concat instead.\n",
      "  modResults = modResults.append({\n",
      "/Users/charlotte/miniconda3/envs/diamonds/lib/python3.10/site-packages/func_e/FUNC_E.py:279: FutureWarning: The frame.append method is deprecated and will be removed from pandas in a future version. Use pandas.concat instead.\n",
      "  modResults = modResults.append({\n",
      "/Users/charlotte/miniconda3/envs/diamonds/lib/python3.10/site-packages/func_e/FUNC_E.py:279: FutureWarning: The frame.append method is deprecated and will be removed from pandas in a future version. Use pandas.concat instead.\n",
      "  modResults = modResults.append({\n",
      "/Users/charlotte/miniconda3/envs/diamonds/lib/python3.10/site-packages/func_e/FUNC_E.py:279: FutureWarning: The frame.append method is deprecated and will be removed from pandas in a future version. Use pandas.concat instead.\n",
      "  modResults = modResults.append({\n",
      "/Users/charlotte/miniconda3/envs/diamonds/lib/python3.10/site-packages/func_e/FUNC_E.py:279: FutureWarning: The frame.append method is deprecated and will be removed from pandas in a future version. Use pandas.concat instead.\n",
      "  modResults = modResults.append({\n",
      "/Users/charlotte/miniconda3/envs/diamonds/lib/python3.10/site-packages/func_e/FUNC_E.py:279: FutureWarning: The frame.append method is deprecated and will be removed from pandas in a future version. Use pandas.concat instead.\n",
      "  modResults = modResults.append({\n",
      "/Users/charlotte/miniconda3/envs/diamonds/lib/python3.10/site-packages/func_e/FUNC_E.py:279: FutureWarning: The frame.append method is deprecated and will be removed from pandas in a future version. Use pandas.concat instead.\n",
      "  modResults = modResults.append({\n",
      "/Users/charlotte/miniconda3/envs/diamonds/lib/python3.10/site-packages/func_e/FUNC_E.py:279: FutureWarning: The frame.append method is deprecated and will be removed from pandas in a future version. Use pandas.concat instead.\n",
      "  modResults = modResults.append({\n",
      "/Users/charlotte/miniconda3/envs/diamonds/lib/python3.10/site-packages/func_e/FUNC_E.py:279: FutureWarning: The frame.append method is deprecated and will be removed from pandas in a future version. Use pandas.concat instead.\n",
      "  modResults = modResults.append({\n",
      "/Users/charlotte/miniconda3/envs/diamonds/lib/python3.10/site-packages/func_e/FUNC_E.py:279: FutureWarning: The frame.append method is deprecated and will be removed from pandas in a future version. Use pandas.concat instead.\n",
      "  modResults = modResults.append({\n",
      "/Users/charlotte/miniconda3/envs/diamonds/lib/python3.10/site-packages/func_e/FUNC_E.py:279: FutureWarning: The frame.append method is deprecated and will be removed from pandas in a future version. Use pandas.concat instead.\n",
      "  modResults = modResults.append({\n",
      "/Users/charlotte/miniconda3/envs/diamonds/lib/python3.10/site-packages/func_e/FUNC_E.py:279: FutureWarning: The frame.append method is deprecated and will be removed from pandas in a future version. Use pandas.concat instead.\n",
      "  modResults = modResults.append({\n",
      "/Users/charlotte/miniconda3/envs/diamonds/lib/python3.10/site-packages/func_e/FUNC_E.py:279: FutureWarning: The frame.append method is deprecated and will be removed from pandas in a future version. Use pandas.concat instead.\n",
      "  modResults = modResults.append({\n",
      "/Users/charlotte/miniconda3/envs/diamonds/lib/python3.10/site-packages/func_e/FUNC_E.py:279: FutureWarning: The frame.append method is deprecated and will be removed from pandas in a future version. Use pandas.concat instead.\n",
      "  modResults = modResults.append({\n",
      "/Users/charlotte/miniconda3/envs/diamonds/lib/python3.10/site-packages/func_e/FUNC_E.py:279: FutureWarning: The frame.append method is deprecated and will be removed from pandas in a future version. Use pandas.concat instead.\n",
      "  modResults = modResults.append({\n",
      "/Users/charlotte/miniconda3/envs/diamonds/lib/python3.10/site-packages/func_e/FUNC_E.py:279: FutureWarning: The frame.append method is deprecated and will be removed from pandas in a future version. Use pandas.concat instead.\n",
      "  modResults = modResults.append({\n",
      "/Users/charlotte/miniconda3/envs/diamonds/lib/python3.10/site-packages/func_e/FUNC_E.py:279: FutureWarning: The frame.append method is deprecated and will be removed from pandas in a future version. Use pandas.concat instead.\n",
      "  modResults = modResults.append({\n",
      "/Users/charlotte/miniconda3/envs/diamonds/lib/python3.10/site-packages/func_e/FUNC_E.py:279: FutureWarning: The frame.append method is deprecated and will be removed from pandas in a future version. Use pandas.concat instead.\n",
      "  modResults = modResults.append({\n",
      "/Users/charlotte/miniconda3/envs/diamonds/lib/python3.10/site-packages/func_e/FUNC_E.py:279: FutureWarning: The frame.append method is deprecated and will be removed from pandas in a future version. Use pandas.concat instead.\n",
      "  modResults = modResults.append({\n",
      "/Users/charlotte/miniconda3/envs/diamonds/lib/python3.10/site-packages/func_e/FUNC_E.py:279: FutureWarning: The frame.append method is deprecated and will be removed from pandas in a future version. Use pandas.concat instead.\n",
      "  modResults = modResults.append({\n",
      "/Users/charlotte/miniconda3/envs/diamonds/lib/python3.10/site-packages/func_e/FUNC_E.py:279: FutureWarning: The frame.append method is deprecated and will be removed from pandas in a future version. Use pandas.concat instead.\n",
      "  modResults = modResults.append({\n",
      "/Users/charlotte/miniconda3/envs/diamonds/lib/python3.10/site-packages/func_e/FUNC_E.py:279: FutureWarning: The frame.append method is deprecated and will be removed from pandas in a future version. Use pandas.concat instead.\n",
      "  modResults = modResults.append({\n",
      "/Users/charlotte/miniconda3/envs/diamonds/lib/python3.10/site-packages/func_e/FUNC_E.py:279: FutureWarning: The frame.append method is deprecated and will be removed from pandas in a future version. Use pandas.concat instead.\n",
      "  modResults = modResults.append({\n",
      "/Users/charlotte/miniconda3/envs/diamonds/lib/python3.10/site-packages/func_e/FUNC_E.py:279: FutureWarning: The frame.append method is deprecated and will be removed from pandas in a future version. Use pandas.concat instead.\n",
      "  modResults = modResults.append({\n",
      "/Users/charlotte/miniconda3/envs/diamonds/lib/python3.10/site-packages/func_e/FUNC_E.py:279: FutureWarning: The frame.append method is deprecated and will be removed from pandas in a future version. Use pandas.concat instead.\n",
      "  modResults = modResults.append({\n",
      "/Users/charlotte/miniconda3/envs/diamonds/lib/python3.10/site-packages/func_e/FUNC_E.py:279: FutureWarning: The frame.append method is deprecated and will be removed from pandas in a future version. Use pandas.concat instead.\n",
      "  modResults = modResults.append({\n",
      "/Users/charlotte/miniconda3/envs/diamonds/lib/python3.10/site-packages/func_e/FUNC_E.py:279: FutureWarning: The frame.append method is deprecated and will be removed from pandas in a future version. Use pandas.concat instead.\n",
      "  modResults = modResults.append({\n",
      "/Users/charlotte/miniconda3/envs/diamonds/lib/python3.10/site-packages/func_e/FUNC_E.py:279: FutureWarning: The frame.append method is deprecated and will be removed from pandas in a future version. Use pandas.concat instead.\n",
      "  modResults = modResults.append({\n",
      "/Users/charlotte/miniconda3/envs/diamonds/lib/python3.10/site-packages/func_e/FUNC_E.py:279: FutureWarning: The frame.append method is deprecated and will be removed from pandas in a future version. Use pandas.concat instead.\n",
      "  modResults = modResults.append({\n",
      "/Users/charlotte/miniconda3/envs/diamonds/lib/python3.10/site-packages/func_e/FUNC_E.py:279: FutureWarning: The frame.append method is deprecated and will be removed from pandas in a future version. Use pandas.concat instead.\n",
      "  modResults = modResults.append({\n",
      "/Users/charlotte/miniconda3/envs/diamonds/lib/python3.10/site-packages/func_e/FUNC_E.py:279: FutureWarning: The frame.append method is deprecated and will be removed from pandas in a future version. Use pandas.concat instead.\n",
      "  modResults = modResults.append({\n",
      "/Users/charlotte/miniconda3/envs/diamonds/lib/python3.10/site-packages/func_e/FUNC_E.py:279: FutureWarning: The frame.append method is deprecated and will be removed from pandas in a future version. Use pandas.concat instead.\n",
      "  modResults = modResults.append({\n",
      "/Users/charlotte/miniconda3/envs/diamonds/lib/python3.10/site-packages/func_e/FUNC_E.py:279: FutureWarning: The frame.append method is deprecated and will be removed from pandas in a future version. Use pandas.concat instead.\n",
      "  modResults = modResults.append({\n",
      "/Users/charlotte/miniconda3/envs/diamonds/lib/python3.10/site-packages/func_e/FUNC_E.py:279: FutureWarning: The frame.append method is deprecated and will be removed from pandas in a future version. Use pandas.concat instead.\n",
      "  modResults = modResults.append({\n",
      "/Users/charlotte/miniconda3/envs/diamonds/lib/python3.10/site-packages/func_e/FUNC_E.py:279: FutureWarning: The frame.append method is deprecated and will be removed from pandas in a future version. Use pandas.concat instead.\n",
      "  modResults = modResults.append({\n",
      "/Users/charlotte/miniconda3/envs/diamonds/lib/python3.10/site-packages/func_e/FUNC_E.py:279: FutureWarning: The frame.append method is deprecated and will be removed from pandas in a future version. Use pandas.concat instead.\n",
      "  modResults = modResults.append({\n",
      "/Users/charlotte/miniconda3/envs/diamonds/lib/python3.10/site-packages/func_e/FUNC_E.py:279: FutureWarning: The frame.append method is deprecated and will be removed from pandas in a future version. Use pandas.concat instead.\n",
      "  modResults = modResults.append({\n",
      "/Users/charlotte/miniconda3/envs/diamonds/lib/python3.10/site-packages/func_e/FUNC_E.py:279: FutureWarning: The frame.append method is deprecated and will be removed from pandas in a future version. Use pandas.concat instead.\n",
      "  modResults = modResults.append({\n",
      "/Users/charlotte/miniconda3/envs/diamonds/lib/python3.10/site-packages/func_e/FUNC_E.py:279: FutureWarning: The frame.append method is deprecated and will be removed from pandas in a future version. Use pandas.concat instead.\n",
      "  modResults = modResults.append({\n",
      "/Users/charlotte/miniconda3/envs/diamonds/lib/python3.10/site-packages/func_e/FUNC_E.py:279: FutureWarning: The frame.append method is deprecated and will be removed from pandas in a future version. Use pandas.concat instead.\n",
      "  modResults = modResults.append({\n",
      "/Users/charlotte/miniconda3/envs/diamonds/lib/python3.10/site-packages/func_e/FUNC_E.py:279: FutureWarning: The frame.append method is deprecated and will be removed from pandas in a future version. Use pandas.concat instead.\n",
      "  modResults = modResults.append({\n",
      "/Users/charlotte/miniconda3/envs/diamonds/lib/python3.10/site-packages/func_e/FUNC_E.py:279: FutureWarning: The frame.append method is deprecated and will be removed from pandas in a future version. Use pandas.concat instead.\n",
      "  modResults = modResults.append({\n",
      "/Users/charlotte/miniconda3/envs/diamonds/lib/python3.10/site-packages/func_e/FUNC_E.py:279: FutureWarning: The frame.append method is deprecated and will be removed from pandas in a future version. Use pandas.concat instead.\n",
      "  modResults = modResults.append({\n",
      "/Users/charlotte/miniconda3/envs/diamonds/lib/python3.10/site-packages/func_e/FUNC_E.py:279: FutureWarning: The frame.append method is deprecated and will be removed from pandas in a future version. Use pandas.concat instead.\n",
      "  modResults = modResults.append({\n",
      "/Users/charlotte/miniconda3/envs/diamonds/lib/python3.10/site-packages/func_e/FUNC_E.py:279: FutureWarning: The frame.append method is deprecated and will be removed from pandas in a future version. Use pandas.concat instead.\n",
      "  modResults = modResults.append({\n",
      "/Users/charlotte/miniconda3/envs/diamonds/lib/python3.10/site-packages/func_e/FUNC_E.py:279: FutureWarning: The frame.append method is deprecated and will be removed from pandas in a future version. Use pandas.concat instead.\n",
      "  modResults = modResults.append({\n",
      "/Users/charlotte/miniconda3/envs/diamonds/lib/python3.10/site-packages/func_e/FUNC_E.py:279: FutureWarning: The frame.append method is deprecated and will be removed from pandas in a future version. Use pandas.concat instead.\n",
      "  modResults = modResults.append({\n",
      "/Users/charlotte/miniconda3/envs/diamonds/lib/python3.10/site-packages/func_e/FUNC_E.py:279: FutureWarning: The frame.append method is deprecated and will be removed from pandas in a future version. Use pandas.concat instead.\n",
      "  modResults = modResults.append({\n",
      "/Users/charlotte/miniconda3/envs/diamonds/lib/python3.10/site-packages/func_e/FUNC_E.py:279: FutureWarning: The frame.append method is deprecated and will be removed from pandas in a future version. Use pandas.concat instead.\n",
      "  modResults = modResults.append({\n",
      "/Users/charlotte/miniconda3/envs/diamonds/lib/python3.10/site-packages/func_e/FUNC_E.py:279: FutureWarning: The frame.append method is deprecated and will be removed from pandas in a future version. Use pandas.concat instead.\n",
      "  modResults = modResults.append({\n",
      "/Users/charlotte/miniconda3/envs/diamonds/lib/python3.10/site-packages/func_e/FUNC_E.py:279: FutureWarning: The frame.append method is deprecated and will be removed from pandas in a future version. Use pandas.concat instead.\n",
      "  modResults = modResults.append({\n",
      "/Users/charlotte/miniconda3/envs/diamonds/lib/python3.10/site-packages/func_e/FUNC_E.py:279: FutureWarning: The frame.append method is deprecated and will be removed from pandas in a future version. Use pandas.concat instead.\n",
      "  modResults = modResults.append({\n",
      "/Users/charlotte/miniconda3/envs/diamonds/lib/python3.10/site-packages/func_e/FUNC_E.py:279: FutureWarning: The frame.append method is deprecated and will be removed from pandas in a future version. Use pandas.concat instead.\n",
      "  modResults = modResults.append({\n",
      "/Users/charlotte/miniconda3/envs/diamonds/lib/python3.10/site-packages/func_e/FUNC_E.py:279: FutureWarning: The frame.append method is deprecated and will be removed from pandas in a future version. Use pandas.concat instead.\n",
      "  modResults = modResults.append({\n",
      "/Users/charlotte/miniconda3/envs/diamonds/lib/python3.10/site-packages/func_e/FUNC_E.py:279: FutureWarning: The frame.append method is deprecated and will be removed from pandas in a future version. Use pandas.concat instead.\n",
      "  modResults = modResults.append({\n",
      "/Users/charlotte/miniconda3/envs/diamonds/lib/python3.10/site-packages/func_e/FUNC_E.py:279: FutureWarning: The frame.append method is deprecated and will be removed from pandas in a future version. Use pandas.concat instead.\n",
      "  modResults = modResults.append({\n",
      "/Users/charlotte/miniconda3/envs/diamonds/lib/python3.10/site-packages/func_e/FUNC_E.py:279: FutureWarning: The frame.append method is deprecated and will be removed from pandas in a future version. Use pandas.concat instead.\n",
      "  modResults = modResults.append({\n",
      "/Users/charlotte/miniconda3/envs/diamonds/lib/python3.10/site-packages/func_e/FUNC_E.py:279: FutureWarning: The frame.append method is deprecated and will be removed from pandas in a future version. Use pandas.concat instead.\n",
      "  modResults = modResults.append({\n",
      "/Users/charlotte/miniconda3/envs/diamonds/lib/python3.10/site-packages/func_e/FUNC_E.py:279: FutureWarning: The frame.append method is deprecated and will be removed from pandas in a future version. Use pandas.concat instead.\n",
      "  modResults = modResults.append({\n",
      "/Users/charlotte/miniconda3/envs/diamonds/lib/python3.10/site-packages/func_e/FUNC_E.py:279: FutureWarning: The frame.append method is deprecated and will be removed from pandas in a future version. Use pandas.concat instead.\n",
      "  modResults = modResults.append({\n",
      "/Users/charlotte/miniconda3/envs/diamonds/lib/python3.10/site-packages/func_e/FUNC_E.py:279: FutureWarning: The frame.append method is deprecated and will be removed from pandas in a future version. Use pandas.concat instead.\n",
      "  modResults = modResults.append({\n",
      "/Users/charlotte/miniconda3/envs/diamonds/lib/python3.10/site-packages/func_e/FUNC_E.py:279: FutureWarning: The frame.append method is deprecated and will be removed from pandas in a future version. Use pandas.concat instead.\n",
      "  modResults = modResults.append({\n",
      "/Users/charlotte/miniconda3/envs/diamonds/lib/python3.10/site-packages/func_e/FUNC_E.py:279: FutureWarning: The frame.append method is deprecated and will be removed from pandas in a future version. Use pandas.concat instead.\n",
      "  modResults = modResults.append({\n",
      "/Users/charlotte/miniconda3/envs/diamonds/lib/python3.10/site-packages/func_e/FUNC_E.py:279: FutureWarning: The frame.append method is deprecated and will be removed from pandas in a future version. Use pandas.concat instead.\n",
      "  modResults = modResults.append({\n",
      "/Users/charlotte/miniconda3/envs/diamonds/lib/python3.10/site-packages/func_e/FUNC_E.py:279: FutureWarning: The frame.append method is deprecated and will be removed from pandas in a future version. Use pandas.concat instead.\n",
      "  modResults = modResults.append({\n",
      "/Users/charlotte/miniconda3/envs/diamonds/lib/python3.10/site-packages/func_e/FUNC_E.py:279: FutureWarning: The frame.append method is deprecated and will be removed from pandas in a future version. Use pandas.concat instead.\n",
      "  modResults = modResults.append({\n",
      "/Users/charlotte/miniconda3/envs/diamonds/lib/python3.10/site-packages/func_e/FUNC_E.py:279: FutureWarning: The frame.append method is deprecated and will be removed from pandas in a future version. Use pandas.concat instead.\n",
      "  modResults = modResults.append({\n",
      "/Users/charlotte/miniconda3/envs/diamonds/lib/python3.10/site-packages/func_e/FUNC_E.py:279: FutureWarning: The frame.append method is deprecated and will be removed from pandas in a future version. Use pandas.concat instead.\n",
      "  modResults = modResults.append({\n",
      "/Users/charlotte/miniconda3/envs/diamonds/lib/python3.10/site-packages/func_e/FUNC_E.py:279: FutureWarning: The frame.append method is deprecated and will be removed from pandas in a future version. Use pandas.concat instead.\n",
      "  modResults = modResults.append({\n",
      "/Users/charlotte/miniconda3/envs/diamonds/lib/python3.10/site-packages/func_e/FUNC_E.py:279: FutureWarning: The frame.append method is deprecated and will be removed from pandas in a future version. Use pandas.concat instead.\n",
      "  modResults = modResults.append({\n",
      "/Users/charlotte/miniconda3/envs/diamonds/lib/python3.10/site-packages/func_e/FUNC_E.py:279: FutureWarning: The frame.append method is deprecated and will be removed from pandas in a future version. Use pandas.concat instead.\n",
      "  modResults = modResults.append({\n",
      "/Users/charlotte/miniconda3/envs/diamonds/lib/python3.10/site-packages/func_e/FUNC_E.py:279: FutureWarning: The frame.append method is deprecated and will be removed from pandas in a future version. Use pandas.concat instead.\n",
      "  modResults = modResults.append({\n",
      "/Users/charlotte/miniconda3/envs/diamonds/lib/python3.10/site-packages/func_e/FUNC_E.py:279: FutureWarning: The frame.append method is deprecated and will be removed from pandas in a future version. Use pandas.concat instead.\n",
      "  modResults = modResults.append({\n"
     ]
    }
   ],
   "source": [
    "    matrix, clusters, degreelist = initialize_matrix_clusters_degreelist(\"../data/networks/DREAM_files/dream_3.txt\", \"../data/results/DREAM-3-cc/d3_5_100.json-cluster.json\")\n",
    "    \n",
    "    qualifying_clusters, qualifying_proteins = find_clusters_and_proteins_together(matrix, clusters, degreelist, cluster_ratio=pick_ratio(clusters.get_num_clusters()), protein_ratio=.05, protein_constant=2)\n",
    "\n",
    "\n",
    "    genomic_background_filepath = '../data/testing_data/protein_list.txt'\n",
    "    termlist = vocabs.getTerms(['GO'])\n",
    "    term_mapping_filepath = 'term_mapping.txt'\n",
    "    create_term_mapping_list('../data/go-results/dream_3_go_results.tsv', term_mapping_filepath)\n",
    "\n",
    "\n",
    "\n",
    "    og_clusters_querylist_path = 'original_querylist.txt'\n",
    "    clusters.print_querylist_of_clusters_to_file(qualifying_clusters, og_clusters_querylist_path)\n",
    "\n",
    "\n",
    "\n",
    "    original_fe = FUNC_E()\n",
    "    original_fe.importFiles({\n",
    "        'background': genomic_background_filepath, \n",
    "        'query': og_clusters_querylist_path, \n",
    "        'terms2features': term_mapping_filepath })\n",
    "    original_fe.setTerms(termlist)\n",
    "    original_fe.setEnrichmentSettings({'ecut': 0.01})\n",
    "    original_fe.run(cluster=False)\n",
    "\n",
    "\n",
    "\n",
    "    update_clusters(clusters, qualifying_proteins)\n",
    "\n",
    "\n",
    "    updated_clusters_querylist_path = 'new_querylist.txt'\n",
    "    clusters.print_querylist_of_clusters_to_file(qualifying_clusters, updated_clusters_querylist_path)\n",
    "\n",
    "    updated_fe = FUNC_E()\n",
    "    updated_fe.importFiles({\n",
    "        'background': genomic_background_filepath, \n",
    "        'query': updated_clusters_querylist_path, \n",
    "        'terms2features': term_mapping_filepath })\n",
    "    updated_fe.setTerms(termlist)\n",
    "    updated_fe.setEnrichmentSettings({'ecut': 0.01})\n",
    "    updated_fe.run(cluster=False)\n",
    "    \n",
    "    # print(f\"ORIGINAL CLUSTERS TABLE:\\n{original_fe.enrichment.sort_values('Fishers_pvalue')}\")\n",
    "    # print(f\"UPDATED CLUSTERS TABLE:\\n{updated_fe.enrichment.sort_values('Fishers_pvalue')}\")\n",
    "\n",
    "\n"
   ]
  },
  {
   "cell_type": "code",
   "execution_count": 23,
   "metadata": {},
   "outputs": [],
   "source": [
    "original_df = original_fe.enrichment[['Module', 'Term', 'Fishers_pvalue']].copy()\n",
    "original_df['Module'] = original_df['Module'] + ' ' + original_df['Term']\n",
    "original_df.drop('Term', axis=1, inplace=True)\n"
   ]
  },
  {
   "cell_type": "code",
   "execution_count": 24,
   "metadata": {},
   "outputs": [],
   "source": [
    "\n",
    "updated_df = updated_fe.enrichment[['Module', 'Term', 'Fishers_pvalue']].copy()\n",
    "\n",
    "updated_df['Module'] = updated_df['Module'] + ' ' + updated_df['Term']\n",
    "updated_df.drop('Term', axis=1, inplace=True)\n",
    "updated_df.rename(columns = {'Fishers_pvalue':'Updated_Fishers_pvalue'}, inplace = True)\n",
    "\n"
   ]
  },
  {
   "cell_type": "code",
   "execution_count": 26,
   "metadata": {},
   "outputs": [
    {
     "name": "stdout",
     "output_type": "stream",
     "text": [
      "ORIGINAL CLUSTERS TABLE:\n",
      "                    Module Fishers_pvalue\n",
      "0   cluster_161 GO:0030175       0.002023\n",
      "1   cluster_161 GO:0032465       0.007341\n",
      "2   cluster_164 GO:0005741       0.007455\n",
      "3   cluster_164 GO:0043276       0.008671\n",
      "4   cluster_164 GO:0045453       0.000438\n",
      "5   cluster_164 GO:0060444       0.008671\n",
      "6   cluster_174 GO:0050679       0.005841\n",
      "7   cluster_185 GO:0016241       0.007339\n",
      "8   cluster_185 GO:0016485       0.005832\n",
      "9   cluster_185 GO:0030216       0.004486\n",
      "10  cluster_185 GO:0055038       0.007339\n",
      "11  cluster_185 GO:0070507       0.002297\n",
      "12  cluster_185 GO:0072659       0.001876\n",
      "13   cluster_25 GO:0007346       0.007487\n",
      "14   cluster_25 GO:0032728       0.005714\n",
      "15   cluster_25 GO:0035666       0.007487\n",
      "16   cluster_29 GO:0001656       0.002948\n",
      "17   cluster_29 GO:0008630       0.003013\n",
      "18   cluster_29 GO:0048536        0.00033\n",
      "19   cluster_29 GO:0071897       0.002948\n",
      "20   cluster_30 GO:0007223       0.004462\n",
      "21   cluster_30 GO:0030136       0.003596\n",
      "22   cluster_30 GO:0043280       0.007963\n",
      "23   cluster_36 GO:0000209        0.00291\n",
      "24   cluster_36 GO:0006511       0.000253\n",
      "25   cluster_36 GO:0016567       0.008488\n",
      "26   cluster_36 GO:0016579       0.004208\n",
      "27   cluster_36 GO:0031145       0.006625\n",
      "28   cluster_36 GO:0031398       0.007914\n",
      "29   cluster_36 GO:0043687        0.00483\n",
      "30   cluster_36 GO:1901990        0.00638\n",
      "31   cluster_49 GO:0005109       0.005532\n",
      "32   cluster_49 GO:0031267       0.006296\n",
      "33   cluster_49 GO:1904886       0.009311\n",
      "34   cluster_73 GO:0033574       0.008516\n",
      "35   cluster_73 GO:0043409       0.003299\n",
      "36   cluster_73 GO:0043539       0.008516\n",
      "37   cluster_75 GO:0030308       0.006722\n",
      "38   cluster_99 GO:0018105       0.006975\n",
      "39   cluster_99 GO:0070371       0.004183\n",
      "UPDATED CLUSTERS TABLE:\n",
      "                    Module Updated_Fishers_pvalue\n",
      "0   cluster_152 GO:0034199               0.005115\n",
      "1   cluster_152 GO:0034704               0.005818\n",
      "2   cluster_152 GO:0071377               0.009039\n",
      "3   cluster_161 GO:0030175               0.002202\n",
      "4   cluster_161 GO:0032465               0.007827\n",
      "5   cluster_161 GO:2001234               0.005747\n",
      "6   cluster_164 GO:0005741               0.003026\n",
      "7   cluster_164 GO:0034198               0.005362\n",
      "8   cluster_164 GO:0038095                0.00826\n",
      "9   cluster_164 GO:0045453               0.000849\n",
      "10  cluster_164 GO:0071345               0.003698\n",
      "11  cluster_164 GO:1900740               0.007309\n",
      "12  cluster_164 GO:2000811               0.001537\n",
      "13  cluster_164 GO:2001244               0.008039\n",
      "14  cluster_174 GO:0050679               0.005841\n",
      "15  cluster_185 GO:0006417               0.004975\n",
      "16  cluster_185 GO:0016239               0.004556\n",
      "17  cluster_185 GO:0016485               0.009493\n",
      "18  cluster_185 GO:0030216               0.007322\n",
      "19  cluster_185 GO:0032007               0.003403\n",
      "20  cluster_185 GO:0070507                0.00377\n",
      "21  cluster_185 GO:0072659               0.000295\n",
      "22  cluster_185 GO:0090630               0.001592\n",
      "23   cluster_25 GO:0005884               0.006403\n",
      "24   cluster_25 GO:0045453               0.004022\n",
      "25   cluster_25 GO:0048010               0.009136\n",
      "26   cluster_29 GO:0001656               0.003665\n",
      "27   cluster_29 GO:0005876               0.007196\n",
      "28   cluster_29 GO:0006977               0.005192\n",
      "29   cluster_29 GO:0008630               0.003968\n",
      "30   cluster_29 GO:0018107               0.004607\n",
      "31   cluster_29 GO:0048536               0.000441\n",
      "32   cluster_29 GO:0071897               0.003665\n",
      "33   cluster_30 GO:0007223               0.004462\n",
      "34   cluster_30 GO:0030136               0.003596\n",
      "35   cluster_30 GO:0043280               0.007963\n",
      "36   cluster_36 GO:0000209                0.00291\n",
      "37   cluster_36 GO:0006511               0.000253\n",
      "38   cluster_36 GO:0016567               0.008488\n",
      "39   cluster_36 GO:0016579               0.004208\n",
      "40   cluster_36 GO:0031145               0.006625\n",
      "41   cluster_36 GO:0031398               0.007914\n",
      "42   cluster_36 GO:0043687                0.00483\n",
      "43   cluster_36 GO:1901990                0.00638\n",
      "44   cluster_49 GO:0038128               0.006028\n",
      "45   cluster_49 GO:0043406               0.005061\n",
      "46   cluster_73 GO:0007268               0.009189\n",
      "47   cluster_73 GO:0018105                0.00569\n",
      "48   cluster_73 GO:0043409               0.006297\n",
      "49   cluster_73 GO:0046827                0.00736\n",
      "50   cluster_75 GO:0030308               0.006722\n",
      "51   cluster_99 GO:0018105               0.006975\n",
      "52   cluster_99 GO:0070371               0.004183\n"
     ]
    }
   ],
   "source": [
    "print(f\"ORIGINAL CLUSTERS TABLE:\\n{original_df}\")\n",
    "print(f\"UPDATED CLUSTERS TABLE:\\n{updated_df}\")"
   ]
  },
  {
   "cell_type": "code",
   "execution_count": 32,
   "metadata": {},
   "outputs": [],
   "source": [
    "results_df = pd.merge(original_df, updated_df, on=['Module'], how='outer')"
   ]
  },
  {
   "cell_type": "code",
   "execution_count": 33,
   "metadata": {},
   "outputs": [
    {
     "name": "stdout",
     "output_type": "stream",
     "text": [
      "                    Module Fishers_pvalue Updated_Fishers_pvalue\n",
      "0   cluster_161 GO:0030175       0.002023               0.002202\n",
      "1   cluster_161 GO:0032465       0.007341               0.007827\n",
      "2   cluster_164 GO:0005741       0.007455               0.003026\n",
      "3   cluster_164 GO:0043276       0.008671                    NaN\n",
      "4   cluster_164 GO:0045453       0.000438               0.000849\n",
      "..                     ...            ...                    ...\n",
      "60   cluster_49 GO:0038128            NaN               0.006028\n",
      "61   cluster_49 GO:0043406            NaN               0.005061\n",
      "62   cluster_73 GO:0007268            NaN               0.009189\n",
      "63   cluster_73 GO:0018105            NaN                0.00569\n",
      "64   cluster_73 GO:0046827            NaN                0.00736\n",
      "\n",
      "[65 rows x 3 columns]\n"
     ]
    }
   ],
   "source": [
    "print(results_df)"
   ]
  },
  {
   "cell_type": "code",
   "execution_count": 35,
   "metadata": {},
   "outputs": [],
   "source": [
    "results_df.to_csv(\"results.txt\", sep='\\t')\n"
   ]
  },
  {
   "cell_type": "code",
   "execution_count": 38,
   "metadata": {},
   "outputs": [],
   "source": [
    "import matplotlib.pyplot as plt"
   ]
  },
  {
   "cell_type": "code",
   "execution_count": 39,
   "metadata": {},
   "outputs": [
    {
     "data": {
      "text/plain": [
       "<AxesSubplot:xlabel='Module'>"
      ]
     },
     "execution_count": 39,
     "metadata": {},
     "output_type": "execute_result"
    },
    {
     "data": {
      "image/png": "[encoded data removed]",
      "text/plain": [
       "<Figure size 432x288 with 1 Axes>"
      ]
     },
     "metadata": {
      "needs_background": "light"
     },
     "output_type": "display_data"
    }
   ],
   "source": [
    "results_df.plot(x=\"Module\", y=[\"Fishers_pvalue\", \"Updated_Fishers_pvalue\"], kind=\"bar\")"
   ]
  },
  {
   "cell_type": "code",
   "execution_count": 40,
   "metadata": {},
   "outputs": [],
   "source": [
    "changes_df = (results_df.copy()).dropna(axis=0)"
   ]
  },
  {
   "cell_type": "code",
   "execution_count": 41,
   "metadata": {},
   "outputs": [
    {
     "data": {
      "text/plain": [
       "<AxesSubplot:xlabel='Module'>"
      ]
     },
     "execution_count": 41,
     "metadata": {},
     "output_type": "execute_result"
    },
    {
     "data": {
      "image/png": "[encoded data removed]",
      "text/plain": [
       "<Figure size 432x288 with 1 Axes>"
      ]
     },
     "metadata": {
      "needs_background": "light"
     },
     "output_type": "display_data"
    }
   ],
   "source": [
    "changes_df.plot(x=\"Module\", y=[\"Fishers_pvalue\", \"Updated_Fishers_pvalue\"], kind=\"bar\")"
   ]
  },
  {
   "cell_type": "markdown",
   "metadata": {},
   "source": [
    "this graph ^ is interesting bc it shows that p-values increase (less significant). this shows that maybe we are adding proteins to the wrong clusters. it will be interesting to go back and tweak the functions and see how adding different things affects everything"
   ]
  }
 ],
 "metadata": {
  "kernelspec": {
   "display_name": "Python 3.10.4 ('diamonds')",
   "language": "python",
   "name": "python3"
  },
  "language_info": {
   "codemirror_mode": {
    "name": "ipython",
    "version": 3
   },
   "file_extension": ".py",
   "mimetype": "text/x-python",
   "name": "python",
   "nbconvert_exporter": "python",
   "pygments_lexer": "ipython3",
   "version": "3.10.4"
  },
  "orig_nbformat": 4,
  "vscode": {
   "interpreter": {
    "hash": "e113e58b579a48e5732235004b32d872074e11125058c2d5e4f294336344a2ee"
   }
  }
 },
 "nbformat": 4,
 "nbformat_minor": 2
}
