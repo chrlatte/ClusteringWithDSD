{
 "cells": [
  {
   "cell_type": "code",
   "execution_count": 6,
   "metadata": {},
   "outputs": [],
   "source": [
    "\n",
    "from matrix_class import *\n",
    "from cluster_class import *\n",
    "from degreelist_class import *\n",
    "import json \n",
    "\n",
    "from connected_components_utils import *"
   ]
  },
  {
   "cell_type": "code",
   "execution_count": 2,
   "metadata": {},
   "outputs": [],
   "source": [
    "testing_matrix_file = \"../data/testing_data/fake_cluster_dream.txt\"\n",
    "testing_cluster_file = \"../data/testing_data/fake_cluster.txt\"\n",
    "\n",
    "dream3_matrix_file = \"../data/networks/DREAM_files/dream_3.txt\"\n",
    "dream3_cluster_file = \"../data/results/DREAM-3-cc/d3_5_100.json-cluster.json\" \n",
    "\n",
    "dream3_clusters_dict = {}\n",
    "# convert actual cluster file to a dictionary!!\n",
    "with open(dream3_cluster_file,\"r\") as cluster_dict_file:\n",
    "    dream3_clusters_dict = json.load(cluster_dict_file)"
   ]
  },
  {
   "cell_type": "code",
   "execution_count": 3,
   "metadata": {},
   "outputs": [],
   "source": [
    "testing_matrix = ProteinMatrix(testing_matrix_file)\n",
    "testing_clusters = AllClusters(testing_cluster_file)\n",
    "testing_degreelist = DegreeList(testing_matrix)"
   ]
  },
  {
   "cell_type": "code",
   "execution_count": 4,
   "metadata": {},
   "outputs": [],
   "source": [
    "clusters = AllClusters(protein_to_cluster_dict=dream3_clusters_dict)\n",
    "matrix = ProteinMatrix(dream3_matrix_file)\n",
    "degreelist = DegreeList(matrix)"
   ]
  },
  {
   "cell_type": "code",
   "execution_count": null,
   "metadata": {},
   "outputs": [],
   "source": []
  },
  {
   "cell_type": "code",
   "execution_count": 7,
   "metadata": {},
   "outputs": [],
   "source": [
    "qualifying_clusters, qualifying_proteins = find_clusters_and_proteins_together(matrix, clusters, degreelist, cluster_ratio=pick_ratio(clusters.get_num_clusters()), protein_ratio=.05, protein_constant=2)"
   ]
  },
  {
   "cell_type": "code",
   "execution_count": null,
   "metadata": {},
   "outputs": [],
   "source": []
  }
 ],
 "metadata": {
  "kernelspec": {
   "display_name": "Python 3.10.4 ('diamonds')",
   "language": "python",
   "name": "python3"
  },
  "language_info": {
   "codemirror_mode": {
    "name": "ipython",
    "version": 3
   },
   "file_extension": ".py",
   "mimetype": "text/x-python",
   "name": "python",
   "nbconvert_exporter": "python",
   "pygments_lexer": "ipython3",
   "version": "3.10.4"
  },
  "orig_nbformat": 4,
  "vscode": {
   "interpreter": {
    "hash": "e113e58b579a48e5732235004b32d872074e11125058c2d5e4f294336344a2ee"
   }
  }
 },
 "nbformat": 4,
 "nbformat_minor": 2
}
