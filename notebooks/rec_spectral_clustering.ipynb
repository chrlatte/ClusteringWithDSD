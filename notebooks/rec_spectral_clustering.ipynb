{
 "cells": [
  {
   "cell_type": "code",
   "execution_count": 9,
   "id": "62190cdc-570b-4a5b-95ae-6dca5f94e8ae",
   "metadata": {},
   "outputs": [],
   "source": [
    "import numpy as np\n",
    "from scipy import linalg\n",
    "from sklearn.cluster import KMeans\n",
    "\n",
    "def recursive_spectral_clustering(D, svddim, nocluster, is_dist = True, minsize = 5, maxsize = 100):\n",
    "\n",
    "    def compute_rbf(Dst, gamma, threshold = 0.01):\n",
    "        A = np.exp(- gamma * Dst * Dst)\n",
    "        A = np.where(A < threshold, 0, A)\n",
    "        return A\n",
    "\n",
    "    def compute_Lsym(A):\n",
    "        e = np.ones((A.shape[0], 1))\n",
    "        d = (A @ e)\n",
    "        L = A - np.diag(d.flatten())\n",
    "\n",
    "        d1_2 = np.sqrt(d)\n",
    "        dr1_2 = np.where(d1_2 == 0, 0, 1/d1_2)\n",
    "\n",
    "        return ((L / d) / d.T)\n",
    "\n",
    "    def compute_spectrum(A, svddim):\n",
    "        Lsym = compute_Lsym(A)\n",
    "        U, _, _ = linalg.svd(Lsym)\n",
    "\n",
    "        Uk = U[:, :svddim] \n",
    "        s = np.sqrt((Uk * Uk) @ np.ones((svddim, 1)))\n",
    "        Uk = Uk / s\n",
    "        return Uk\n",
    "\n",
    "    def spectral_cluster(Uk, ids, clster, svddim = 100):\n",
    "        Uki = Uk[ids, :]\n",
    "        kmeans = KMeans(n_clusters = clster).fit(Uki)\n",
    "        labels = kmeans.labels_\n",
    "\n",
    "        cs = [[]] * clster\n",
    "        for i, l in enumerate(labels):\n",
    "            cs[l].append(ids[i])\n",
    "        return cs\n",
    "    #################\n",
    "    if is_dist:\n",
    "        A = compute_rbf(D)\n",
    "    else:\n",
    "        A = D\n",
    "    Lsym = compute_Lsym(A)\n",
    "    print(Lsym)\n",
    "    print(\"Computing spectrum...\")\n",
    "    Uk = compute_spectrum(Lsym, svddim)\n",
    "    \n",
    "    clusters = {}\n",
    "    # Take the whole ids\n",
    "    ids = [np.arange(Lsym.shape[0])]\n",
    "    ccount = 0\n",
    "    while(len(ids) > 0):\n",
    "        idx = pop(ids)\n",
    "        clusters = spectral_cluster(Uk, idx, nocluster)\n",
    "        for c in clusters:\n",
    "            if len(c) > maxsize:\n",
    "                ids.append(np.arange(c))\n",
    "            elif len(c) > minsize:\n",
    "                clusters[ccount] = c\n",
    "                ccount += 1\n",
    "            # else, discard\n",
    "    return clusters"
   ]
  },
  {
   "cell_type": "code",
   "execution_count": 6,
   "id": "1db5f078-a56a-4389-8f12-4b3d53b9e1fd",
   "metadata": {},
   "outputs": [
    {
     "data": {
      "text/plain": [
       "array([[0.24836601],\n",
       "       [0.00653595],\n",
       "       [0.04575163],\n",
       "       ...,\n",
       "       [0.04575163],\n",
       "       [0.00653595],\n",
       "       [0.06535948]])"
      ]
     },
     "execution_count": 6,
     "metadata": {},
     "output_type": "execute_result"
    }
   ],
   "source": [
    "import pandas as pd\n",
    "import numpy as np\n",
    "Adf = pd.read_csv(\"../data/networks/DREAM_files/dream_3.txt\", sep = \" \", header = None)\n",
    "prots = set(Adf[0]).union(Adf[1])\n",
    "protmap = {k : i for i, k in enumerate(prots)}\n",
    "Adf[0] = Adf[0].apply(lambda x : protmap[x])\n",
    "Adf[1] = Adf[1].apply(lambda x : protmap[x])\n",
    "A = np.zeros((len(prots), len(prots)))\n",
    "for p, q, w in Adf.values:\n",
    "    A[int(p+0.2), int(q+0.2)] = w\n",
    "    A[int(q+0.2), int(p+0.2)] = w\n",
    "esum = A @ np.ones((A.shape[0], 1))\n"
   ]
  },
  {
   "cell_type": "code",
   "execution_count": 7,
   "id": "33483213-ef4b-4b00-9ff8-ac348956ff53",
   "metadata": {},
   "outputs": [],
   "source": [
    "for i, s in enumerate(esum):\n",
    "    if s == 0:\n",
    "        A[i, i] = 1"
   ]
  },
  {
   "cell_type": "code",
   "execution_count": 10,
   "id": "a5d7db56-41f3-45f4-b2fb-d70469d97af7",
   "metadata": {},
   "outputs": [
    {
     "name": "stdout",
     "output_type": "stream",
     "text": [
      "[[  -4.02631579    0.            0.         ...    0.\n",
      "     0.            0.        ]\n",
      " [   0.         -153.            0.         ...    0.\n",
      "     0.            0.        ]\n",
      " [   0.            0.          -21.85714286 ...    0.\n",
      "     0.            0.        ]\n",
      " ...\n",
      " [   0.            0.            0.         ...  -21.85714286\n",
      "     0.            0.        ]\n",
      " [   0.            0.            0.         ...    0.\n",
      "  -153.            0.        ]\n",
      " [   0.            0.            0.         ...    0.\n",
      "     0.          -15.3       ]]\n",
      "Computing spectrum...\n"
     ]
    },
    {
     "name": "stderr",
     "output_type": "stream",
     "text": [
      "/tmp/ipykernel_14360/717584717.py:17: RuntimeWarning: invalid value encountered in sqrt\n",
      "  d1_2 = np.sqrt(d)\n",
      "/tmp/ipykernel_14360/717584717.py:18: RuntimeWarning: divide by zero encountered in divide\n",
      "  dr1_2 = np.where(d1_2 == 0, 0, 1/d1_2)\n",
      "/tmp/ipykernel_14360/717584717.py:20: RuntimeWarning: divide by zero encountered in divide\n",
      "  return ((L / d) / d.T)\n",
      "/tmp/ipykernel_14360/717584717.py:20: RuntimeWarning: invalid value encountered in divide\n",
      "  return ((L / d) / d.T)\n"
     ]
    },
    {
     "ename": "ValueError",
     "evalue": "array must not contain infs or NaNs",
     "output_type": "error",
     "traceback": [
      "\u001b[0;31m---------------------------------------------------------------------------\u001b[0m",
      "\u001b[0;31mValueError\u001b[0m                                Traceback (most recent call last)",
      "Cell \u001b[0;32mIn [10], line 1\u001b[0m\n\u001b[0;32m----> 1\u001b[0m out \u001b[38;5;241m=\u001b[39m \u001b[43mrecursive_spectral_clustering\u001b[49m\u001b[43m(\u001b[49m\u001b[43mA\u001b[49m\u001b[43m,\u001b[49m\u001b[43m \u001b[49m\u001b[43msvddim\u001b[49m\u001b[43m \u001b[49m\u001b[38;5;241;43m=\u001b[39;49m\u001b[43m \u001b[49m\u001b[38;5;241;43m50\u001b[39;49m\u001b[43m,\u001b[49m\u001b[43m \u001b[49m\u001b[43mnocluster\u001b[49m\u001b[43m \u001b[49m\u001b[38;5;241;43m=\u001b[39;49m\u001b[43m \u001b[49m\u001b[38;5;241;43m10\u001b[39;49m\u001b[43m,\u001b[49m\u001b[43m \u001b[49m\u001b[43mis_dist\u001b[49m\u001b[43m \u001b[49m\u001b[38;5;241;43m=\u001b[39;49m\u001b[43m \u001b[49m\u001b[38;5;28;43;01mFalse\u001b[39;49;00m\u001b[43m)\u001b[49m\n",
      "Cell \u001b[0;32mIn [9], line 48\u001b[0m, in \u001b[0;36mrecursive_spectral_clustering\u001b[0;34m(D, svddim, nocluster, is_dist, minsize, maxsize)\u001b[0m\n\u001b[1;32m     46\u001b[0m \u001b[38;5;28mprint\u001b[39m(Lsym)\n\u001b[1;32m     47\u001b[0m \u001b[38;5;28mprint\u001b[39m(\u001b[38;5;124m\"\u001b[39m\u001b[38;5;124mComputing spectrum...\u001b[39m\u001b[38;5;124m\"\u001b[39m)\n\u001b[0;32m---> 48\u001b[0m Uk \u001b[38;5;241m=\u001b[39m \u001b[43mcompute_spectrum\u001b[49m\u001b[43m(\u001b[49m\u001b[43mLsym\u001b[49m\u001b[43m,\u001b[49m\u001b[43m \u001b[49m\u001b[43msvddim\u001b[49m\u001b[43m)\u001b[49m\n\u001b[1;32m     50\u001b[0m clusters \u001b[38;5;241m=\u001b[39m {}\n\u001b[1;32m     51\u001b[0m \u001b[38;5;66;03m# Take the whole ids\u001b[39;00m\n",
      "Cell \u001b[0;32mIn [9], line 24\u001b[0m, in \u001b[0;36mrecursive_spectral_clustering.<locals>.compute_spectrum\u001b[0;34m(A, svddim)\u001b[0m\n\u001b[1;32m     22\u001b[0m \u001b[38;5;28;01mdef\u001b[39;00m \u001b[38;5;21mcompute_spectrum\u001b[39m(A, svddim):\n\u001b[1;32m     23\u001b[0m     Lsym \u001b[38;5;241m=\u001b[39m compute_Lsym(A)\n\u001b[0;32m---> 24\u001b[0m     U, _, _ \u001b[38;5;241m=\u001b[39m \u001b[43mlinalg\u001b[49m\u001b[38;5;241;43m.\u001b[39;49m\u001b[43msvd\u001b[49m\u001b[43m(\u001b[49m\u001b[43mLsym\u001b[49m\u001b[43m)\u001b[49m\n\u001b[1;32m     26\u001b[0m     Uk \u001b[38;5;241m=\u001b[39m U[:, :svddim] \n\u001b[1;32m     27\u001b[0m     s \u001b[38;5;241m=\u001b[39m np\u001b[38;5;241m.\u001b[39msqrt((Uk \u001b[38;5;241m*\u001b[39m Uk) \u001b[38;5;241m@\u001b[39m np\u001b[38;5;241m.\u001b[39mones((svddim, \u001b[38;5;241m1\u001b[39m)))\n",
      "File \u001b[0;32m~/.conda/envs/main/lib/python3.9/site-packages/scipy/linalg/_decomp_svd.py:108\u001b[0m, in \u001b[0;36msvd\u001b[0;34m(a, full_matrices, compute_uv, overwrite_a, check_finite, lapack_driver)\u001b[0m\n\u001b[1;32m     13\u001b[0m \u001b[38;5;28;01mdef\u001b[39;00m \u001b[38;5;21msvd\u001b[39m(a, full_matrices\u001b[38;5;241m=\u001b[39m\u001b[38;5;28;01mTrue\u001b[39;00m, compute_uv\u001b[38;5;241m=\u001b[39m\u001b[38;5;28;01mTrue\u001b[39;00m, overwrite_a\u001b[38;5;241m=\u001b[39m\u001b[38;5;28;01mFalse\u001b[39;00m,\n\u001b[1;32m     14\u001b[0m         check_finite\u001b[38;5;241m=\u001b[39m\u001b[38;5;28;01mTrue\u001b[39;00m, lapack_driver\u001b[38;5;241m=\u001b[39m\u001b[38;5;124m'\u001b[39m\u001b[38;5;124mgesdd\u001b[39m\u001b[38;5;124m'\u001b[39m):\n\u001b[1;32m     15\u001b[0m     \u001b[38;5;124;03m\"\"\"\u001b[39;00m\n\u001b[1;32m     16\u001b[0m \u001b[38;5;124;03m    Singular Value Decomposition.\u001b[39;00m\n\u001b[1;32m     17\u001b[0m \n\u001b[0;32m   (...)\u001b[0m\n\u001b[1;32m    106\u001b[0m \n\u001b[1;32m    107\u001b[0m \u001b[38;5;124;03m    \"\"\"\u001b[39;00m\n\u001b[0;32m--> 108\u001b[0m     a1 \u001b[38;5;241m=\u001b[39m \u001b[43m_asarray_validated\u001b[49m\u001b[43m(\u001b[49m\u001b[43ma\u001b[49m\u001b[43m,\u001b[49m\u001b[43m \u001b[49m\u001b[43mcheck_finite\u001b[49m\u001b[38;5;241;43m=\u001b[39;49m\u001b[43mcheck_finite\u001b[49m\u001b[43m)\u001b[49m\n\u001b[1;32m    109\u001b[0m     \u001b[38;5;28;01mif\u001b[39;00m \u001b[38;5;28mlen\u001b[39m(a1\u001b[38;5;241m.\u001b[39mshape) \u001b[38;5;241m!=\u001b[39m \u001b[38;5;241m2\u001b[39m:\n\u001b[1;32m    110\u001b[0m         \u001b[38;5;28;01mraise\u001b[39;00m \u001b[38;5;167;01mValueError\u001b[39;00m(\u001b[38;5;124m'\u001b[39m\u001b[38;5;124mexpected matrix\u001b[39m\u001b[38;5;124m'\u001b[39m)\n",
      "File \u001b[0;32m~/.conda/envs/main/lib/python3.9/site-packages/scipy/_lib/_util.py:252\u001b[0m, in \u001b[0;36m_asarray_validated\u001b[0;34m(a, check_finite, sparse_ok, objects_ok, mask_ok, as_inexact)\u001b[0m\n\u001b[1;32m    250\u001b[0m         \u001b[38;5;28;01mraise\u001b[39;00m \u001b[38;5;167;01mValueError\u001b[39;00m(\u001b[38;5;124m'\u001b[39m\u001b[38;5;124mmasked arrays are not supported\u001b[39m\u001b[38;5;124m'\u001b[39m)\n\u001b[1;32m    251\u001b[0m toarray \u001b[38;5;241m=\u001b[39m np\u001b[38;5;241m.\u001b[39masarray_chkfinite \u001b[38;5;28;01mif\u001b[39;00m check_finite \u001b[38;5;28;01melse\u001b[39;00m np\u001b[38;5;241m.\u001b[39masarray\n\u001b[0;32m--> 252\u001b[0m a \u001b[38;5;241m=\u001b[39m \u001b[43mtoarray\u001b[49m\u001b[43m(\u001b[49m\u001b[43ma\u001b[49m\u001b[43m)\u001b[49m\n\u001b[1;32m    253\u001b[0m \u001b[38;5;28;01mif\u001b[39;00m \u001b[38;5;129;01mnot\u001b[39;00m objects_ok:\n\u001b[1;32m    254\u001b[0m     \u001b[38;5;28;01mif\u001b[39;00m a\u001b[38;5;241m.\u001b[39mdtype \u001b[38;5;129;01mis\u001b[39;00m np\u001b[38;5;241m.\u001b[39mdtype(\u001b[38;5;124m'\u001b[39m\u001b[38;5;124mO\u001b[39m\u001b[38;5;124m'\u001b[39m):\n",
      "File \u001b[0;32m~/.conda/envs/main/lib/python3.9/site-packages/numpy/lib/function_base.py:627\u001b[0m, in \u001b[0;36masarray_chkfinite\u001b[0;34m(a, dtype, order)\u001b[0m\n\u001b[1;32m    625\u001b[0m a \u001b[38;5;241m=\u001b[39m asarray(a, dtype\u001b[38;5;241m=\u001b[39mdtype, order\u001b[38;5;241m=\u001b[39morder)\n\u001b[1;32m    626\u001b[0m \u001b[38;5;28;01mif\u001b[39;00m a\u001b[38;5;241m.\u001b[39mdtype\u001b[38;5;241m.\u001b[39mchar \u001b[38;5;129;01min\u001b[39;00m typecodes[\u001b[38;5;124m'\u001b[39m\u001b[38;5;124mAllFloat\u001b[39m\u001b[38;5;124m'\u001b[39m] \u001b[38;5;129;01mand\u001b[39;00m \u001b[38;5;129;01mnot\u001b[39;00m np\u001b[38;5;241m.\u001b[39misfinite(a)\u001b[38;5;241m.\u001b[39mall():\n\u001b[0;32m--> 627\u001b[0m     \u001b[38;5;28;01mraise\u001b[39;00m \u001b[38;5;167;01mValueError\u001b[39;00m(\n\u001b[1;32m    628\u001b[0m         \u001b[38;5;124m\"\u001b[39m\u001b[38;5;124marray must not contain infs or NaNs\u001b[39m\u001b[38;5;124m\"\u001b[39m)\n\u001b[1;32m    629\u001b[0m \u001b[38;5;28;01mreturn\u001b[39;00m a\n",
      "\u001b[0;31mValueError\u001b[0m: array must not contain infs or NaNs"
     ]
    }
   ],
   "source": [
    "out = recursive_spectral_clustering(A, svddim = 50, nocluster = 10, is_dist = False)"
   ]
  },
  {
   "cell_type": "code",
   "execution_count": null,
   "id": "75a771ee-5805-4cc1-b6fb-a70eb226c5e5",
   "metadata": {},
   "outputs": [],
   "source": []
  }
 ],
 "metadata": {
  "kernelspec": {
   "display_name": "main",
   "language": "python",
   "name": "main"
  },
  "language_info": {
   "codemirror_mode": {
    "name": "ipython",
    "version": 3
   },
   "file_extension": ".py",
   "mimetype": "text/x-python",
   "name": "python",
   "nbconvert_exporter": "python",
   "pygments_lexer": "ipython3",
   "version": "3.9.15"
  }
 },
 "nbformat": 4,
 "nbformat_minor": 5
}
