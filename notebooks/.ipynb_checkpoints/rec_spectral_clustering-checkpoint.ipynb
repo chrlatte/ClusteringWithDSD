{
 "cells": [
  {
   "cell_type": "code",
   "execution_count": null,
   "id": "62190cdc-570b-4a5b-95ae-6dca5f94e8ae",
   "metadata": {},
   "outputs": [],
   "source": [
    "import numpy as np\n",
    "from scipy.linalg import SVD\n",
    "from sklearn.cluster import KMeans\n",
    "\n",
    "def recursive_spectral_clustering(D, svddim, nocluster, is_dist = True, minsize = 5, maxsize = 100):\n",
    "\n",
    "    def compute_rbf(Dst, gamma, threshold = 0.01):\n",
    "        A = np.exp(- gamma * Dst * Dst)\n",
    "        A = np.where(A < threshold, 0, A)\n",
    "        return A\n",
    "\n",
    "    def compute_Lsym(A):\n",
    "        e = np.ones((A.shape[0], 1))\n",
    "        d = (A @ e)\n",
    "        L = A - np.diag(d.flatten())\n",
    "\n",
    "        d1_2 = np.sqrt(d)\n",
    "        dr1_2 = np.where(d1_2 == 0, 0, 1/d1_2)\n",
    "\n",
    "        return ((L / d) / d.T)\n",
    "\n",
    "    def compute_spectrum(A, svddim):\n",
    "        Lsym = compute_Lsym(A)\n",
    "        U, _, _ = SVD(Lsym)\n",
    "\n",
    "        Uk = U[:, :svddim] \n",
    "        s = np.sqrt((Uk * Uk) @ np.ones((svddim, 1)))\n",
    "        Uk = Uk / s\n",
    "        return Uk\n",
    "\n",
    "    def spectral_cluster(Uk, ids, clster, svddim = 100):\n",
    "        Uki = Uk[ids, :]\n",
    "        kmeans = KMeans(n_clusters = clster).fit(Uki)\n",
    "        labels = kmeans.labels_\n",
    "\n",
    "        cs = [[]] * clster\n",
    "        for i, l in enumerate(labels):\n",
    "            cs[l].append(ids[i])\n",
    "        return cs\n",
    "    #################\n",
    "    if is_dist:\n",
    "        A = compute_rbf(D)\n",
    "    else:\n",
    "        A = D\n",
    "    Lsym = compute_Lsym(A)\n",
    "    print(\"Computing spectrum...\")\n",
    "    Uk = compute_spectrum(Lsym, svddim)\n",
    "    \n",
    "    clusters = {}\n",
    "    # Take the whole ids\n",
    "    ids = [np.arange(Lsym.shape[0])]\n",
    "    ccount = 0\n",
    "    while(len(ids) > 0):\n",
    "        idx = pop(ids)\n",
    "        clusters = spectral_cluster(Uk, idx, nocluster)\n",
    "        for c in clusters:\n",
    "            if len(c) > maxsize:\n",
    "                ids.append(np.arange(c))\n",
    "            elif len(c) > minsize:\n",
    "                clusters[ccount] = c\n",
    "                ccount += 1\n",
    "            # else, discard\n",
    "    return clusters"
   ]
  },
  {
   "cell_type": "code",
   "execution_count": 9,
   "id": "1db5f078-a56a-4389-8f12-4b3d53b9e1fd",
   "metadata": {},
   "outputs": [
    {
     "data": {
      "text/plain": [
       "540.9019607843179"
      ]
     },
     "execution_count": 9,
     "metadata": {},
     "output_type": "execute_result"
    }
   ],
   "source": [
    "import pandas as pd\n",
    "import numpy as np\n",
    "Adf = pd.read_csv(\"../data/networks/DREAM_files/dream_3.txt\", sep = \" \", header = None)\n",
    "prots = set(Adf[0]).union(Adf[1])\n",
    "protmap = {k : i for i, k in enumerate(prots)}\n",
    "Adf[0] = Adf[0].apply(lambda x : protmap[x])\n",
    "Adf[1] = Adf[1].apply(lambda x : protmap[x])\n",
    "A = np.zeros((len(prots), len(prots)))\n",
    "for p, q, w in Adf.values:\n",
    "    A[int(p+0.2), int(q+0.2)] = w\n",
    "    A[int(q+0.2), int(p+0.2)] = w\n",
    "A"
   ]
  },
  {
   "cell_type": "code",
   "execution_count": null,
   "id": "a5d7db56-41f3-45f4-b2fb-d70469d97af7",
   "metadata": {},
   "outputs": [],
   "source": []
  }
 ],
 "metadata": {
  "kernelspec": {
   "display_name": "main",
   "language": "python",
   "name": "main"
  },
  "language_info": {
   "codemirror_mode": {
    "name": "ipython",
    "version": 3
   },
   "file_extension": ".py",
   "mimetype": "text/x-python",
   "name": "python",
   "nbconvert_exporter": "python",
   "pygments_lexer": "ipython3",
   "version": "3.9.15"
  }
 },
 "nbformat": 4,
 "nbformat_minor": 5
}
